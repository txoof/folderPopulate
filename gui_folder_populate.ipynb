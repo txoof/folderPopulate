{
 "cells": [
  {
   "cell_type": "code",
   "execution_count": 1,
   "metadata": {
    "collapsed": true
   },
   "outputs": [],
   "source": [
    "from Tkinter import Frame, Tk, BOTH, Text, Menu, END\n",
    "import tkFileDialog \n",
    "\n",
    "import csv\n",
    "import sys\n",
    "import os\n",
    "import re\n",
    "import datetime\n",
    "import unicodedata"
   ]
  },
  {
   "cell_type": "code",
   "execution_count": 2,
   "metadata": {
    "collapsed": false,
    "deletable": true,
    "editable": true
   },
   "outputs": [],
   "source": [
    "class Example(Frame):\n",
    "  \n",
    "    def __init__(self, parent):\n",
    "        Frame.__init__(self, parent)   \n",
    "         \n",
    "        self.parent = parent        \n",
    "        self.initUI()\n",
    "        \n",
    "        \n",
    "    def initUI(self):\n",
    "      \n",
    "        self.parent.title(\"File dialog\")\n",
    "        self.pack(fill=BOTH, expand=1)\n",
    "        \n",
    "        try:\n",
    "            #self.parent.attributes('-topmost', True)\n",
    "            self.parent.lift()\n",
    "        except Exception as e:\n",
    "            print e\n",
    "            \n",
    "        menubar = Menu(self.parent)\n",
    "        \n",
    "        self.parent.config(menu=menubar)\n",
    "\n",
    "        \n",
    "        fileMenu = Menu(menubar)\n",
    "        fileMenu.add_command(label=\"Open\", command=self.onOpen)\n",
    "        fileMenu.add_command(label = 'foobar', command = self.onOpen)\n",
    "        menubar.add_cascade(label=\"File\", menu=fileMenu)        \n",
    "        \n",
    "        \n",
    "        \n",
    "        self.txt = Text(self)\n",
    "        self.txt.pack(fill=BOTH, expand=1)\n",
    "\n",
    "\n",
    "    def onOpen(self):\n",
    "      \n",
    "        ftypes = [('All', '*'), ('txt files', '*.txt'), ('text files', '*.text'), ('csv files', '*.csv')]\n",
    "# #         ftypes = (('csv files', '*.csv'),('txt files', '*.txt*'),('text files', '*.text'),('all files', '*.*'))\n",
    "#         try:\n",
    "#             dlg = tkFileDialog.Open(self, filetypes = ftypes, initialdir = '~/src/')\n",
    "#             fl = dlg.show()\n",
    "#         except (OSError, IOError) as e:\n",
    "#             fl = 'Error opening file', e\n",
    "\n",
    "        fl = tkFileDialog.askopenfilename()\n",
    "        \n",
    "        if fl != '':\n",
    "            text = self.readFile(fl)\n",
    "            self.txt.insert(END, 'Loaded file:\\n')\n",
    "            self.txt.insert(END, text)\n",
    "            \n",
    "            \n",
    "\n",
    "    def readFile(self, filename):\n",
    "\n",
    "        try:\n",
    "            f = open(filename, \"rU\")\n",
    "            text = f.read()\n",
    "        except (OSError, IOError) as e:\n",
    "            text = e\n",
    "\n",
    "        return text\n",
    "         \n",
    "\n"
   ]
  },
  {
   "cell_type": "code",
   "execution_count": 3,
   "metadata": {
    "collapsed": false,
    "deletable": true,
    "editable": true
   },
   "outputs": [],
   "source": [
    "root = Tk()\n",
    "ex = Example(root)\n",
    "root.geometry(\"600x600+10+10\")\n",
    "# root.attributes('-topmost', True)\n",
    "#     google_main()\n",
    "root.mainloop()  "
   ]
  }
 ],
 "metadata": {
  "kernelspec": {
   "display_name": "Python 2",
   "language": "python",
   "name": "python2"
  },
  "language_info": {
   "codemirror_mode": {
    "name": "ipython",
    "version": 2
   },
   "file_extension": ".py",
   "mimetype": "text/x-python",
   "name": "python",
   "nbconvert_exporter": "python",
   "pygments_lexer": "ipython2",
   "version": "2.7.13"
  }
 },
 "nbformat": 4,
 "nbformat_minor": 2
}
