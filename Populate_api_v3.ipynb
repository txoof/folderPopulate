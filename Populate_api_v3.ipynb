{
 "cells": [
  {
   "cell_type": "code",
   "execution_count": 1,
   "metadata": {
    "collapsed": true,
    "deletable": true,
    "editable": true
   },
   "outputs": [],
   "source": [
    "import sys\n"
   ]
  },
  {
   "cell_type": "code",
   "execution_count": 3,
   "metadata": {
    "collapsed": false,
    "deletable": true,
    "editable": true
   },
   "outputs": [
    {
     "data": {
      "text/plain": [
       "'-f'"
      ]
     },
     "execution_count": 3,
     "metadata": {},
     "output_type": "execute_result"
    }
   ],
   "source": [
    "sys.argv.pop()"
   ]
  },
  {
   "cell_type": "code",
   "execution_count": 4,
   "metadata": {
    "collapsed": false,
    "deletable": true,
    "editable": true
   },
   "outputs": [
    {
     "data": {
      "text/plain": [
       "['/Users/aaronciuffo/Virtualenvs/python2/lib/python2.7/site-packages/ipykernel/__main__.py']"
      ]
     },
     "execution_count": 4,
     "metadata": {},
     "output_type": "execute_result"
    }
   ],
   "source": [
    "sys.argv"
   ]
  },
  {
   "cell_type": "code",
   "execution_count": 5,
   "metadata": {
    "collapsed": true
   },
   "outputs": [],
   "source": [
    "import sys\n",
    "import re\n",
    "import datetime\n",
    "import unicodedata\n",
    "\n",
    "# I kind of hate this\n",
    "#from __future__ import print_function\n",
    "\n",
    "# this may be unecessary - double check\n",
    "import httplib2\n",
    "import os\n",
    "\n",
    "from apiclient import discovery\n",
    "from oauth2client import client\n",
    "from oauth2client import tools\n",
    "from oauth2client.file import Storage \n",
    "from apiclient import errors as gerror\n",
    "\n",
    "#SCOPES = 'https://www.googleapis.com/auth/drive.file'\n",
    "SCOPES = 'https://www.googleapis.com/auth/drive.file' # try this one!\n",
    "# SCOPES = 'https://www.googleapis.com/auth/drive.metadata.readonly'\n",
    "CLIENT_SECRET_FILE = 'client_secret_qs.json'\n",
    "APPLICATION_NAME = 'Drive API Python Quickstart'"
   ]
  },
  {
   "cell_type": "code",
   "execution_count": 6,
   "metadata": {
    "collapsed": true
   },
   "outputs": [],
   "source": [
    "def strip_accents(s):\n",
    "    s = unicode(s, \"utf-8\")\n",
    "    return ''.join(c for c in unicodedata.normalize('NFD', s)\n",
    "        if unicodedata.category(c) != 'Mn')\n"
   ]
  },
  {
   "cell_type": "code",
   "execution_count": 7,
   "metadata": {
    "collapsed": true
   },
   "outputs": [],
   "source": [
    "def get_valid_filename(s):\n",
    "    \"\"\"\n",
    "    Return the given string converted to a string that can be used for a clean\n",
    "    filename. Remove leading and trailing spaces\n",
    "    \"\"\"\n",
    "    s = s.strip()\n",
    "    s = strip_accents(s)\n",
    "    return re.sub(r'(?u)[^-\\w., ]', '', s)"
   ]
  },
  {
   "cell_type": "code",
   "execution_count": 8,
   "metadata": {
    "collapsed": false
   },
   "outputs": [],
   "source": [
    "def fileRead(fname):\n",
    "    '''\n",
    "    read a file into a list, strip out all accented and special characters, leading spaces\n",
    "    '''\n",
    "    lines = []\n",
    "    try:\n",
    "        with open(fname) as f:\n",
    "            for each in f:\n",
    "                each = get_valid_filename(each)\n",
    "                lines.append(each.strip('\\n'))\n",
    "            return(lines)\n",
    "    except (OSError, IOError) as e:\n",
    "        print 'error reading file:', fname, e\n",
    "        return(False)"
   ]
  },
  {
   "cell_type": "code",
   "execution_count": 9,
   "metadata": {
    "collapsed": true
   },
   "outputs": [],
   "source": [
    "def pathify(parts = [], basepath = ''):\n",
    "    '''\n",
    "    create a path from a list of strings\n",
    "    \n",
    "    accepts:\n",
    "        * parts (list): list of strings ['part_one', 'part_two', 'part_three']\n",
    "        * basepath (string): string to append to the start of the path (default: ./)\n",
    "    \n",
    "    returns:\n",
    "        * path: basePath/part_one/part_two/part_three/\n",
    "    '''\n",
    "    path = basepath\n",
    "    if len(parts ) > 0:\n",
    "        for each in parts:\n",
    "            if re.match('.*\\/$', each):\n",
    "                path = path + each\n",
    "            else:\n",
    "                path = path + each + '/'\n",
    "    return(path)"
   ]
  },
  {
   "cell_type": "code",
   "execution_count": 10,
   "metadata": {
    "collapsed": false,
    "deletable": true,
    "editable": true
   },
   "outputs": [],
   "source": [
    "def getCredentials():\n",
    "    home_dir = os.path.expanduser('~')\n",
    "    credential_dir = os.path.join(home_dir, '.credentials')\n",
    "    if not os.path.exists(credential_dir):\n",
    "        try:\n",
    "            os.makedirs(credential_dir)\n",
    "        except (IOError, OSError) as e:\n",
    "            print(e)\n",
    "        \n",
    "\n",
    "    credential_path = os.path.join(credential_dir, 'drive-python.json')\n",
    "\n",
    "    store = Storage(credential_path)\n",
    "    credentials = store.get()\n",
    "    if not credentials or credentials.invalid:\n",
    "        flow = client.flow_from_clientsecrets(CLIENT_SECRET_FILE, SCOPES)\n",
    "        flow.user_agent = 'foo'\n",
    "        credentials = tools.run_flow(flow, store, None)\n",
    "    return(credentials)"
   ]
  },
  {
   "cell_type": "code",
   "execution_count": 11,
   "metadata": {
    "collapsed": false,
    "deletable": true,
    "editable": true
   },
   "outputs": [],
   "source": [
    "class gDrive():\n",
    "    '''\n",
    "    creates a google drive interface object\n",
    "    \n",
    "    Accepts:\n",
    "    google drive v3 service object: (discover.build('drive', 'v3', credentials = credentials_object)\n",
    "    \n",
    "    '''\n",
    "    def __init__(self, object):\n",
    "        self.service = object\n",
    "        # https://developers.google.com/drive/v3/web/mime-types\n",
    "        self.mimeTypes = {'audio': 'application/vnd.google-apps.audio',\n",
    "                          'docs': 'application/vnd.google-apps.document',\n",
    "                          'drawing': 'application/vnd.google-apps.drawing',\n",
    "                          'file': 'application/vnd.google-apps.file',\n",
    "                          'folder': 'application/vnd.google-apps.folder',\n",
    "                          'forms': 'application/vnd.google-apps.form',\n",
    "                          'mymaps': 'application/vnd.google-apps.map',\n",
    "                          'photos': 'application/vnd.google-apps.photo',\n",
    "                          'slides': 'application/vnd.google-apps.presentation',\n",
    "                          'scripts': 'application/vnd.google-apps.script',\n",
    "                          'sites': 'application/vnd.google-apps.sites',\n",
    "                          'sheets': 'application/vnd.google-apps.spreadsheet',\n",
    "                          'video': 'application/vnd.google-apps.video'}\n",
    "    \n",
    "#     types = property()\n",
    "    \n",
    "    @property\n",
    "    def types(self):\n",
    "        print('supported mime types:')\n",
    "        for key in self.mimeTypes:\n",
    "            #print('%10s: %s' % (key, self.mimeTypes[key]))\n",
    "            print('{:8} {val}'.format(key+':', val=self.mimeTypes[key]))\n",
    "    \n",
    "    def quote(self, string):\n",
    "        '''\n",
    "        add double quotes arounda string\n",
    "        '''\n",
    "        return('\"'+str(string)+'\"')\n",
    "    \n",
    "\n",
    "    \n",
    "    def addFile(self, name = None, ftype = False, parents = None):\n",
    "        body={}\n",
    "        if name is None:\n",
    "            print('specify a folder or file name')\n",
    "            return(False)\n",
    "        else:\n",
    "            body['name'] = name\n",
    "        \n",
    "        if ftype in self.mimeTypes:\n",
    "            body['mimeType'] = self.mimeTypes[ftype]\n",
    "        \n",
    "        if isinstance(parents, list):\n",
    "            body['parents'] = parents\n",
    "        elif parents:\n",
    "            body['parents'] = [parents]\n",
    "        \n",
    "        print(body)\n",
    "        result = self.service.files().create(body=body).execute()\n",
    "        \n",
    "        #body = {'name':'release the schmoo!', 'mimeType':'application/vnd.google-apps.folder', 'parents':[\"0BzC-V2QIsGRGWXNxNmhjc0FITDQ\"]}\n",
    "# service.files().create(body=body).execute()\n",
    "        return(result)\n",
    "\n",
    "    \n",
    "    def search(self, name = None, trashed = None, ftype = False, fuzzy = False, date = None, dopperator = '>', \n",
    "               parent = None):\n",
    "        '''\n",
    "        search for an item by name and other properties in google drive\n",
    "        \n",
    "        accepts:\n",
    "            name (string): item name in google drive - required\n",
    "            trashed (bool): item is not in trash - default None (not used)\n",
    "            ftype = (string): item is one of the known mime types (gdrive.mimeTypes) - default None\n",
    "            fuzzy = (bool): substring search of names in drive\n",
    "            date = (RFC3339 date string): modification time date string (YYYY-MM-DD)\n",
    "            dopperator (date comparison opprator string): <, >, =, >=, <=  - default >\n",
    "            parent = (string): google drive file id string\n",
    "            \n",
    "        returns:\n",
    "            list of file dict\n",
    "        '''\n",
    "        features = ['name', 'trashed', 'ftype', 'date', 'parent']\n",
    "        build = {'name' : 'name {} \"{}\"'.format(('contains' if fuzzy else '='), name),\n",
    "                 'trashed' : 'trashed={}'. format(trashed),\n",
    "                 'ftype' : 'mimeType=\"{}\"'.format(self.mimeTypes[ftype] if ftype in self.mimeTypes else ''),\n",
    "                 'parent': '\"{}\" in parents'.format(parent),\n",
    "                 'date': 'modifiedTime{}\"{}\"'.format(dopperator, date)}\n",
    "\n",
    "        # provides for setting trashed to True/False if the input is not None\n",
    "        if not isinstance(trashed, type(None)):\n",
    "            # set to true as the variable is now in use, but it's value has been set above\n",
    "            trashed = True\n",
    "\n",
    "        qList = []\n",
    "\n",
    "        # evaluate feature options; if they are != None/False, use them in building query\n",
    "        for each in features:\n",
    "            if eval(each):\n",
    "                qList.append(build[each])\n",
    "                \n",
    "        print(' and '.join(qList))\n",
    "                \n",
    "        try:\n",
    "            # build a query with \"and\" statements\n",
    "            result = self.service.files().list(q=' and '.join(qList)).execute()\n",
    "            return(result)\n",
    "        except gerror.HttpError as e:\n",
    "            print('File Not Found')\n",
    "            return(False)\n",
    "\n",
    "    def ls(self, *args, **kwargs):\n",
    "        result = self.search(*args, **kwargs)\n",
    "        for eachFile in result.get('files', []):\n",
    "            print('name: {f[name]}, ID:{f[id]}, mimeType:{f[mimeType]}'.format(f=eachFile))\n",
    "            \n",
    "    \n",
    "    def parents(self, fid):\n",
    "        \"\"\"Print a file's parents.\n",
    "\n",
    "        Args:\n",
    "        service: Drive API service instance.\n",
    "        file_id: ID of the file to print parents for.\n",
    "        \"\"\"\n",
    "# service.files().get(fileId=\"0BzC-V2QIsGRGT00xSjJHNy1Td1k\", fields='parents').execute()\n",
    "        try:\n",
    "            parents = self.service.files().get(fileId=fid, fields='parents').execute()\n",
    "            return(parents)\n",
    "        except gerror.HttpError as e:\n",
    "            print ('An error occurred: {}'.format(e))\n",
    "            return(False)\n",
    "    \n",
    "    def rm(self):\n",
    "        pass\n",
    "    \n",
    "#     def search(self, name = None, trashed = False, ftype = False, fuzzy = False, date = None, parent = None):\n",
    "#         '''\n",
    "#         search for an item by name and other properties in google drive\n",
    "        \n",
    "#         accepts:\n",
    "#             name (string): item name in google drive - required\n",
    "#             trashed (bool): item is not in trash - default False\n",
    "#             ftype = (string): item is one of the known mime types (gdrive.mimeTypes) - default None\n",
    "#             fuzzy = (bool): substring search of names in drive\n",
    "#             date = (RFC3339 date string): currently searches for files created after date string (YYYY-MM-DD)\n",
    "#             parent = (string): google drive file id string\n",
    "            \n",
    "#         returns:\n",
    "#             list of file dict\n",
    "#         '''\n",
    "#         queryDict={}\n",
    "#         if name is None:\n",
    "#             print('specify a folder or file name')\n",
    "#             return(False)\n",
    "#         else:\n",
    "#             if fuzzy:\n",
    "#                 fVal = ' contains '\n",
    "#             else:\n",
    "#                 fVal = '='\n",
    "#             queryDict['name'] = 'name'+fVal+self.quote(name)\n",
    "            \n",
    "#         if isinstance(trashed, bool):\n",
    "#             if trashed:\n",
    "#                 tVal='trashed=True'\n",
    "#             else:\n",
    "#                 tVal='trashed=False'\n",
    "#             queryDict['trashed'] = tVal\n",
    "        \n",
    "#         if ftype in self.mimeTypes:\n",
    "#             queryDict['mimeType'] = 'mimeType='+self.quote(self.mimeTypes[ftype])\n",
    "            \n",
    "#         if parent:\n",
    "#             queryDict['parents'] = self.quote(parent)+' in parents'\n",
    "                \n",
    "        \n",
    "#         if date:\n",
    "#             queryDict['modifiedTime'] = 'modifiedTime >'+self.quote(date)\n",
    "        \n",
    "        \n",
    "#         query = ' and '.join(queryDict.values())\n",
    "#         print(query)\n",
    "        \n",
    "#         try:\n",
    "#             result = self.service.files().list(q=query).execute()\n",
    "#             return(result)\n",
    "#         except gerror.HttpError as e:\n",
    "#             print('File Not Found')\n",
    "#             return(False)\n",
    "        \n",
    "# #         try:\n",
    "# #             print('trying')\n",
    "# #             result = self.service.files().list(q=query).execute()\n",
    "# #         except gerror.HttpError as e:\n",
    "# #             print('File Not Found')\n",
    "# #             return(False)        \n",
    "    \n",
    "    \n",
    "#     def search(self, name = None, trashed = False, ftype = False, fuzzy = False, parent = None):\n",
    "        \n",
    "        \n",
    "#         if name is None:\n",
    "#             print ('specify a folder or file name')\n",
    "#             return(False)\n",
    "#         else:\n",
    "#             # this needs to be surrounded by double quotes\n",
    "#             name = self.quote(name)\n",
    "                \n",
    "#         # give a reasonable value if this is null\n",
    "#         if parent:\n",
    "#             parentVal = self.quote(parent)            \n",
    "#         else:\n",
    "#             parentVal = self.quote('null')\n",
    "            \n",
    "#         if fuzzy:\n",
    "#             fuzzyVal = ' contains '\n",
    "#         else:\n",
    "#             fuzzyVal = '='\n",
    "            \n",
    "#         supportedFeatures = {'name':'name'+fuzzyVal+self.quote(eval(name)), \n",
    "#                              'trashed': 'trashed='+eval(self.quote(trashed)), \n",
    "#                              'parent': self.quote(eval(parentVal))+' in parents',\n",
    "#                              }\n",
    "        \n",
    "#         # exclude these if they are set to none or false\n",
    "#         nullFeatures =['parent']\n",
    "        \n",
    "#         queryList = []\n",
    "#         for each in supportedFeatures:\n",
    "#             if each in nullFeatures and not eval(each):\n",
    "#                 pass\n",
    "#             else:\n",
    "#                 queryList.append(str(supportedFeatures[each])) #+ str(myDict[each]))\n",
    "\n",
    "#         query = ' and '.join(queryList)        \n",
    "#         print(query)\n",
    "        \n",
    "#         try:\n",
    "#             result = self.service.files().list(q=query).execute()\n",
    "#         except gerror.HttpError as e:\n",
    "#             print('File Not Found')\n",
    "#             return(False)\n",
    "        \n",
    "#         return(result)"
   ]
  },
  {
   "cell_type": "code",
   "execution_count": 12,
   "metadata": {
    "collapsed": false,
    "deletable": true,
    "editable": true
   },
   "outputs": [],
   "source": [
    "credentials = getCredentials()\n",
    "# http = credentials.authorize(httplib2.Http())\n",
    "service = discovery.build('drive', 'v3', credentials=credentials)\n"
   ]
  },
  {
   "cell_type": "code",
   "execution_count": 13,
   "metadata": {
    "collapsed": false
   },
   "outputs": [],
   "source": [
    "myDrive = gDrive(service)"
   ]
  },
  {
   "cell_type": "code",
   "execution_count": 17,
   "metadata": {
    "collapsed": false
   },
   "outputs": [
    {
     "name": "stdout",
     "output_type": "stream",
     "text": [
      "Desktop/Users/aaronciuffo/\n"
     ]
    }
   ],
   "source": [
    "# path to desktop of this user (this should work on macs)\n",
    "desktopPath = pathify([os.path.expanduser('~')], 'Desktop')\n",
    "\n",
    "# Fields expected in CSV file containing student data"
   ]
  },
  {
   "cell_type": "code",
   "execution_count": null,
   "metadata": {
    "collapsed": false
   },
   "outputs": [],
   "source": [
    "service.files().get(fileId=\"0BzC-V2QIsGRGT00xSjJHNy1Td1k\", fields='parents').execute()"
   ]
  },
  {
   "cell_type": "code",
   "execution_count": null,
   "metadata": {
    "collapsed": false
   },
   "outputs": [],
   "source": [
    "myDrive.parents('0BzC-V2QIsGRGT00xSjJHNy1Td1k')"
   ]
  },
  {
   "cell_type": "code",
   "execution_count": 14,
   "metadata": {
    "collapsed": false
   },
   "outputs": [
    {
     "name": "stdout",
     "output_type": "stream",
     "text": [
      "name contains \"schmoo\" and trashed=False\n",
      "name: release the schmoo!, ID:0BzC-V2QIsGRGT00xSjJHNy1Td1k, mimeType:application/vnd.google-apps.folder\n",
      "name: release the schmoo!, ID:0BzC-V2QIsGRGbklHQUJ0ZzNDQmM, mimeType:application/vnd.google-apps.folder\n",
      "name: schmooo!, ID:0BzC-V2QIsGRGWXNxNmhjc0FITDQ, mimeType:application/vnd.google-apps.folder\n"
     ]
    }
   ],
   "source": [
    "myDrive.ls(name = 'schmoo', fuzzy = True, trashed = False)"
   ]
  },
  {
   "cell_type": "code",
   "execution_count": null,
   "metadata": {
    "collapsed": true
   },
   "outputs": [],
   "source": []
  },
  {
   "cell_type": "code",
   "execution_count": null,
   "metadata": {
    "collapsed": false
   },
   "outputs": [],
   "source": [
    "response = myDrive.search(name = 'schmoo', fuzzy = True)\n",
    "print (response)"
   ]
  },
  {
   "cell_type": "code",
   "execution_count": null,
   "metadata": {
    "collapsed": false
   },
   "outputs": [],
   "source": [
    "myDrive.addFile('the wifes sewing', ftype = 'folder', parents = \"0BzC-V2QIsGRGWXNxNmhjc0FITDQ\")"
   ]
  },
  {
   "cell_type": "code",
   "execution_count": null,
   "metadata": {
    "collapsed": false,
    "deletable": true,
    "editable": true
   },
   "outputs": [],
   "source": [
    "myDrive.search(name = \"more cows\")"
   ]
  },
  {
   "cell_type": "code",
   "execution_count": null,
   "metadata": {
    "collapsed": false
   },
   "outputs": [],
   "source": [
    "discovery.mimetypes"
   ]
  }
 ],
 "metadata": {
  "kernelspec": {
   "display_name": "Python 2",
   "language": "python",
   "name": "python2"
  },
  "language_info": {
   "codemirror_mode": {
    "name": "ipython",
    "version": 2
   },
   "file_extension": ".py",
   "mimetype": "text/x-python",
   "name": "python",
   "nbconvert_exporter": "python",
   "pygments_lexer": "ipython2",
   "version": "2.7.13"
  }
 },
 "nbformat": 4,
 "nbformat_minor": 2
}
