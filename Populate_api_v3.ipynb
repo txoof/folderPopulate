{
 "cells": [
  {
   "cell_type": "code",
   "execution_count": 1,
   "metadata": {
    "collapsed": true,
    "deletable": true,
    "editable": true
   },
   "outputs": [],
   "source": [
    "import sys\n"
   ]
  },
  {
   "cell_type": "code",
   "execution_count": 3,
   "metadata": {
    "collapsed": false,
    "deletable": true,
    "editable": true
   },
   "outputs": [
    {
     "data": {
      "text/plain": [
       "'-f'"
      ]
     },
     "execution_count": 3,
     "metadata": {},
     "output_type": "execute_result"
    }
   ],
   "source": [
    "sys.argv.pop()"
   ]
  },
  {
   "cell_type": "code",
   "execution_count": 4,
   "metadata": {
    "collapsed": false,
    "deletable": true,
    "editable": true
   },
   "outputs": [
    {
     "data": {
      "text/plain": [
       "['/Users/aaronciuffo/Virtualenvs/python2/lib/python2.7/site-packages/ipykernel/__main__.py']"
      ]
     },
     "execution_count": 4,
     "metadata": {},
     "output_type": "execute_result"
    }
   ],
   "source": [
    "sys.argv"
   ]
  },
  {
   "cell_type": "code",
   "execution_count": 5,
   "metadata": {
    "collapsed": false,
    "deletable": true,
    "editable": true
   },
   "outputs": [],
   "source": [
    "from __future__ import print_function\n",
    "import httplib2\n",
    "import os\n",
    "\n",
    "from apiclient import discovery\n",
    "from oauth2client import client\n",
    "from oauth2client import tools\n",
    "from oauth2client.file import Storage \n",
    "from apiclient import errors as gerror\n",
    "\n",
    "SCOPES = 'https://www.googleapis.com/auth/drive'\n",
    "# SCOPES = 'https://www.googleapis.com/auth/drive.file' # try this one!\n",
    "# SCOPES = 'https://www.googleapis.com/auth/drive.metadata.readonly'\n",
    "CLIENT_SECRET_FILE = 'client_secret_qs.json'\n",
    "APPLICATION_NAME = 'Drive API Python Quickstart'\n",
    "\n",
    "def getCredentials():\n",
    "    home_dir = os.path.expanduser('~')\n",
    "    credential_dir = os.path.join(home_dir, '.credentials')\n",
    "    if not os.path.exists(credential_dir):\n",
    "        try:\n",
    "            os.makedirs(credential_dir)\n",
    "        except (IOError, OSError) as e:\n",
    "            print(e)\n",
    "        \n",
    "\n",
    "    credential_path = os.path.join(credential_dir, 'drive-python.json')\n",
    "\n",
    "    store = Storage(credential_path)\n",
    "    credentials = store.get()\n",
    "    if not credentials or credentials.invalid:\n",
    "        flow = client.flow_from_clientsecrets(CLIENT_SECRET_FILE, SCOPES)\n",
    "        flow.user_agent = 'foo'\n",
    "        credentials = tools.run_flow(flow, store, None)\n",
    "    return(credentials)\n",
    "\n",
    "\n",
    "\n",
    "\n"
   ]
  },
  {
   "cell_type": "code",
   "execution_count": 6,
   "metadata": {
    "collapsed": false,
    "deletable": true,
    "editable": true
   },
   "outputs": [],
   "source": [
    "credentials = getCredentials()\n",
    "http = credentials.authorize(httplib2.Http())\n",
    "service = discovery.build('drive', 'v3', credentials=credentials)"
   ]
  },
  {
   "cell_type": "code",
   "execution_count": null,
   "metadata": {
    "collapsed": true
   },
   "outputs": [],
   "source": []
  },
  {
   "cell_type": "code",
   "execution_count": 109,
   "metadata": {
    "collapsed": false,
    "deletable": true,
    "editable": true
   },
   "outputs": [],
   "source": [
    "class gDrive():\n",
    "    '''\n",
    "    creates a google drive interface object\n",
    "    \n",
    "    Accepts:\n",
    "    google drive v3 service object: (discover.build('drive', 'v3', credentials = credentials_object)\n",
    "    \n",
    "    '''\n",
    "    def __init__(self, object):\n",
    "        self.service = object\n",
    "        # https://developers.google.com/drive/v3/web/mime-types\n",
    "        self.mimeTypes = {'audio': 'application/vnd.google-apps.audio',\n",
    "                          'docs': 'application/vnd.google-apps.document',\n",
    "                          'drawing': 'application/vnd.google-apps.drawing',\n",
    "                          'file': 'application/vnd.google-apps.file',\n",
    "                          'folder': 'application/vnd.google-apps.folder',\n",
    "                          'forms': 'application/vnd.google-apps.form',\n",
    "                          'mymaps': 'application/vnd.google-apps.map',\n",
    "                          'photos': 'application/vnd.google-apps.photo',\n",
    "                          'slides': 'application/vnd.google-apps.presentation',\n",
    "                          'scripts': 'application/vnd.google-apps.script',\n",
    "                          'sites': 'application/vnd.google-apps.sites',\n",
    "                          'sheets': 'application/vnd.google-apps.spreadsheet',\n",
    "                          'video': 'application/vnd.google-apps.video'}\n",
    "    \n",
    "#     types = property()\n",
    "    \n",
    "    @property\n",
    "    def types(self):\n",
    "        print('supported mime types:')\n",
    "        for key in self.mimeTypes:\n",
    "            #print('%10s: %s' % (key, self.mimeTypes[key]))\n",
    "            print('{:8} {val}'.format(key+':', val=self.mimeTypes[key]))\n",
    "    \n",
    "    def quote(self, string):\n",
    "        '''\n",
    "        add double quotes arounda string\n",
    "        '''\n",
    "        return('\"'+str(string)+'\"')\n",
    "    \n",
    "    def addFile(self, name = None, ftype = False, parents = None):\n",
    "        body={}\n",
    "        if name is None:\n",
    "            print('specify a folder or file name')\n",
    "            return(False)\n",
    "        else:\n",
    "            body['name'] = name\n",
    "        \n",
    "        if ftype in self.mimeTypes:\n",
    "            body['mimeType'] = self.mimeTypes[ftype]\n",
    "        \n",
    "        if isinstance(parents, list):\n",
    "            body['parents'] = parents\n",
    "        elif parents:\n",
    "            body['parents'] = [parents]\n",
    "        \n",
    "        print(body)\n",
    "        result = self.service.files().create(body=body).execute()\n",
    "        \n",
    "        #body = {'name':'release the schmoo!', 'mimeType':'application/vnd.google-apps.folder', 'parents':[\"0BzC-V2QIsGRGWXNxNmhjc0FITDQ\"]}\n",
    "# service.files().create(body=body).execute()\n",
    "        \n",
    "        \n",
    "        return(result)\n",
    "    \n",
    "    \n",
    "    def search(self, name = None, trashed = False, ftype = False, fuzzy = False, date = None, parent = None):\n",
    "        '''\n",
    "        search for an item by name and other properties in google drive\n",
    "        \n",
    "        accepts:\n",
    "            name (string): item name in google drive - required\n",
    "            trashed (bool): item is not in trash - default False\n",
    "            ftype = (string): item is one of the known mime types (gdrive.mimeTypes) - default None\n",
    "            fuzzy = (bool): substring search of names in drive\n",
    "            date = (RFC3339 date string): currently searches for files created after date string (YYYY-MM-DD)\n",
    "            parent = (string): google drive file id string\n",
    "            \n",
    "        returns:\n",
    "            list of file dict\n",
    "        '''\n",
    "        queryDict={}\n",
    "        if name is None:\n",
    "            print('specify a folder or file name')\n",
    "            return(False)\n",
    "        else:\n",
    "            if fuzzy:\n",
    "                fVal = ' contains '\n",
    "            else:\n",
    "                fVal = '='\n",
    "            queryDict['name'] = 'name'+fVal+self.quote(name)\n",
    "            \n",
    "        if isinstance(trashed, bool):\n",
    "            if trashed:\n",
    "                tVal='trashed=True'\n",
    "            else:\n",
    "                tVal='trashed=False'\n",
    "            queryDict['trashed'] = tVal\n",
    "        \n",
    "        if ftype in self.mimeTypes:\n",
    "            queryDict['mimeType'] = 'mimeType='+self.quote(self.mimeTypes[ftype])\n",
    "            \n",
    "        if parent:\n",
    "            queryDict['parents'] = self.quote(parent)+' in parents'\n",
    "                \n",
    "        \n",
    "        if date:\n",
    "            queryDict['modifiedTime'] = 'modifiedTime >'+self.quote(date)\n",
    "        \n",
    "        \n",
    "        query = ' and '.join(queryDict.values())\n",
    "        print(query)\n",
    "        \n",
    "        try:\n",
    "            result = self.service.files().list(q=query).execute()\n",
    "            return(result)\n",
    "        except gerror.HttpError as e:\n",
    "            print('File Not Found')\n",
    "            return(False)\n",
    "        \n",
    "# #         try:\n",
    "# #             print('trying')\n",
    "# #             result = self.service.files().list(q=query).execute()\n",
    "# #         except gerror.HttpError as e:\n",
    "# #             print('File Not Found')\n",
    "# #             return(False)        \n",
    "    \n",
    "    \n",
    "#     def search(self, name = None, trashed = False, ftype = False, fuzzy = False, parent = None):\n",
    "        \n",
    "        \n",
    "#         if name is None:\n",
    "#             print ('specify a folder or file name')\n",
    "#             return(False)\n",
    "#         else:\n",
    "#             # this needs to be surrounded by double quotes\n",
    "#             name = self.quote(name)\n",
    "                \n",
    "#         # give a reasonable value if this is null\n",
    "#         if parent:\n",
    "#             parentVal = self.quote(parent)            \n",
    "#         else:\n",
    "#             parentVal = self.quote('null')\n",
    "            \n",
    "#         if fuzzy:\n",
    "#             fuzzyVal = ' contains '\n",
    "#         else:\n",
    "#             fuzzyVal = '='\n",
    "            \n",
    "#         supportedFeatures = {'name':'name'+fuzzyVal+self.quote(eval(name)), \n",
    "#                              'trashed': 'trashed='+eval(self.quote(trashed)), \n",
    "#                              'parent': self.quote(eval(parentVal))+' in parents',\n",
    "#                              }\n",
    "        \n",
    "#         # exclude these if they are set to none or false\n",
    "#         nullFeatures =['parent']\n",
    "        \n",
    "#         queryList = []\n",
    "#         for each in supportedFeatures:\n",
    "#             if each in nullFeatures and not eval(each):\n",
    "#                 pass\n",
    "#             else:\n",
    "#                 queryList.append(str(supportedFeatures[each])) #+ str(myDict[each]))\n",
    "\n",
    "#         query = ' and '.join(queryList)        \n",
    "#         print(query)\n",
    "        \n",
    "#         try:\n",
    "#             result = self.service.files().list(q=query).execute()\n",
    "#         except gerror.HttpError as e:\n",
    "#             print('File Not Found')\n",
    "#             return(False)\n",
    "        \n",
    "#         return(result)"
   ]
  },
  {
   "cell_type": "code",
   "execution_count": 110,
   "metadata": {
    "collapsed": false
   },
   "outputs": [],
   "source": [
    "myDrive = gDrive(service)\n",
    "# print(myDrive.search(name = 'py', ftype='folder', fuzzy = True, date =\"2017-03-15\"))"
   ]
  },
  {
   "cell_type": "code",
   "execution_count": 101,
   "metadata": {
    "collapsed": false
   },
   "outputs": [
    {
     "data": {
      "text/plain": [
       "{u'id': u'0BzC-V2QIsGRGT00xSjJHNy1Td1k',\n",
       " u'kind': u'drive#file',\n",
       " u'mimeType': u'application/vnd.google-apps.folder',\n",
       " u'name': u'release the schmoo!'}"
      ]
     },
     "execution_count": 101,
     "metadata": {},
     "output_type": "execute_result"
    }
   ],
   "source": [
    "body = {'name':'release the schmoo!', 'mimeType':'application/vnd.google-apps.folder', 'parents':[\"0BzC-V2QIsGRGWXNxNmhjc0FITDQ\"]}\n",
    "service.files().create(body=body).execute()"
   ]
  },
  {
   "cell_type": "code",
   "execution_count": 112,
   "metadata": {
    "collapsed": false
   },
   "outputs": [
    {
     "name": "stdout",
     "output_type": "stream",
     "text": [
      "{'mimeType': 'application/vnd.google-apps.folder', 'parents': ['0BzC-V2QIsGRGWXNxNmhjc0FITDQ'], 'name': 'bumblefuck'}\n"
     ]
    },
    {
     "data": {
      "text/plain": [
       "{u'id': u'0BzC-V2QIsGRGOWtrNVg1YnNCU0k',\n",
       " u'kind': u'drive#file',\n",
       " u'mimeType': u'application/vnd.google-apps.folder',\n",
       " u'name': u'bumblefuck'}"
      ]
     },
     "execution_count": 112,
     "metadata": {},
     "output_type": "execute_result"
    }
   ],
   "source": [
    "myDrive.addFile('bumblefuck', ftype = 'folder', parents = \"0BzC-V2QIsGRGWXNxNmhjc0FITDQ\")"
   ]
  },
  {
   "cell_type": "code",
   "execution_count": null,
   "metadata": {
    "collapsed": true
   },
   "outputs": [],
   "source": []
  },
  {
   "cell_type": "code",
   "execution_count": 54,
   "metadata": {
    "collapsed": false
   },
   "outputs": [
    {
     "ename": "TypeError",
     "evalue": "Got an unexpected keyword argument \"mimetype\"",
     "output_type": "error",
     "traceback": [
      "\u001b[0;31m---------------------------------------------------------------------------\u001b[0m",
      "\u001b[0;31mTypeError\u001b[0m                                 Traceback (most recent call last)",
      "\u001b[0;32m<ipython-input-54-250aac9e0bce>\u001b[0m in \u001b[0;36m<module>\u001b[0;34m()\u001b[0m\n\u001b[0;32m----> 1\u001b[0;31m \u001b[0mservice\u001b[0m\u001b[0;34m.\u001b[0m\u001b[0mfiles\u001b[0m\u001b[0;34m(\u001b[0m\u001b[0;34m)\u001b[0m\u001b[0;34m.\u001b[0m\u001b[0mcreate\u001b[0m\u001b[0;34m(\u001b[0m\u001b[0mmimetype\u001b[0m \u001b[0;34m=\u001b[0m \u001b[0;34m\"application/vnd.google-apps.folder\"\u001b[0m\u001b[0;34m,\u001b[0m \u001b[0mname\u001b[0m \u001b[0;34m=\u001b[0m \u001b[0;34m'blarg'\u001b[0m\u001b[0;34m)\u001b[0m\u001b[0;34m.\u001b[0m\u001b[0mexecute\u001b[0m\u001b[0;34m(\u001b[0m\u001b[0;34m)\u001b[0m\u001b[0;34m\u001b[0m\u001b[0m\n\u001b[0m",
      "\u001b[0;32m/Users/aaronciuffo/Virtualenvs/python2/lib/python2.7/site-packages/googleapiclient/discovery.pyc\u001b[0m in \u001b[0;36mmethod\u001b[0;34m(self, **kwargs)\u001b[0m\n\u001b[1;32m    715\u001b[0m     \u001b[0;32mfor\u001b[0m \u001b[0mname\u001b[0m \u001b[0;32min\u001b[0m \u001b[0msix\u001b[0m\u001b[0;34m.\u001b[0m\u001b[0miterkeys\u001b[0m\u001b[0;34m(\u001b[0m\u001b[0mkwargs\u001b[0m\u001b[0;34m)\u001b[0m\u001b[0;34m:\u001b[0m\u001b[0;34m\u001b[0m\u001b[0m\n\u001b[1;32m    716\u001b[0m       \u001b[0;32mif\u001b[0m \u001b[0mname\u001b[0m \u001b[0;32mnot\u001b[0m \u001b[0;32min\u001b[0m \u001b[0mparameters\u001b[0m\u001b[0;34m.\u001b[0m\u001b[0margmap\u001b[0m\u001b[0;34m:\u001b[0m\u001b[0;34m\u001b[0m\u001b[0m\n\u001b[0;32m--> 717\u001b[0;31m         \u001b[0;32mraise\u001b[0m \u001b[0mTypeError\u001b[0m\u001b[0;34m(\u001b[0m\u001b[0;34m'Got an unexpected keyword argument \"%s\"'\u001b[0m \u001b[0;34m%\u001b[0m \u001b[0mname\u001b[0m\u001b[0;34m)\u001b[0m\u001b[0;34m\u001b[0m\u001b[0m\n\u001b[0m\u001b[1;32m    718\u001b[0m \u001b[0;34m\u001b[0m\u001b[0m\n\u001b[1;32m    719\u001b[0m     \u001b[0;31m# Remove args that have a value of None.\u001b[0m\u001b[0;34m\u001b[0m\u001b[0;34m\u001b[0m\u001b[0m\n",
      "\u001b[0;31mTypeError\u001b[0m: Got an unexpected keyword argument \"mimetype\""
     ]
    }
   ],
   "source": [
    "service.files().create(mimetype = \"application/vnd.google-apps.folder\", name = 'blarg').execute()"
   ]
  },
  {
   "cell_type": "code",
   "execution_count": 32,
   "metadata": {
    "collapsed": false
   },
   "outputs": [
    {
     "data": {
      "text/plain": [
       "{u'files': [{u'id': u'11FyFTl8ZdaT-n2TnSlte_V3HZyEjUtYFpg',\n",
       "   u'kind': u'drive#file',\n",
       "   u'mimeType': u'image/jpeg',\n",
       "   u'name': u'IMG_20170315_175455.jpg'},\n",
       "  {u'id': u'1KekuY9jqMtiIGe0R-RKMH4tyZJvPwfo-Pg',\n",
       "   u'kind': u'drive#file',\n",
       "   u'mimeType': u'image/jpeg',\n",
       "   u'name': u'IMG_20170315_175453.jpg'},\n",
       "  {u'id': u'1z4IOI4lvNE6p_T2XXjNfhrTQ-k15n3IPIg',\n",
       "   u'kind': u'drive#file',\n",
       "   u'mimeType': u'image/jpeg',\n",
       "   u'name': u'IMG_20170315_175452.jpg'},\n",
       "  {u'id': u'1zZYokEqxDUs2-XVqjA1u62MNujnDxs0iMA',\n",
       "   u'kind': u'drive#file',\n",
       "   u'mimeType': u'image/jpeg',\n",
       "   u'name': u'IMG_20170315_175444.jpg'},\n",
       "  {u'id': u'1xyBuulzKSJUAXq6WZnmzRvmU9cvSo0tzMQ',\n",
       "   u'kind': u'drive#file',\n",
       "   u'mimeType': u'image/jpeg',\n",
       "   u'name': u'IMG_20170315_175442.jpg'},\n",
       "  {u'id': u'1eLCPiejmvFCPBFhy0xczuC2PulZfql9sIg',\n",
       "   u'kind': u'drive#file',\n",
       "   u'mimeType': u'image/jpeg',\n",
       "   u'name': u'IMG_20170315_175115.jpg'},\n",
       "  {u'id': u'167eOpKSBFl9dkXpTgN3sy3N3giuaMpgYkA',\n",
       "   u'kind': u'drive#file',\n",
       "   u'mimeType': u'image/jpeg',\n",
       "   u'name': u'IMG_20170315_175026.jpg'},\n",
       "  {u'id': u'1kjqdICRkh5Q1lMmuYy8NFO_xHZXO49seww',\n",
       "   u'kind': u'drive#file',\n",
       "   u'mimeType': u'image/jpeg',\n",
       "   u'name': u'IMG_20170315_175015.jpg'},\n",
       "  {u'id': u'1ZPuozXT3Q2CUvLXz-yMv4FnDFZRxCQmYCg',\n",
       "   u'kind': u'drive#file',\n",
       "   u'mimeType': u'image/jpeg',\n",
       "   u'name': u'IMG_20170315_174929.jpg'},\n",
       "  {u'id': u'14N7lqBsRLut7-OtqBJ0SgpYlgUNaOtaOuA',\n",
       "   u'kind': u'drive#file',\n",
       "   u'mimeType': u'image/jpeg',\n",
       "   u'name': u'IMG_20170315_174927.jpg'},\n",
       "  {u'id': u'1KqjmA2SN774r-oM36iiE6r0ubCoZhDpzTQ',\n",
       "   u'kind': u'drive#file',\n",
       "   u'mimeType': u'image/jpeg',\n",
       "   u'name': u'IMG_20170315_174922.jpg'},\n",
       "  {u'id': u'1h12jKToKNwjL0ZdU2cdjc6CEnQMIze9K5g',\n",
       "   u'kind': u'drive#file',\n",
       "   u'mimeType': u'image/jpeg',\n",
       "   u'name': u'IMG_20170315_174915.jpg'},\n",
       "  {u'id': u'1tlESuAm3hy7yiQQnLAKncKGktJCS7Ix98A',\n",
       "   u'kind': u'drive#file',\n",
       "   u'mimeType': u'image/jpeg',\n",
       "   u'name': u'IMG_20170315_174910.jpg'},\n",
       "  {u'id': u'1iQMqGL7-a_EqRPwO1Fro9HVMez4TRW2Kvw',\n",
       "   u'kind': u'drive#file',\n",
       "   u'mimeType': u'image/jpeg',\n",
       "   u'name': u'IMG_20170315_174747.jpg'},\n",
       "  {u'id': u'1YEHDMzwfJWThazsxtaW_5SUkMz-URdBRvw',\n",
       "   u'kind': u'drive#file',\n",
       "   u'mimeType': u'image/jpeg',\n",
       "   u'name': u'IMG_20170315_174744.jpg'},\n",
       "  {u'id': u'1hUkqgeTBv0jBJlsjzNhI_5QvMfT9C61xKA',\n",
       "   u'kind': u'drive#file',\n",
       "   u'mimeType': u'image/jpeg',\n",
       "   u'name': u'IMG_20170315_174740.jpg'},\n",
       "  {u'id': u'1qWmdRc4aqM6qBUFuQU-7rV6KofRQ9e5otw',\n",
       "   u'kind': u'drive#file',\n",
       "   u'mimeType': u'image/jpeg',\n",
       "   u'name': u'IMG_20170315_174737.jpg'},\n",
       "  {u'id': u'1GnYoKCuUC9sZNLYhTE0p8kPkxfN1rm_sOQ',\n",
       "   u'kind': u'drive#file',\n",
       "   u'mimeType': u'image/jpeg',\n",
       "   u'name': u'IMG_20170315_174735.jpg'},\n",
       "  {u'id': u'1EDro3v1kX4qp7Ye8WLXdfPq9ozRmXZTNvQ',\n",
       "   u'kind': u'drive#file',\n",
       "   u'mimeType': u'image/jpeg',\n",
       "   u'name': u'IMG_20170315_174733.jpg'},\n",
       "  {u'id': u'1-G-NusaHHrSgUxH9z5byH6kZw3C-Mf04UA',\n",
       "   u'kind': u'drive#file',\n",
       "   u'mimeType': u'image/jpeg',\n",
       "   u'name': u'IMG_20170315_174726.jpg'},\n",
       "  {u'id': u'18KK4fXSmXsgCIOSzMg-gxGQku8j4pdnwKw',\n",
       "   u'kind': u'drive#file',\n",
       "   u'mimeType': u'image/jpeg',\n",
       "   u'name': u'IMG_20170315_174648.jpg'},\n",
       "  {u'id': u'1cMGfv94ytApx7pSgbxbiAJTD_C26oN70jw',\n",
       "   u'kind': u'drive#file',\n",
       "   u'mimeType': u'image/jpeg',\n",
       "   u'name': u'IMG_20170315_174645.jpg'},\n",
       "  {u'id': u'1HkEoV2JzYQdV_LZ_I3knyiosIHQg3Z03fQ',\n",
       "   u'kind': u'drive#file',\n",
       "   u'mimeType': u'image/jpeg',\n",
       "   u'name': u'IMG_20170315_174643.jpg'},\n",
       "  {u'id': u'1h8OIs5z_eqK84Ddo9idDvWbHokC6Xhy8KA',\n",
       "   u'kind': u'drive#file',\n",
       "   u'mimeType': u'image/jpeg',\n",
       "   u'name': u'IMG_20170315_174641.jpg'},\n",
       "  {u'id': u'1P4VGZ2KRfdZexe6NXXQKPpuEY_zeh_uTpg',\n",
       "   u'kind': u'drive#file',\n",
       "   u'mimeType': u'image/jpeg',\n",
       "   u'name': u'IMG_20170315_174623.jpg'},\n",
       "  {u'id': u'1ADEiOHIyWuhEB6QKNZy6O3thP3iYYopRtQ',\n",
       "   u'kind': u'drive#file',\n",
       "   u'mimeType': u'image/jpeg',\n",
       "   u'name': u'IMG_20170315_174551.jpg'},\n",
       "  {u'id': u'1iBKA9_3Pvg5RO89EMYBYmpNhslaraH0TMw',\n",
       "   u'kind': u'drive#file',\n",
       "   u'mimeType': u'image/jpeg',\n",
       "   u'name': u'IMG_20170315_174524.jpg'},\n",
       "  {u'id': u'1NXHpdhaWseHzPUOVdUSVGWzU7nLjCGGSuw',\n",
       "   u'kind': u'drive#file',\n",
       "   u'mimeType': u'image/jpeg',\n",
       "   u'name': u'IMG_20170315_174530.jpg'}],\n",
       " u'incompleteSearch': False,\n",
       " u'kind': u'drive#fileList'}"
      ]
     },
     "execution_count": 32,
     "metadata": {},
     "output_type": "execute_result"
    }
   ],
   "source": [
    "service.files().list(q='name contains \"img\" and modifiedTime > \"2017-03-15\"').execute()"
   ]
  },
  {
   "cell_type": "code",
   "execution_count": null,
   "metadata": {
    "collapsed": false,
    "deletable": true,
    "editable": true
   },
   "outputs": [],
   "source": [
    "service.files().list(q='name contains \"Letters\" and trashed=False and mimeType = \"application/vnd.google-apps.folder\"').execute()"
   ]
  },
  {
   "cell_type": "code",
   "execution_count": null,
   "metadata": {
    "collapsed": false,
    "deletable": true,
    "editable": true
   },
   "outputs": [],
   "source": [
    "myDrive = gDrive(service)\n",
    "myDrive.Xsearch(\"test\", fuzzy = True)"
   ]
  },
  {
   "cell_type": "code",
   "execution_count": null,
   "metadata": {
    "collapsed": true
   },
   "outputs": [],
   "source": []
  },
  {
   "cell_type": "code",
   "execution_count": null,
   "metadata": {
    "collapsed": false
   },
   "outputs": [],
   "source": [
    "myDrive.types"
   ]
  },
  {
   "cell_type": "code",
   "execution_count": null,
   "metadata": {
    "collapsed": false,
    "deletable": true,
    "editable": true
   },
   "outputs": [],
   "source": [
    "myDrive.search(name = \"more cows\")"
   ]
  },
  {
   "cell_type": "code",
   "execution_count": null,
   "metadata": {
    "collapsed": false
   },
   "outputs": [],
   "source": [
    "discovery.mimetypes"
   ]
  }
 ],
 "metadata": {
  "kernelspec": {
   "display_name": "Python 2",
   "language": "python",
   "name": "python2"
  },
  "language_info": {
   "codemirror_mode": {
    "name": "ipython",
    "version": 2
   },
   "file_extension": ".py",
   "mimetype": "text/x-python",
   "name": "python",
   "nbconvert_exporter": "python",
   "pygments_lexer": "ipython2",
   "version": "2.7.13"
  }
 },
 "nbformat": 4,
 "nbformat_minor": 2
}
