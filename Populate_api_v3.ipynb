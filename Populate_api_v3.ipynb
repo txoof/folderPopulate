{
 "cells": [
  {
   "cell_type": "code",
   "execution_count": 1,
   "metadata": {
    "collapsed": true,
    "deletable": true,
    "editable": true
   },
   "outputs": [],
   "source": [
    "import sys\n"
   ]
  },
  {
   "cell_type": "code",
   "execution_count": 3,
   "metadata": {
    "collapsed": false,
    "deletable": true,
    "editable": true
   },
   "outputs": [
    {
     "data": {
      "text/plain": [
       "'-f'"
      ]
     },
     "execution_count": 3,
     "metadata": {},
     "output_type": "execute_result"
    }
   ],
   "source": [
    "sys.argv.pop()"
   ]
  },
  {
   "cell_type": "code",
   "execution_count": 4,
   "metadata": {
    "collapsed": false,
    "deletable": true,
    "editable": true
   },
   "outputs": [
    {
     "data": {
      "text/plain": [
       "['/Users/aciuffo/Virtualenvs/python2/lib/python2.7/site-packages/ipykernel/__main__.py']"
      ]
     },
     "execution_count": 4,
     "metadata": {},
     "output_type": "execute_result"
    }
   ],
   "source": [
    "sys.argv"
   ]
  },
  {
   "cell_type": "code",
   "execution_count": 7,
   "metadata": {
    "collapsed": false,
    "deletable": true,
    "editable": true
   },
   "outputs": [],
   "source": [
    "from __future__ import print_function\n",
    "import httplib2\n",
    "import os\n",
    "\n",
    "from apiclient import discovery\n",
    "from oauth2client import client\n",
    "from oauth2client import tools\n",
    "from oauth2client.file import Storage\n",
    "\n",
    "from apiclient import errors as gerror\n",
    "\n",
    "SCOPES = 'https://www.googleapis.com/auth/drive'\n",
    "# SCOPES = 'https://www.googleapis.com/auth/drive.file' # try this one!\n",
    "# SCOPES = 'https://www.googleapis.com/auth/drive.metadata.readonly'\n",
    "CLIENT_SECRET_FILE = 'client_secret_qs.json'\n",
    "APPLICATION_NAME = 'Drive API Python Quickstart'\n",
    "\n",
    "def getCredentials():\n",
    "    home_dir = os.path.expanduser('~')\n",
    "    credential_dir = os.path.join(home_dir, '.credentials')\n",
    "    if not os.path.exists(credential_dir):\n",
    "        try:\n",
    "            os.makedirs(credential_dir)\n",
    "        except (IOError, OSError) as e:\n",
    "            print(e)\n",
    "        \n",
    "\n",
    "    credential_path = os.path.join(credential_dir, 'drive-python.json')\n",
    "\n",
    "    store = Storage(credential_path)\n",
    "    credentials = store.get()\n",
    "    if not credentials or credentials.invalid:\n",
    "        flow = client.flow_from_clientsecrets(CLIENT_SECRET_FILE, SCOPES)\n",
    "        flow.user_agent = 'foo'\n",
    "        credentials = tools.run_flow(flow, store, None)\n",
    "    return(credentials)\n",
    "\n",
    "\n",
    "\n",
    "\n"
   ]
  },
  {
   "cell_type": "code",
   "execution_count": 9,
   "metadata": {
    "collapsed": false,
    "deletable": true,
    "editable": true
   },
   "outputs": [],
   "source": [
    "credentials = getCredentials()\n",
    "http = credentials.authorize(httplib2.Http())\n",
    "service = discovery.build('drive', 'v3', credentials=credentials)"
   ]
  },
  {
   "cell_type": "code",
   "execution_count": 63,
   "metadata": {
    "collapsed": false,
    "deletable": true,
    "editable": true
   },
   "outputs": [],
   "source": [
    "class gDrive():\n",
    "    '''\n",
    "    creates a google drive interface object\n",
    "    \n",
    "    Accepts:\n",
    "    google drive v3 service object: (discover.build('drive', 'v3', credentials = credentials_object)\n",
    "    \n",
    "    '''\n",
    "    def __init__(self, object):\n",
    "        self.service = object\n",
    "    \n",
    "    def quote(self, string):\n",
    "        '''\n",
    "        add double quotes arounda string\n",
    "        '''\n",
    "        return('\"'+str(string)+'\"')\n",
    "    \n",
    "    def addFile(self, name = None, folder = False):\n",
    "        pass\n",
    "    \n",
    "    \n",
    "    def search(self, name = None, trashed = False, fuzzy = False, parent = None):\n",
    "        if name is None:\n",
    "            print ('specify a folder or file name')\n",
    "            return(False)\n",
    "        else:\n",
    "            # this needs to be surrounded by double quotes\n",
    "            name = self.quote(name)\n",
    "                \n",
    "        # give a reasonable value if this is null\n",
    "        if parent:\n",
    "            parentVal = self.quote(parent)            \n",
    "        else:\n",
    "            parentVal = self.quote('null')\n",
    "\n",
    "            \n",
    "        if fuzzy:\n",
    "            fuzzyVal = ' contains '\n",
    "        else:\n",
    "            fuzzyVal = '='\n",
    "            \n",
    "        supportedFeatures = {'name':'name'+fuzzyVal+self.quote(eval(name)), \n",
    "                             'trashed': 'trashed='+eval(self.quote(trashed)), \n",
    "                             'parent': self.quote(eval(parentVal))+' in parents'}\n",
    "        \n",
    "        # exclude these if they are set to none or false\n",
    "        nullFeatures =['parent']\n",
    "        \n",
    "        queryList = []\n",
    "        for each in supportedFeatures:\n",
    "            if each in nullFeatures and not eval(each):\n",
    "                pass\n",
    "            else:\n",
    "                queryList.append(str(supportedFeatures[each])) #+ str(myDict[each]))\n",
    "\n",
    "        query = ' and '.join(queryList)        \n",
    "        print(query)\n",
    "        \n",
    "        try:\n",
    "            result = self.service.files().list(q=query).execute()\n",
    "        except gerror.HttpError as e:\n",
    "            print('File Not Found')\n",
    "            return(False)\n",
    "        \n",
    "        return(result)"
   ]
  },
  {
   "cell_type": "code",
   "execution_count": 64,
   "metadata": {
    "collapsed": false
   },
   "outputs": [
    {
     "data": {
      "text/plain": [
       "{u'files': [{u'id': u'0B9WTleJ1MzaYaEk1akx4WEFtMFU',\n",
       "   u'kind': u'drive#file',\n",
       "   u'mimeType': u'application/vnd.google-apps.folder',\n",
       "   u'name': u'more cows'},\n",
       "  {u'id': u'0B9WTleJ1MzaYVkRscmdJU3dlUXM',\n",
       "   u'kind': u'drive#file',\n",
       "   u'mimeType': u'application/vnd.google-apps.folder',\n",
       "   u'name': u'Moreno, Manuel - 504155'},\n",
       "  {u'id': u'0B5r-H8QVHwi8OUI0T3IyMDRmdWM',\n",
       "   u'kind': u'drive#file',\n",
       "   u'mimeType': u'text/xml',\n",
       "   u'name': u'https-::drive.googleblog.com:2013:10:more-magic-in-slides-editable-themes.html.webloc'},\n",
       "  {u'id': u'0B4DkefTpSUUmeFhNT0JVOHJIeWs',\n",
       "   u'kind': u'drive#file',\n",
       "   u'mimeType': u'image/png',\n",
       "   u'name': u'More Tools.png'},\n",
       "  {u'id': u'0B4DkefTpSUUmd3RGdUdxUDBZVTg',\n",
       "   u'kind': u'drive#file',\n",
       "   u'mimeType': u'image/png',\n",
       "   u'name': u'More Tools.png'},\n",
       "  {u'id': u'0B96rPy38vy6Ac1o3NmVveWQxWTQ',\n",
       "   u'kind': u'drive#file',\n",
       "   u'mimeType': u'text/xml',\n",
       "   u'name': u'http-::appleinsider.com:articles:15:06:12:inside-ios-9-apples-notes-app-is-greatly-enhanced-with-drawings-lists-pictures-links-more.webloc'},\n",
       "  {u'id': u'0B4uiWYpCa7H9cDhQeFBWYjVtYzA',\n",
       "   u'kind': u'drive#file',\n",
       "   u'mimeType': u'application/pdf',\n",
       "   u'name': u'MakeUseOf.com_-_Go_Google_free_email_and_more.pdf'},\n",
       "  {u'id': u'0B4uiWYpCa7H9bnUwNU43XzB5bTQ',\n",
       "   u'kind': u'drive#file',\n",
       "   u'mimeType': u'application/pdf',\n",
       "   u'name': u'Google_free_email_and_more.pdf'}],\n",
       " u'incompleteSearch': False,\n",
       " u'kind': u'drive#fileList'}"
      ]
     },
     "execution_count": 64,
     "metadata": {},
     "output_type": "execute_result"
    }
   ],
   "source": [
    "service.files().list(q='name contains \"more\" and trashed=False').execute()"
   ]
  },
  {
   "cell_type": "code",
   "execution_count": 67,
   "metadata": {
    "collapsed": false
   },
   "outputs": [
    {
     "name": "stdout",
     "output_type": "stream",
     "text": [
      "name contains \"cows\" and trashed=False\n"
     ]
    },
    {
     "data": {
      "text/plain": [
       "3"
      ]
     },
     "execution_count": 67,
     "metadata": {},
     "output_type": "execute_result"
    }
   ],
   "source": [
    "myDrive = gDrive(service)\n",
    "myDrive.search(\"cows\", fuzzy = True)"
   ]
  },
  {
   "cell_type": "code",
   "execution_count": 68,
   "metadata": {
    "collapsed": false
   },
   "outputs": [
    {
     "name": "stdout",
     "output_type": "stream",
     "text": [
      "name=\"more cows\" and trashed=False\n"
     ]
    },
    {
     "data": {
      "text/plain": [
       "{u'files': [{u'id': u'0B9WTleJ1MzaYaEk1akx4WEFtMFU',\n",
       "   u'kind': u'drive#file',\n",
       "   u'mimeType': u'application/vnd.google-apps.folder',\n",
       "   u'name': u'more cows'}],\n",
       " u'incompleteSearch': False,\n",
       " u'kind': u'drive#fileList'}"
      ]
     },
     "execution_count": 68,
     "metadata": {},
     "output_type": "execute_result"
    }
   ],
   "source": [
    "myDrive.search(name = \"more cows\")"
   ]
  }
 ],
 "metadata": {
  "kernelspec": {
   "display_name": "Python 2",
   "language": "python",
   "name": "python2"
  },
  "language_info": {
   "codemirror_mode": {
    "name": "ipython",
    "version": 2
   },
   "file_extension": ".py",
   "mimetype": "text/x-python",
   "name": "python",
   "nbconvert_exporter": "python",
   "pygments_lexer": "ipython2",
   "version": "2.7.13"
  }
 },
 "nbformat": 4,
 "nbformat_minor": 2
}
