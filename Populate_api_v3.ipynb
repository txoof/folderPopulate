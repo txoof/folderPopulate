{
 "cells": [
  {
   "cell_type": "code",
   "execution_count": 1,
   "metadata": {
    "collapsed": true,
    "deletable": true,
    "editable": true
   },
   "outputs": [],
   "source": [
    "import sys\n"
   ]
  },
  {
   "cell_type": "code",
   "execution_count": 4,
   "metadata": {
    "collapsed": false,
    "deletable": true,
    "editable": true
   },
   "outputs": [
    {
     "data": {
      "text/plain": [
       "'-f'"
      ]
     },
     "execution_count": 4,
     "metadata": {},
     "output_type": "execute_result"
    }
   ],
   "source": [
    "sys.argv.pop()"
   ]
  },
  {
   "cell_type": "code",
   "execution_count": 5,
   "metadata": {
    "collapsed": false,
    "deletable": true,
    "editable": true
   },
   "outputs": [
    {
     "data": {
      "text/plain": [
       "['/Users/aciuffo/Virtualenvs/python2/lib/python2.7/site-packages/ipykernel/__main__.py']"
      ]
     },
     "execution_count": 5,
     "metadata": {},
     "output_type": "execute_result"
    }
   ],
   "source": [
    "sys.argv"
   ]
  },
  {
   "cell_type": "code",
   "execution_count": null,
   "metadata": {
    "collapsed": true,
    "deletable": true,
    "editable": true
   },
   "outputs": [],
   "source": [
    "sys.argv.append('./student_export.text')"
   ]
  },
  {
   "cell_type": "code",
   "execution_count": 91,
   "metadata": {
    "collapsed": false,
    "deletable": true,
    "editable": true
   },
   "outputs": [],
   "source": [
    "import sys\n",
    "import re\n",
    "import datetime\n",
    "import unicodedata\n",
    "import csv\n",
    "import logging\n",
    "\n",
    "# I kind of hate this\n",
    "#from __future__ import print_function\n",
    "\n",
    "# this may be unecessary - double check\n",
    "import httplib2\n",
    "import os\n",
    "\n",
    "from apiclient import discovery\n",
    "from oauth2client import client\n",
    "from oauth2client import tools\n",
    "from oauth2client.file import Storage \n",
    "from apiclient import errors \n",
    "\n",
    "SCOPES = 'https://www.googleapis.com/auth/drive'\n",
    "#SCOPES = 'https://www.googleapis.com/auth/drive.file' # try this one!\n",
    "# SCOPES = 'https://www.googleapis.com/auth/drive.metadata.readonly'\n",
    "CLIENT_SECRET_FILE = 'client_secret_qs.json'\n",
    "APPLICATION_NAME = 'Drive API Python Quickstart'"
   ]
  },
  {
   "cell_type": "code",
   "execution_count": 7,
   "metadata": {
    "collapsed": true,
    "deletable": true,
    "editable": true
   },
   "outputs": [],
   "source": [
    "def strip_accents(s):\n",
    "    s = unicode(s, \"utf-8\")\n",
    "    return ''.join(c for c in unicodedata.normalize('NFD', s)\n",
    "        if unicodedata.category(c) != 'Mn')\n"
   ]
  },
  {
   "cell_type": "code",
   "execution_count": 8,
   "metadata": {
    "collapsed": true,
    "deletable": true,
    "editable": true
   },
   "outputs": [],
   "source": [
    "def get_valid_filename(s):\n",
    "    \"\"\"\n",
    "    Return the given string converted to a string that can be used for a clean\n",
    "    filename. Remove leading and trailing spaces\n",
    "    \"\"\"\n",
    "    s = s.strip()\n",
    "    s = strip_accents(s)\n",
    "    return re.sub(r'(?u)[^-\\w., ]', '', s)"
   ]
  },
  {
   "cell_type": "code",
   "execution_count": 9,
   "metadata": {
    "collapsed": false,
    "deletable": true,
    "editable": true
   },
   "outputs": [],
   "source": [
    "def fileRead(fname):\n",
    "    '''\n",
    "    read a file into a list, strip out all accented and special characters, leading spaces\n",
    "    '''\n",
    "    lines = []\n",
    "    try:\n",
    "        with open(fname) as f:\n",
    "            for each in f:\n",
    "                each = get_valid_filename(each)\n",
    "                lines.append(each.strip('\\n'))\n",
    "            return(lines)\n",
    "    except (OSError, IOError) as e:\n",
    "        print 'error reading file:', fname, e\n",
    "        return(False)"
   ]
  },
  {
   "cell_type": "code",
   "execution_count": 10,
   "metadata": {
    "collapsed": true,
    "deletable": true,
    "editable": true
   },
   "outputs": [],
   "source": [
    "def pathify(parts = [], basepath = ''):\n",
    "    '''\n",
    "    create a path from a list of strings\n",
    "    \n",
    "    accepts:\n",
    "        * parts (list): list of strings ['part_one', 'part_two', 'part_three']\n",
    "        * basepath (string): string to append to the start of the path (default: ./)\n",
    "    \n",
    "    returns:\n",
    "        * path: basePath/part_one/part_two/part_three/\n",
    "    '''\n",
    "    path = basepath\n",
    "    if len(parts ) > 0:\n",
    "        for each in parts:\n",
    "            if re.match('.*\\/$', each):\n",
    "                path = path + each\n",
    "            else:\n",
    "                path = path + each + '/'\n",
    "    return(path)"
   ]
  },
  {
   "cell_type": "code",
   "execution_count": 11,
   "metadata": {
    "collapsed": false,
    "deletable": true,
    "editable": true
   },
   "outputs": [],
   "source": [
    "def getCredentials():\n",
    "    home_dir = os.path.expanduser('~')\n",
    "    credential_dir = os.path.join(home_dir, '.credentials')\n",
    "    if not os.path.exists(credential_dir):\n",
    "        try:\n",
    "            os.makedirs(credential_dir)\n",
    "        except (IOError, OSError) as e:\n",
    "            print(e)\n",
    "        \n",
    "\n",
    "    credential_path = os.path.join(credential_dir, 'drive-python.json')\n",
    "\n",
    "    store = Storage(credential_path)\n",
    "    credentials = store.get()\n",
    "    if not credentials or credentials.invalid:\n",
    "        flow = client.flow_from_clientsecrets(CLIENT_SECRET_FILE, SCOPES)\n",
    "        flow.user_agent = 'foo'\n",
    "        credentials = tools.run_flow(flow, store, None)\n",
    "    return(credentials)"
   ]
  },
  {
   "cell_type": "code",
   "execution_count": 12,
   "metadata": {
    "collapsed": true,
    "deletable": true,
    "editable": true
   },
   "outputs": [],
   "source": [
    "class GDriveError(Exception):\n",
    "    pass"
   ]
  },
  {
   "cell_type": "code",
   "execution_count": 197,
   "metadata": {
    "collapsed": false,
    "deletable": true,
    "editable": true
   },
   "outputs": [
    {
     "ename": "SyntaxError",
     "evalue": "non-keyword arg after keyword arg (<ipython-input-197-24705623a0c4>, line 194)",
     "output_type": "error",
     "traceback": [
      "\u001b[0;36m  File \u001b[0;32m\"<ipython-input-197-24705623a0c4>\"\u001b[0;36m, line \u001b[0;32m194\u001b[0m\n\u001b[0;31m    result = self.service.files().list(q=' and '.join(qList), orderBy=orderBy, fieldsProcessed).execute()\u001b[0m\n\u001b[0;31mSyntaxError\u001b[0m\u001b[0;31m:\u001b[0m non-keyword arg after keyword arg\n"
     ]
    }
   ],
   "source": [
    "class gDrive():\n",
    "    '''\n",
    "    creates a google drive interface object\n",
    "    \n",
    "    Accepts:\n",
    "    google drive v3 service object: (discover.build('drive', 'v3', credentials = credentials_object)\n",
    "    \n",
    "    '''\n",
    "    def __init__(self, object):\n",
    "        if  not isinstance(object, discovery.Resource):\n",
    "            print ('Error: googleapicleint.discovery.Resource object expected')\n",
    "            print ('{:>5}create a resource object:'.format(''))\n",
    "            print ('{:>10}credentials = getCredentials(credJSON = \"cleint_secret.json\")'.format(''))\n",
    "            print ('{:>10}service = discovery.build(\"drive\", \"v3\", credentials=credentials)'.format(''))\n",
    "            print ('{:>10}myDrive = gDrive(service)'.format(''))\n",
    "            return(None)\n",
    "        self.service = object\n",
    "        # https://developers.google.com/drive/v3/web/mime-types\n",
    "        self.mimeTypes = {'audio': 'application/vnd.google-apps.audio',\n",
    "                          'docs': 'application/vnd.google-apps.document',\n",
    "                          'drawing': 'application/vnd.google-apps.drawing',\n",
    "                          'file': 'application/vnd.google-apps.file',\n",
    "                          'folder': 'application/vnd.google-apps.folder',\n",
    "                          'forms': 'application/vnd.google-apps.form',\n",
    "                          'mymaps': 'application/vnd.google-apps.map',\n",
    "                          'photos': 'application/vnd.google-apps.photo',\n",
    "                          'slides': 'application/vnd.google-apps.presentation',\n",
    "                          'scripts': 'application/vnd.google-apps.script',\n",
    "                          'sites': 'application/vnd.google-apps.sites',\n",
    "                          'sheets': 'application/vnd.google-apps.spreadsheet',\n",
    "                          'video': 'application/vnd.google-apps.video'}\n",
    "        \n",
    "        # fields to include in partial responses\n",
    "        # https://developers.google.com/apis-explorer/#p/drive/v3/drive.files.create\n",
    "        self.fields = ['id', 'parents', 'mimeType', 'webViewLink', 'size', 'createdTime', 'trashed', 'kind', 'name']\n",
    "    \n",
    "#     types = property()\n",
    "    \n",
    "    @property\n",
    "    def types(self):\n",
    "        '''\n",
    "        Display supported mimeTypes\n",
    "        '''\n",
    "        print('supported mime types:')\n",
    "        for key in self.mimeTypes:\n",
    "            #print('%10s: %s' % (key, self.mimeTypes[key]))\n",
    "            print('{:8} {val}'.format(key+':', val=self.mimeTypes[key]))\n",
    "    \n",
    "#     def quote(self, string):\n",
    "#         '''\n",
    "#         add double quotes arounda string\n",
    "#         '''\n",
    "#         return('\"'+str(string)+'\"')\n",
    "    \n",
    "\n",
    "    \n",
    "    def add(self, name = None, mimeType = False, parents = None, \n",
    "            fields = 'webViewLink, mimeType, id', sanitize = True):\n",
    "        '''\n",
    "        add a file to google drive:\n",
    "        \n",
    "        args:\n",
    "            name (string): human readable name\n",
    "            mimeType (string): mimeType (see self.mimeTypes for a complete list)\n",
    "            parents (list): list of parent folders\n",
    "            fields (comma separated string): properties to query and return any of the following:\n",
    "                'parents', 'mimeType', 'webViewLink', \n",
    "                'size', 'createdTime', 'trashed'\n",
    "                'id'\n",
    "            sanitize (bool): remove any field options that are not in the above list - false to allow anything\n",
    "            \n",
    "        '''\n",
    "\n",
    "        fieldsExpected = self.fields\n",
    "        fieldsProcessed = []\n",
    "        fieldsUnknown = []\n",
    "        \n",
    "        if sanitize:\n",
    "            # remove whitespace and unknown options\n",
    "            for each in fields.replace(' ','').split(','):\n",
    "                if each in fieldsExpected:\n",
    "                    fieldsProcessed.append(each)\n",
    "                else:\n",
    "                    fieldsUnknown.append(each)\n",
    "        else:\n",
    "            fieldsProcessed = fields.split(',')\n",
    "            \n",
    "        if len(fieldsUnknown) > 0:\n",
    "            print ('unrecognized fields: {}'.format(fieldsUnknown))\n",
    "        \n",
    "        \n",
    "        body={}\n",
    "        if name is None:\n",
    "            print('specify a folder or file name')\n",
    "            return(False)\n",
    "        else:\n",
    "            body['name'] = name\n",
    "        \n",
    "        if mimeType in self.mimeTypes:\n",
    "            body['mimeType'] = self.mimeTypes[mimeType]\n",
    "        \n",
    "        if isinstance(parents, list):\n",
    "            body['parents'] = parents\n",
    "        elif parents:\n",
    "            body['parents'] = [parents]\n",
    "        \n",
    "        try:\n",
    "            result = self.service.files().create(body=body, fields=','.join(fieldsProcessed)).execute()\n",
    "            return(result)\n",
    "        except errors.HttpError as e:\n",
    "            raise GDriveError(e)\n",
    "            return(False)\n",
    "        \n",
    "        \n",
    "        #body = {'name':'release the schmoo!', 'mimeType':'application/vnd.google-apps.folder', 'parents':[\"0BzC-V2QIsGRGWXNxNmhjc0FITDQ\"]}\n",
    "# service.files().create(body=body).execute()\n",
    "        \n",
    "\n",
    "    \n",
    "    def search(self, name = None, trashed = None, mimeType = False, fuzzy = False, date = None, dopperator = '>', \n",
    "               parents = None, orderBy = 'createdTime', quiet = True, \n",
    "               fields = 'name, id, kind, mimeType, webViewLink', sanitize = True):\n",
    "        '''\n",
    "        search for an item by name and other properties in google drive\n",
    "        \n",
    "        args:\n",
    "            name (string): item name in google drive - required\n",
    "            trashed (bool): item is not in trash - default None (not used)\n",
    "            mimeType = (string): item is one of the known mime types (gdrive.mimeTypes) - default None\n",
    "            fuzzy = (bool): substring search of names in drive\n",
    "            date = (RFC3339 date string): modification time date string (YYYY-MM-DD)\n",
    "            dopperator (date comparison opprator string): <, >, =, >=, <=  - default >\n",
    "            parents = (string): google drive file id string\n",
    "            orderBy = (comma separated string): order results assending by keys below - default createdTime:\n",
    "                        'createdTime', 'folder', 'modifiedByMeTime', \n",
    "                        'modifiedTime', 'name', 'quotaBytesUsed', \n",
    "                        'recency', 'sharedWithMeTime', 'starred', \n",
    "                        'viewedByMeTime'\n",
    "            fields (comma separated string): properties to query and return any of the following:\n",
    "                'parents', 'mimeType', 'webViewLink', \n",
    "                'size', 'createdTime', 'trashed'\n",
    "                'id'\n",
    "            sanitize (bool): remove any field options that are not in the above list - false to allow anything\n",
    "                        \n",
    "                        \n",
    "            \n",
    "        returns:\n",
    "            list of file dict\n",
    "        '''\n",
    "        features = ['name', 'trashed', 'mimeType', 'date', 'parents']\n",
    "        build = {'name' : 'name {} \"{}\"'.format(('contains' if fuzzy else '='), name),\n",
    "                 'trashed' : 'trashed={}'. format(trashed),\n",
    "                 'mimeType' : 'mimeType=\"{}\"'.format(self.mimeTypes[mimeType] if mimeType in self.mimeTypes else ''),\n",
    "                 'parents': '\"{}\" in parents'.format(parents),\n",
    "                 'date': 'modifiedTime{}\"{}\"'.format(dopperator, date)}\n",
    "        \n",
    "        fieldsExpected = self.fields\n",
    "        \n",
    "        fieldsProcessed = []\n",
    "        fieldsUnknown = []\n",
    "\n",
    "        if sanitize:\n",
    "            # remove whitespace and unknown options\n",
    "            for each in fields.replace(' ','').split(','):\n",
    "                if each in fieldsExpected:\n",
    "                    fieldsProcessed.append(each)\n",
    "                else:\n",
    "                    fieldsUnknown.append(each)\n",
    "        else:\n",
    "            fieldsProcessed = fields.split(',')\n",
    "        if len(fieldsUnknown) > 0:\n",
    "            print ('unrecognized fields: {}'.format(fieldsUnknown))\n",
    "        \n",
    "        fieldsProcessed = 'fields=files{}'.format(tuple(fieldsProcessed))\n",
    "\n",
    "        \n",
    "        # provides for setting trashed to True/False if the input is not None\n",
    "        if not isinstance(trashed, type(None)):\n",
    "            # set to true as the variable is now in use, but it's value has been set above\n",
    "            trashed = True\n",
    "        \n",
    "        qList = []\n",
    "\n",
    "        # evaluate feature options; if they are != None/False, use them in building query\n",
    "        for each in features:\n",
    "            if eval(each):\n",
    "                qList.append(build[each])\n",
    "                \n",
    "        if not quiet:\n",
    "            print(' and '.join(qList))\n",
    "                \n",
    "        try:\n",
    "            # build a query with \"and\" statements\n",
    "            result = self.service.files().list(q=' and '.join(qList), orderBy=orderBy, fieldsProcessed).execute()\n",
    "            return(result)\n",
    "        except errors.HttpError as e:\n",
    "            raise GDriveError(e)\n",
    "            return(False)\n",
    "\n",
    "    def ls(self, *args, **kwargs):\n",
    "        '''\n",
    "        List files in google drive using any of the following properties:\n",
    "            \n",
    "        accepts:\n",
    "            name (string): item name in google drive - required\n",
    "            trashed (bool): item is not in trash - default None (not used)\n",
    "            mimeType = (string): item is one of the known mime types (gdrive.mimeTypes) - default None\n",
    "            fuzzy = (bool): substring search of names in drive\n",
    "            date = (RFC3339 date string): modification time date string (YYYY-MM-DD)\n",
    "            dopperator (date comparison opprator string): <, >, =, >=, <=  - default >\n",
    "            parent = (string): google drive file id string    \n",
    "        '''\n",
    "        try:\n",
    "            result = self.search(*args, **kwargs)\n",
    "            for eachFile in result.get('files', []):\n",
    "                print('name: {f[name]}, ID:{f[id]}, mimeType:{f[mimeType]}'.format(f=eachFile))\n",
    "            return(result)\n",
    "        except GDriveError as e:\n",
    "            raise GDriveError(e)\n",
    "            \n",
    "    \n",
    "    \n",
    "    def getprops(self, fileId = None, fields = 'parents, mimeType, webViewLink', sanitize=True):\n",
    "        '''\n",
    "        get a file or folder's properties based on google drive fileId\n",
    "        \n",
    "        for a more complete list: https://developers.google.com/drive/v3/web/migration\n",
    "        \n",
    "        args:\n",
    "            fileId (string): google drive file ID\n",
    "            fields (comma separated string): properties to query and return any of the following:\n",
    "                'parents', 'mimeType', 'webViewLink', 'size', 'createdTime', 'trashed'\n",
    "            sanitize (bool): remove any field options that are not in the above list - false to allow anything\n",
    "            \n",
    "        returns:\n",
    "            list of dictionary - google drive file properties\n",
    "            \n",
    "        raises GDriveError\n",
    "        '''\n",
    "        fieldsExpected = self.fields\n",
    "        \n",
    "        fieldsProcessed = []\n",
    "        fieldsUnknown = []\n",
    "\n",
    "        if sanitize:\n",
    "            # remove whitespace and unknown options\n",
    "            for each in fields.replace(' ','').split(','):\n",
    "                if each in fieldsExpected:\n",
    "                    fieldsProcessed.append(each)\n",
    "                else:\n",
    "                    fieldsUnknown.append(each)\n",
    "        else:\n",
    "            fieldsProcessed = fields.split(',')\n",
    "        if len(fieldsUnknown) > 0:\n",
    "            print ('unrecognized fields: {}'.format(fieldsUnknown))\n",
    "        \n",
    "        try:\n",
    "            result = self.service.files().get(fileId=fileId, fields=','.join(fieldsProcessed)).execute()\n",
    "            return(result)\n",
    "        except errors.HttpError as e:\n",
    "            raise GDriveError(e)\n",
    "            return(False)\n",
    "        \n",
    "\n",
    "                \n",
    "    \n",
    "    \n",
    "    def parents(self, fileId):\n",
    "        \"\"\"get a file's parents.\n",
    "\n",
    "        Args:\n",
    "            fileId: ID of the file to print parents for.\n",
    "        \n",
    "        raises GDriveError\n",
    "        \"\"\"\n",
    "        try:\n",
    "            parents = self.service.files().get(fileId=fileId, fields='parents').execute()\n",
    "            return(parents)\n",
    "        except errors.HttpError as e:\n",
    "            raise GDriveError(e)\n",
    "            return(False)\n",
    "    \n",
    "    def rm(self):\n",
    "        pass"
   ]
  },
  {
   "cell_type": "code",
   "execution_count": 193,
   "metadata": {
    "collapsed": false,
    "deletable": true,
    "editable": true
   },
   "outputs": [
    {
     "name": "stdout",
     "output_type": "stream",
     "text": [
      "fields=files('a', 'dog', 'cat')\n"
     ]
    }
   ],
   "source": [
    "fieldsProcessed = ['a', 'dog', 'cat']\n",
    "print fieldsProcessed"
   ]
  },
  {
   "cell_type": "code",
   "execution_count": 186,
   "metadata": {
    "collapsed": false,
    "deletable": true,
    "editable": true
   },
   "outputs": [],
   "source": [
    "def main():\n",
    "    \n",
    "    BASEFOLDER = '0B9WTleJ1MzaYcmdmTWNNNF9pa1E'\n",
    "    \n",
    "    INPUTFILE = './student_export.text'\n",
    "    \n",
    "    \n",
    "\n",
    "    # init the log; this removes any old log handlers (this is particularly useful when testing in an IDE)\n",
    "    log = logging.getLogger()\n",
    "    if len(log.handlers) > 0:\n",
    "        for each in range(0, len(log.handlers)):\n",
    "            log.removeHandler(log.handlers[0])\n",
    "            \n",
    "    # set the log format:\n",
    "    # [  DEBUG 2017-02-12 19:14] loading module: requests\n",
    "    logFormatter = logging.Formatter('[%(levelname)8s %(asctime)s] %(message)s', '%Y-%m-%d %H:%M')\n",
    "    consoleFormatter = logging.Formatter('[%(levelname)-8s] %(message)s')\n",
    "    # set root logger\n",
    "    rootLogger = logging.getLogger()       \n",
    "    \n",
    "    # silence INFO from the google api client\n",
    "    logging.getLogger('discovery').setLevel(logging.ERROR)\n",
    "\n",
    "    \n",
    "    # add a conshole handle to the root logger\n",
    "    consoleHandler = logging.StreamHandler(sys.stdout)\n",
    "    consoleHandler.setFormatter(logFormatter)\n",
    "    rootLogger.addHandler(consoleHandler) \n",
    "    \n",
    "    rootLogger.setLevel(logging.DEBUG)\n",
    "    \n",
    "    \n",
    "    credentials = getCredentials()\n",
    "    http = credentials.authorize(httplib2.Http())\n",
    "    try:\n",
    "#         service = discovery.build('drive', 'v3', credentials=credentials)\n",
    "        service = discovery.build('drive', 'v3', http=http, cache_discovery=False)\n",
    "    except Exception as e:\n",
    "        print('Error communicating with Google: {}'.format(e))\n",
    "        print('exiting')\n",
    "        return(False)\n",
    "\n",
    "    myDrive = gDrive(service)\n",
    "\n",
    "    # path to desktop of this user (this should work on macs)\n",
    "    desktopPath = pathify([os.path.expanduser('~')], 'Desktop')\n",
    "\n",
    "    # Fields expected in CSV file containing student data\n",
    "    # move this into a resource file? - see the folder list below\n",
    "    expected = ['ClassOf', 'LastFirst', 'Student_Number']\n",
    "\n",
    "    # map of CSV fields to elements in list\n",
    "    headerMap = {}\n",
    "\n",
    "    # list of folders to populate into each students' folder\n",
    "    if os.path.exists(desktopPath+'folders.txt'):\n",
    "        fileList = desktopPath + 'folders.txt'\n",
    "    else:\n",
    "        fileList = './folders.txt'\n",
    "\n",
    "    # list of student information\n",
    "    studentLinks = []\n",
    "    \n",
    "\n",
    "    # list containing CSV\n",
    "    studentCSV = []\n",
    "\n",
    "    # list of folders to add under each students' path\n",
    "    gradeFolders = fileRead(fileList)\n",
    "\n",
    "\n",
    "\n",
    "#         print('input file: {}'.format(sys.argv[1]))\n",
    "#         studentInfo = sys.argv[1]\n",
    "\n",
    "    studentInfo = INPUTFILE\n",
    "\n",
    "    logging.info('reading grade level file')\n",
    "    if gradeFolders:\n",
    "        logging.info('Folders to be created for each student: {}'.format(len(gradeFolders)))\n",
    "        logging.info('{:>5}List of folders to be created:'.format(''))\n",
    "#         print('Folders to be created for each student: {}'.format(len(gradeFolders)))\n",
    "#         print('{:>5}List of folders to be created:'.format(''))\n",
    "        for folder in gradeFolders:\n",
    "            logging.info('{:>10}{}'.format('', folder))\n",
    "#             print('{:>10}{}'.format('', folder))\n",
    "    else:\n",
    "        print('please place a file named \"folders.txt\" containing a list of folders (one on each line) on the Desktop')\n",
    "        print('exiting')\n",
    "        return(False)\n",
    "\n",
    "    # read the csv file in Universal newline mode (rU)\n",
    "    logging.info('reading student CSV file')\n",
    "    try:\n",
    "        with open(studentInfo, 'rU') as csvfile:\n",
    "            csvreader = csv.reader(csvfile)\n",
    "            for row in csvreader:\n",
    "                studentCSV.append(row)\n",
    "    except (OSError, IOError) as e:\n",
    "        print 'error reading file:', studentInfo, e\n",
    "        print 'exiting'\n",
    "        return(False)\n",
    "\n",
    "    # check if there is content in the CSV\n",
    "    if len(studentCSV) > 1:\n",
    "        logging.info('{} student records found in {}'.format(len(studentCSV)-1, studentInfo))\n",
    "#         print('{} student records found in {}'.format(len(studentCSV)-1, studentInfo))\n",
    "    else:\n",
    "        print('no student records found in {}'.format(studentInfo))\n",
    "        print('exiting') \n",
    "        return(False)\n",
    "\n",
    "    # check for expected headers in CSV data\n",
    "    # pop the headers from the list\n",
    "    csvHeader = studentCSV.pop(0)\n",
    "    missingHeaders = []\n",
    "    for each in expected:\n",
    "        if each not in csvHeader:\n",
    "            missingHeaders.append(each)\n",
    "\n",
    "    if len(missingHeaders) > 0:\n",
    "        print('Error:')\n",
    "        for each in missingHeaders:\n",
    "            print('{} missing header: {}'.format(studentInfo, each))\n",
    "        print 'please recreate file', studentInfo, 'with all required headers:'\n",
    "        print '     ', expected\n",
    "        print 'stopping'\n",
    "        return(False)\n",
    "\n",
    "    # map headers to their index\n",
    "    for index, value in enumerate(csvHeader):\n",
    "        headerMap[value]=index\n",
    "    \n",
    "    # process the CSV and start creating folders\n",
    "\n",
    "    studentRecords = [] # list of student name, id number, etc, and dict of google information\n",
    "    studenetFailures = [] # list of students that had one failure or another\n",
    "    gdClassOfFoldersDict = {} # dict of created or discovered Class Of xxxx folders\n",
    "    \n",
    "    ### check for BASE FOLDER before continuing\n",
    "    # if it does not exist inform the user and bail\n",
    "    try:\n",
    "        gdBaseFolder = myDrive.getprops(fileId = BASEFOLDER, fields = 'webViewLink')\n",
    "    except GDriveError as e:\n",
    "        print('Error checking for student portfolio directory')\n",
    "        print(e)\n",
    "        return(False)\n",
    "    except Exception as e:\n",
    "        print('unexpected error: {}'.format(e))\n",
    "        return(False)\n",
    "\n",
    "    if not gdBaseFolder.get('webViewLink'):\n",
    "        print('Fatal error: student portfolio directory not found')\n",
    "        print(gdBaseFolder)\n",
    "        print('explain how to fix this error')\n",
    "        return(False)\n",
    "\n",
    "    ### loop through students\n",
    "    logging.info('Searching for and creating google drive folders')\n",
    "    for index, student in enumerate(studentCSV):\n",
    "    \n",
    "        ## check if the Class OF folder exists, record in  (gdClassOfFoldersList)\n",
    "        # it it does not exist, create it and record \n",
    "        # if more than one exists, inform the user\n",
    "\n",
    "        classOf = 'Class Of-' + student[headerMap['ClassOf']]\n",
    "\n",
    "        logging.info('searching google drive for \"Class Of\" folder: {}'.format(classOf))\n",
    "        # check to see if 'Class Of' folder has been accessed before\n",
    "        if classOf in gdClassOfFoldersDict:\n",
    "            gdClassOfFolder = gdClassOfFoldersDict[classOf]\n",
    "            logging.debug('folder has been previously accessed')\n",
    "        else: # search google drive for the folder\n",
    "            try:\n",
    "                folder = myDrive.search(name = classOf, orderBy = 'createdTime', trashed = False, mimeType = 'folder')\n",
    "            except GDriveError as e:\n",
    "                print('error processing student: {}'.format(student[headerMap['LastFirst']]))\n",
    "                studentFailure.append(student)\n",
    "                continue\n",
    "            except Exception as e:\n",
    "                print('Fatal error. Exiting')\n",
    "                print(e)\n",
    "                return(False)\n",
    "\n",
    "            # check for results\n",
    "            # always check for the oldest - [files][0] (set by orderBy = 'createdTime)\n",
    "            if len(folder['files']) > 0:\n",
    "                logging.debug('\"Class Of\" folder found')\n",
    "                gdClassOfFolder = folder['files'][0].get('id')\n",
    "            else:\n",
    "                logging.debug('folder not found. creating.')\n",
    "                # create a folder if no results were found\n",
    "                try:\n",
    "                    folder = myDrive.add(name = classOf, parents = BASEFOLDER, mimeType = 'folder')\n",
    "                except GDriveError as e:\n",
    "                    print('error processing student {}'.format(student[headerMap['LastFirst']]))\n",
    "                    studentFailure.append(student)\n",
    "                    continue\n",
    "                except Exception as e:\n",
    "                    print('Fatal error. Exiting')\n",
    "                    print(e)\n",
    "                    return(False)\n",
    "\n",
    "                gdClassOfFolder = folder\n",
    "\n",
    "            gdClassOfFoldersDict[classOf] = gdClassOfFolder\n",
    "            \n",
    "        # end Class Of Folder check\n",
    "\n",
    "        ## check if the student folder exists in the class of folder gdStudentFolder\n",
    "        # if it does, record \n",
    "        # if it does not, create and record\n",
    "        # if more than one exists, inform the user\n",
    "\n",
    "        studentFolder = student[headerMap['LastFirst']] + ' - ' + student[headerMap['Student_Number']]\n",
    "\n",
    "        logging.info('searching for student folder: {}'.format(studentFolder))\n",
    "\n",
    "        try:\n",
    "            folder = myDrive.search(name = studentFolder, trashed = False, mimeType = 'folder',\n",
    "                                   parents = gdClassOfFoldersDict[classOf], fields = 'webViewLink, id')\n",
    "        except GDriveError as e:\n",
    "            print('error processing student {}'.format(student[headerMap['LastFirst']]))\n",
    "            studentFailure.append(student)\n",
    "            continue\n",
    "        except Exception as e:\n",
    "            print('Fatal error. Exiting')\n",
    "            print(e)\n",
    "            return(False)\n",
    "        \n",
    "        if len(folder['files']) > 0:\n",
    "            studentLinks.append(folder['files'][0]) # record this for generating CSV later\n",
    "            gdStudentFolder = folder['files'][0] # record this for creating grade level folders\n",
    "            logging.debug('existing student folder found')\n",
    "        else:\n",
    "            logging.debug('creating student folder')\n",
    "            try:\n",
    "                folder = myDrive.add(name = studentFolder, mimeType = 'folder', \n",
    "                                     parents = gdClassOfFoldersDict[classOf], fields = 'webViewLink, id')\n",
    "                \n",
    "            except GDriveError as e:\n",
    "                print('error processing student {}'.format(student[headerMap['FirstLast']]))\n",
    "                studentFailure.append(student)\n",
    "                continue\n",
    "            except Exception as e:\n",
    "                print('Fatal error. Exiting')\n",
    "                print(e)\n",
    "                return(False)\n",
    "            logging.debug('folder created')\n",
    "            gdStudentFolder = folder # save the gdStudentFolder for the grade folder check\n",
    "            \n",
    "        logging.debug('student data: {}'.format(student))\n",
    "        logging.debug('webViewLink: {}'.format(folder.get('webViewLink')))\n",
    "        student.append(gdStudentFolder.get('webViewLink'))\n",
    "        logging.debug(student)\n",
    "        studentLinks.append(student)\n",
    "            \n",
    "        \n",
    "        # end of student folder\n",
    "    \n",
    "        ## loop through all of the grade folders (02-Grade, 03-Grade...) check if gdGradeFolder exists\n",
    "        # if it does continue to next folder\n",
    "        # if it does not, record\n",
    "        for eachFolder in gradeFolders:\n",
    "            \n",
    "            logging.info('searching for grade folder: {}'.format(eachFolder))\n",
    "            try:\n",
    "                folder = myDrive.search(name = eachFolder, mimeType = 'folder', trashed = False, \n",
    "                                             parents = gdStudentFolder.get('id'))\n",
    "            except GDriveError as e:\n",
    "                print('error processing student {}'.format(studnet[headerMap['FirstLast']]))\n",
    "                studentFailure.append(student)\n",
    "                continue\n",
    "            except Exception as e:\n",
    "                print('Fatal error. Exiting')\n",
    "                print(e)\n",
    "                return(False)\n",
    "                \n",
    "            if len(folder['files']) > 0:\n",
    "                logging.debug('folder exists, no action needed: {}'.format(eachFolder))\n",
    "                continue\n",
    "            else:\n",
    "                logging.debug('creating folder: {}'.format(eachFolder))\n",
    "                try:\n",
    "                    folder = myDrive.add(name = eachFolder, mimeType = 'folder', \n",
    "                                         parents = gdStudentFolder.get('id'))\n",
    "                except GDriveError as e:\n",
    "                    print('error processing student {}')\n",
    "                    studentFailure.append(student)\n",
    "                    continue\n",
    "                except Exception as e:\n",
    "                    print('Fatal error. Exiting')\n",
    "                    print(e)\n",
    "                    return(False)\n",
    "    \n",
    "    ### Generate CSV output from Student Links\n",
    "    print studentLinks\n",
    "        \n"
   ]
  },
  {
   "cell_type": "code",
   "execution_count": 187,
   "metadata": {
    "collapsed": false,
    "deletable": true,
    "editable": true
   },
   "outputs": [
    {
     "name": "stdout",
     "output_type": "stream",
     "text": [
      "[    INFO 2017-03-23 16:16] URL being requested: GET https://www.googleapis.com/discovery/v1/apis/drive/v3/rest\n",
      "[    INFO 2017-03-23 16:16] reading grade level file\n",
      "[    INFO 2017-03-23 16:16] Folders to be created for each student: 5\n",
      "[    INFO 2017-03-23 16:16]      List of folders to be created:\n",
      "[    INFO 2017-03-23 16:16]           08-Grade\n",
      "[    INFO 2017-03-23 16:16]           09-Grade\n",
      "[    INFO 2017-03-23 16:16]           10-Grade\n",
      "[    INFO 2017-03-23 16:16]           11-Grade\n",
      "[    INFO 2017-03-23 16:16]           12-Grade\n",
      "[    INFO 2017-03-23 16:16] reading student CSV file\n",
      "[    INFO 2017-03-23 16:16] 12 student records found in ./student_export.text\n",
      "[    INFO 2017-03-23 16:16] URL being requested: GET https://www.googleapis.com/drive/v3/files/0B9WTleJ1MzaYcmdmTWNNNF9pa1E?fields=webViewLink&alt=json\n",
      "[    INFO 2017-03-23 16:16] Searching for and creating google drive folders\n",
      "[    INFO 2017-03-23 16:16] searching google drive for \"Class Of\" folder: Class Of-2030\n",
      "[    INFO 2017-03-23 16:16] URL being requested: GET https://www.googleapis.com/drive/v3/files?q=name+%3D+%22Class+Of-2030%22+and+trashed%3DFalse+and+mimeType%3D%22application%2Fvnd.google-apps.folder%22&orderBy=createdTime&alt=json&fields=%5B%27name%27%2C+%27id%27%2C+%27kind%27%2C+%27mimeType%27%2C+%27webViewLink%27%5D\n",
      "error processing student: Vicinzino, Anassa\n"
     ]
    },
    {
     "ename": "NameError",
     "evalue": "global name 'studentFailure' is not defined",
     "output_type": "error",
     "traceback": [
      "\u001b[0;31m---------------------------------------------------------------------------\u001b[0m",
      "\u001b[0;31mNameError\u001b[0m                                 Traceback (most recent call last)",
      "\u001b[0;32m<ipython-input-187-88f70db3753b>\u001b[0m in \u001b[0;36m<module>\u001b[0;34m()\u001b[0m\n\u001b[0;32m----> 1\u001b[0;31m \u001b[0mfoo\u001b[0m \u001b[0;34m=\u001b[0m \u001b[0mmain\u001b[0m\u001b[0;34m(\u001b[0m\u001b[0;34m)\u001b[0m\u001b[0;34m\u001b[0m\u001b[0m\n\u001b[0m",
      "\u001b[0;32m<ipython-input-186-b8d4cb9e40de>\u001b[0m in \u001b[0;36mmain\u001b[0;34m()\u001b[0m\n\u001b[1;32m    177\u001b[0m             \u001b[0;32mexcept\u001b[0m \u001b[0mGDriveError\u001b[0m \u001b[0;32mas\u001b[0m \u001b[0me\u001b[0m\u001b[0;34m:\u001b[0m\u001b[0;34m\u001b[0m\u001b[0m\n\u001b[1;32m    178\u001b[0m                 \u001b[0;32mprint\u001b[0m\u001b[0;34m(\u001b[0m\u001b[0;34m'error processing student: {}'\u001b[0m\u001b[0;34m.\u001b[0m\u001b[0mformat\u001b[0m\u001b[0;34m(\u001b[0m\u001b[0mstudent\u001b[0m\u001b[0;34m[\u001b[0m\u001b[0mheaderMap\u001b[0m\u001b[0;34m[\u001b[0m\u001b[0;34m'LastFirst'\u001b[0m\u001b[0;34m]\u001b[0m\u001b[0;34m]\u001b[0m\u001b[0;34m)\u001b[0m\u001b[0;34m)\u001b[0m\u001b[0;34m\u001b[0m\u001b[0m\n\u001b[0;32m--> 179\u001b[0;31m                 \u001b[0mstudentFailure\u001b[0m\u001b[0;34m.\u001b[0m\u001b[0mappend\u001b[0m\u001b[0;34m(\u001b[0m\u001b[0mstudent\u001b[0m\u001b[0;34m)\u001b[0m\u001b[0;34m\u001b[0m\u001b[0m\n\u001b[0m\u001b[1;32m    180\u001b[0m                 \u001b[0;32mcontinue\u001b[0m\u001b[0;34m\u001b[0m\u001b[0m\n\u001b[1;32m    181\u001b[0m             \u001b[0;32mexcept\u001b[0m \u001b[0mException\u001b[0m \u001b[0;32mas\u001b[0m \u001b[0me\u001b[0m\u001b[0;34m:\u001b[0m\u001b[0;34m\u001b[0m\u001b[0m\n",
      "\u001b[0;31mNameError\u001b[0m: global name 'studentFailure' is not defined"
     ]
    }
   ],
   "source": [
    "foo = main()\n"
   ]
  },
  {
   "cell_type": "code",
   "execution_count": null,
   "metadata": {
    "collapsed": true,
    "deletable": true,
    "editable": true
   },
   "outputs": [],
   "source": [
    "foosave = foo"
   ]
  },
  {
   "cell_type": "code",
   "execution_count": null,
   "metadata": {
    "collapsed": false,
    "deletable": true,
    "editable": true
   },
   "outputs": [],
   "source": [
    "foosave\n"
   ]
  },
  {
   "cell_type": "code",
   "execution_count": null,
   "metadata": {
    "collapsed": false,
    "deletable": true,
    "editable": true
   },
   "outputs": [],
   "source": [
    "help(testDrive.getprops)"
   ]
  },
  {
   "cell_type": "code",
   "execution_count": null,
   "metadata": {
    "collapsed": false,
    "deletable": true,
    "editable": true
   },
   "outputs": [],
   "source": [
    "if len(testDrive.getprops(fileId=\"0B9WTleJ1MzaYcmdmTWNNNF9pa1E\"))<=0:\n",
    "    print 'fail!'\n",
    "else:\n",
    "    print 'OK!'"
   ]
  },
  {
   "cell_type": "code",
   "execution_count": 199,
   "metadata": {
    "collapsed": false,
    "deletable": true,
    "editable": true
   },
   "outputs": [
    {
     "name": "stdout",
     "output_type": "stream",
     "text": [
      "[    INFO 2017-03-23 16:29] URL being requested: GET https://www.googleapis.com/drive/v3/files?q=name+contains+%22Class+Of-%22+and+trashed%3DFalse&orderBy=createdTime&alt=json&fields=fields%3Dfiles%28%27name%27%2C+%27id%27%2C+%27kind%27%2C+%27mimeType%27%2C+%27webViewLink%27%29\n"
     ]
    },
    {
     "ename": "GDriveError",
     "evalue": "<HttpError 400 when requesting https://www.googleapis.com/drive/v3/files?q=name+contains+%22Class+Of-%22+and+trashed%3DFalse&orderBy=createdTime&alt=json&fields=fields%3Dfiles%28%27name%27%2C+%27id%27%2C+%27kind%27%2C+%27mimeType%27%2C+%27webViewLink%27%29 returned \"Invalid field selection fields=files('name', 'id', 'kind', 'mimeType', 'webViewLink')\">",
     "output_type": "error",
     "traceback": [
      "\u001b[0;31m---------------------------------------------------------------------------\u001b[0m",
      "\u001b[0;31mGDriveError\u001b[0m                               Traceback (most recent call last)",
      "\u001b[0;32m<ipython-input-199-245731c96622>\u001b[0m in \u001b[0;36m<module>\u001b[0;34m()\u001b[0m\n\u001b[0;32m----> 1\u001b[0;31m \u001b[0mtestDrive\u001b[0m\u001b[0;34m.\u001b[0m\u001b[0msearch\u001b[0m\u001b[0;34m(\u001b[0m\u001b[0mname\u001b[0m\u001b[0;34m=\u001b[0m\u001b[0;34m\"Class Of-\"\u001b[0m\u001b[0;34m,\u001b[0m \u001b[0mfuzzy\u001b[0m\u001b[0;34m=\u001b[0m \u001b[0mTrue\u001b[0m\u001b[0;34m,\u001b[0m \u001b[0mtrashed\u001b[0m \u001b[0;34m=\u001b[0m \u001b[0mFalse\u001b[0m\u001b[0;34m)\u001b[0m\u001b[0;34m\u001b[0m\u001b[0m\n\u001b[0m",
      "\u001b[0;32m<ipython-input-194-1361d15024da>\u001b[0m in \u001b[0;36msearch\u001b[0;34m(self, name, trashed, mimeType, fuzzy, date, dopperator, parents, orderBy, quiet, fields, sanitize)\u001b[0m\n\u001b[1;32m    195\u001b[0m             \u001b[0;32mreturn\u001b[0m\u001b[0;34m(\u001b[0m\u001b[0mresult\u001b[0m\u001b[0;34m)\u001b[0m\u001b[0;34m\u001b[0m\u001b[0m\n\u001b[1;32m    196\u001b[0m         \u001b[0;32mexcept\u001b[0m \u001b[0merrors\u001b[0m\u001b[0;34m.\u001b[0m\u001b[0mHttpError\u001b[0m \u001b[0;32mas\u001b[0m \u001b[0me\u001b[0m\u001b[0;34m:\u001b[0m\u001b[0;34m\u001b[0m\u001b[0m\n\u001b[0;32m--> 197\u001b[0;31m             \u001b[0;32mraise\u001b[0m \u001b[0mGDriveError\u001b[0m\u001b[0;34m(\u001b[0m\u001b[0me\u001b[0m\u001b[0;34m)\u001b[0m\u001b[0;34m\u001b[0m\u001b[0m\n\u001b[0m\u001b[1;32m    198\u001b[0m             \u001b[0;32mreturn\u001b[0m\u001b[0;34m(\u001b[0m\u001b[0mFalse\u001b[0m\u001b[0;34m)\u001b[0m\u001b[0;34m\u001b[0m\u001b[0m\n\u001b[1;32m    199\u001b[0m \u001b[0;34m\u001b[0m\u001b[0m\n",
      "\u001b[0;31mGDriveError\u001b[0m: <HttpError 400 when requesting https://www.googleapis.com/drive/v3/files?q=name+contains+%22Class+Of-%22+and+trashed%3DFalse&orderBy=createdTime&alt=json&fields=fields%3Dfiles%28%27name%27%2C+%27id%27%2C+%27kind%27%2C+%27mimeType%27%2C+%27webViewLink%27%29 returned \"Invalid field selection fields=files('name', 'id', 'kind', 'mimeType', 'webViewLink')\">"
     ]
    }
   ],
   "source": [
    "testDrive.search(name=\"Class Of-\", fuzzy= True, trashed = False)"
   ]
  },
  {
   "cell_type": "code",
   "execution_count": 198,
   "metadata": {
    "collapsed": false,
    "deletable": true,
    "editable": true
   },
   "outputs": [
    {
     "name": "stdout",
     "output_type": "stream",
     "text": [
      "[ WARNING 2017-03-23 16:29] file_cache is unavailable when using oauth2client >= 4.0.0\n",
      "Traceback (most recent call last):\n",
      "  File \"/Users/aciuffo/Virtualenvs/python2/lib/python2.7/site-packages/googleapiclient/discovery_cache/__init__.py\", line 41, in autodetect\n",
      "    from . import file_cache\n",
      "  File \"/Users/aciuffo/Virtualenvs/python2/lib/python2.7/site-packages/googleapiclient/discovery_cache/file_cache.py\", line 41, in <module>\n",
      "    'file_cache is unavailable when using oauth2client >= 4.0.0')\n",
      "ImportError: file_cache is unavailable when using oauth2client >= 4.0.0\n",
      "[    INFO 2017-03-23 16:29] URL being requested: GET https://www.googleapis.com/discovery/v1/apis/drive/v3/rest\n"
     ]
    }
   ],
   "source": [
    "credentials = getCredentials()\n",
    "# http = credentials.authorize(httplib2.Http())\n",
    "service = discovery.build('drive', 'v3', credentials=credentials)\n",
    "\n",
    "\n",
    "testDrive = gDrive(service)\n"
   ]
  },
  {
   "cell_type": "code",
   "execution_count": 42,
   "metadata": {
    "collapsed": false,
    "deletable": true,
    "editable": true
   },
   "outputs": [
    {
     "name": "stdout",
     "output_type": "stream",
     "text": [
      "{u'webViewLink': u'https://drive.google.com/drive/folders/0B9WTleJ1MzaYcmdmTWNNNF9pa1E'}\n",
      "got it\n"
     ]
    }
   ],
   "source": [
    "foo = testDrive.getprops(fileId = '0B9WTleJ1MzaYcmdmTWNNNF9pa1E', fields = 'webViewLink')\n",
    "print foo\n",
    "if not foo.get('webViewLink'):\n",
    "    print 'not there'\n",
    "else:\n",
    "    print 'got it'"
   ]
  },
  {
   "cell_type": "code",
   "execution_count": 47,
   "metadata": {
    "collapsed": false,
    "deletable": true,
    "editable": true
   },
   "outputs": [
    {
     "name": "stdout",
     "output_type": "stream",
     "text": [
      "nope\n"
     ]
    }
   ],
   "source": [
    "myDict = {'a':'eels', 'b':'hovercraft'}\n",
    "if 'c' in myDict:\n",
    "    print myDict['b']\n",
    "else:\n",
    "    print 'nope'"
   ]
  },
  {
   "cell_type": "code",
   "execution_count": 79,
   "metadata": {
    "collapsed": false,
    "deletable": true,
    "editable": true
   },
   "outputs": [
    {
     "name": "stdout",
     "output_type": "stream",
     "text": [
      "{u'createdTime': u'2017-03-22T15:45:35.069Z', u'webViewLink': u'https://drive.google.com/drive/folders/0B9WTleJ1MzaYN3phaWdEUVhpeU0', u'parents': [u'0B9WTleJ1MzaYcmdmTWNNNF9pa1E'], u'id': u'0B9WTleJ1MzaYN3phaWdEUVhpeU0'}\n"
     ]
    }
   ],
   "source": [
    "foobar = testDrive.add(name = 'schmoo', parents = '0B9WTleJ1MzaYcmdmTWNNNF9pa1E', mimeType = 'folder', fields = 'id, parents, webViewLink, createdTime')\n",
    "print foobar"
   ]
  },
  {
   "cell_type": "code",
   "execution_count": 72,
   "metadata": {
    "collapsed": false,
    "deletable": true,
    "editable": true
   },
   "outputs": [
    {
     "name": "stdout",
     "output_type": "stream",
     "text": [
      "Help on method add in module __main__:\n",
      "\n",
      "add(self, name=None, mimeType=False, parents=None, fields='webViewLink, mimeType, id', sanitize=True) method of __main__.gDrive instance\n",
      "    add a file to google drive:\n",
      "    \n",
      "    args:\n",
      "        name (string): human readable name\n",
      "        mimeType (string): mimeType (see self.mimeTypes for a complete list)\n",
      "        parents (list): list of parent folders\n",
      "        fields (comma separated string): properties to query and return any of the following:\n",
      "            'parents', 'mimeType', 'webViewLink', \n",
      "            'size', 'createdTime', 'trashed'\n",
      "            'id'\n",
      "        sanitize (bool): remove any field options that are not in the above list - false to allow anything\n",
      "\n"
     ]
    }
   ],
   "source": [
    "help(testDrive.add)"
   ]
  }
 ],
 "metadata": {
  "kernelspec": {
   "display_name": "Python 2",
   "language": "python",
   "name": "python2"
  },
  "language_info": {
   "codemirror_mode": {
    "name": "ipython",
    "version": 2
   },
   "file_extension": ".py",
   "mimetype": "text/x-python",
   "name": "python",
   "nbconvert_exporter": "python",
   "pygments_lexer": "ipython2",
   "version": "2.7.13"
  }
 },
 "nbformat": 4,
 "nbformat_minor": 2
}
