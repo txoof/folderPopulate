{
 "cells": [
  {
   "cell_type": "code",
   "execution_count": 3,
   "metadata": {
    "collapsed": true,
    "deletable": true,
    "editable": true
   },
   "outputs": [],
   "source": [
    "import sys\n"
   ]
  },
  {
   "cell_type": "code",
   "execution_count": 106,
   "metadata": {
    "collapsed": false,
    "deletable": true,
    "editable": true
   },
   "outputs": [
    {
     "data": {
      "text/plain": [
       "'./student_export.text'"
      ]
     },
     "execution_count": 106,
     "metadata": {},
     "output_type": "execute_result"
    }
   ],
   "source": [
    "sys.argv.pop()"
   ]
  },
  {
   "cell_type": "code",
   "execution_count": 24,
   "metadata": {
    "collapsed": false,
    "deletable": true,
    "editable": true
   },
   "outputs": [
    {
     "data": {
      "text/plain": [
       "['/Users/aciuffo/Virtualenvs/python2/lib/python2.7/site-packages/ipykernel/__main__.py']"
      ]
     },
     "execution_count": 24,
     "metadata": {},
     "output_type": "execute_result"
    }
   ],
   "source": [
    "sys.argv"
   ]
  },
  {
   "cell_type": "code",
   "execution_count": 108,
   "metadata": {
    "collapsed": true,
    "deletable": true,
    "editable": true
   },
   "outputs": [],
   "source": [
    "sys.argv.append('./student_export.text')"
   ]
  },
  {
   "cell_type": "code",
   "execution_count": 97,
   "metadata": {
    "collapsed": false,
    "deletable": true,
    "editable": true
   },
   "outputs": [],
   "source": [
    "import sys\n",
    "import re\n",
    "import datetime\n",
    "import unicodedata\n",
    "import csv\n",
    "\n",
    "# I kind of hate this\n",
    "#from __future__ import print_function\n",
    "\n",
    "# this may be unecessary - double check\n",
    "import httplib2\n",
    "import os\n",
    "\n",
    "from apiclient import discovery\n",
    "from oauth2client import client\n",
    "from oauth2client import tools\n",
    "from oauth2client.file import Storage \n",
    "from apiclient import errors \n",
    "\n",
    "SCOPES = 'https://www.googleapis.com/auth/drive'\n",
    "#SCOPES = 'https://www.googleapis.com/auth/drive.file' # try this one!\n",
    "# SCOPES = 'https://www.googleapis.com/auth/drive.metadata.readonly'\n",
    "CLIENT_SECRET_FILE = 'client_secret_qs.json'\n",
    "APPLICATION_NAME = 'Drive API Python Quickstart'"
   ]
  },
  {
   "cell_type": "code",
   "execution_count": 101,
   "metadata": {
    "collapsed": false
   },
   "outputs": [
    {
     "data": {
      "text/plain": [
       "googleapiclient.errors.HttpError"
      ]
     },
     "execution_count": 101,
     "metadata": {},
     "output_type": "execute_result"
    }
   ],
   "source": [
    "errors.HttpError"
   ]
  },
  {
   "cell_type": "code",
   "execution_count": 10,
   "metadata": {
    "collapsed": true,
    "deletable": true,
    "editable": true
   },
   "outputs": [],
   "source": [
    "def strip_accents(s):\n",
    "    s = unicode(s, \"utf-8\")\n",
    "    return ''.join(c for c in unicodedata.normalize('NFD', s)\n",
    "        if unicodedata.category(c) != 'Mn')\n"
   ]
  },
  {
   "cell_type": "code",
   "execution_count": 11,
   "metadata": {
    "collapsed": true,
    "deletable": true,
    "editable": true
   },
   "outputs": [],
   "source": [
    "def get_valid_filename(s):\n",
    "    \"\"\"\n",
    "    Return the given string converted to a string that can be used for a clean\n",
    "    filename. Remove leading and trailing spaces\n",
    "    \"\"\"\n",
    "    s = s.strip()\n",
    "    s = strip_accents(s)\n",
    "    return re.sub(r'(?u)[^-\\w., ]', '', s)"
   ]
  },
  {
   "cell_type": "code",
   "execution_count": 12,
   "metadata": {
    "collapsed": false,
    "deletable": true,
    "editable": true
   },
   "outputs": [],
   "source": [
    "def fileRead(fname):\n",
    "    '''\n",
    "    read a file into a list, strip out all accented and special characters, leading spaces\n",
    "    '''\n",
    "    lines = []\n",
    "    try:\n",
    "        with open(fname) as f:\n",
    "            for each in f:\n",
    "                each = get_valid_filename(each)\n",
    "                lines.append(each.strip('\\n'))\n",
    "            return(lines)\n",
    "    except (OSError, IOError) as e:\n",
    "        print 'error reading file:', fname, e\n",
    "        return(False)"
   ]
  },
  {
   "cell_type": "code",
   "execution_count": 13,
   "metadata": {
    "collapsed": true,
    "deletable": true,
    "editable": true
   },
   "outputs": [],
   "source": [
    "def pathify(parts = [], basepath = ''):\n",
    "    '''\n",
    "    create a path from a list of strings\n",
    "    \n",
    "    accepts:\n",
    "        * parts (list): list of strings ['part_one', 'part_two', 'part_three']\n",
    "        * basepath (string): string to append to the start of the path (default: ./)\n",
    "    \n",
    "    returns:\n",
    "        * path: basePath/part_one/part_two/part_three/\n",
    "    '''\n",
    "    path = basepath\n",
    "    if len(parts ) > 0:\n",
    "        for each in parts:\n",
    "            if re.match('.*\\/$', each):\n",
    "                path = path + each\n",
    "            else:\n",
    "                path = path + each + '/'\n",
    "    return(path)"
   ]
  },
  {
   "cell_type": "code",
   "execution_count": 14,
   "metadata": {
    "collapsed": false,
    "deletable": true,
    "editable": true
   },
   "outputs": [],
   "source": [
    "def getCredentials():\n",
    "    home_dir = os.path.expanduser('~')\n",
    "    credential_dir = os.path.join(home_dir, '.credentials')\n",
    "    if not os.path.exists(credential_dir):\n",
    "        try:\n",
    "            os.makedirs(credential_dir)\n",
    "        except (IOError, OSError) as e:\n",
    "            print(e)\n",
    "        \n",
    "\n",
    "    credential_path = os.path.join(credential_dir, 'drive-python.json')\n",
    "\n",
    "    store = Storage(credential_path)\n",
    "    credentials = store.get()\n",
    "    if not credentials or credentials.invalid:\n",
    "        flow = client.flow_from_clientsecrets(CLIENT_SECRET_FILE, SCOPES)\n",
    "        flow.user_agent = 'foo'\n",
    "        credentials = tools.run_flow(flow, store, None)\n",
    "    return(credentials)"
   ]
  },
  {
   "cell_type": "code",
   "execution_count": 15,
   "metadata": {
    "collapsed": true,
    "deletable": true,
    "editable": true
   },
   "outputs": [],
   "source": [
    "class GDriveError(Exception):\n",
    "    pass"
   ]
  },
  {
   "cell_type": "code",
   "execution_count": 120,
   "metadata": {
    "collapsed": false,
    "deletable": true,
    "editable": true
   },
   "outputs": [],
   "source": [
    "class gDrive():\n",
    "    '''\n",
    "    creates a google drive interface object\n",
    "    \n",
    "    Accepts:\n",
    "    google drive v3 service object: (discover.build('drive', 'v3', credentials = credentials_object)\n",
    "    \n",
    "    '''\n",
    "    def __init__(self, object):\n",
    "        if  not isinstance(object, discovery.Resource):\n",
    "            print ('Error: googleapicleint.discovery.Resource object expected')\n",
    "            print ('{:>5}create a resource object:'.format(''))\n",
    "            print ('{:>10}credentials = getCredentials(credJSON = \"cleint_secret.json\")'.format(''))\n",
    "            print ('{:>10}service = discovery.build(\"drive\", \"v3\", credentials=credentials)'.format(''))\n",
    "            print ('{:>10}myDrive = gDrive(service)'.format(''))\n",
    "            return(None)\n",
    "        self.service = object\n",
    "        # https://developers.google.com/drive/v3/web/mime-types\n",
    "        self.mimeTypes = {'audio': 'application/vnd.google-apps.audio',\n",
    "                          'docs': 'application/vnd.google-apps.document',\n",
    "                          'drawing': 'application/vnd.google-apps.drawing',\n",
    "                          'file': 'application/vnd.google-apps.file',\n",
    "                          'folder': 'application/vnd.google-apps.folder',\n",
    "                          'forms': 'application/vnd.google-apps.form',\n",
    "                          'mymaps': 'application/vnd.google-apps.map',\n",
    "                          'photos': 'application/vnd.google-apps.photo',\n",
    "                          'slides': 'application/vnd.google-apps.presentation',\n",
    "                          'scripts': 'application/vnd.google-apps.script',\n",
    "                          'sites': 'application/vnd.google-apps.sites',\n",
    "                          'sheets': 'application/vnd.google-apps.spreadsheet',\n",
    "                          'video': 'application/vnd.google-apps.video'}\n",
    "        \n",
    "        # fields to include in partial responses\n",
    "        # https://developers.google.com/apis-explorer/#p/drive/v3/drive.files.create\n",
    "        self.fields = ['id', 'parents', 'mimeType', 'webViewLink', 'size', 'createdTime', 'trashed']\n",
    "    \n",
    "#     types = property()\n",
    "    \n",
    "    @property\n",
    "    def types(self):\n",
    "        '''\n",
    "        Display supported mimeTypes\n",
    "        '''\n",
    "        print('supported mime types:')\n",
    "        for key in self.mimeTypes:\n",
    "            #print('%10s: %s' % (key, self.mimeTypes[key]))\n",
    "            print('{:8} {val}'.format(key+':', val=self.mimeTypes[key]))\n",
    "    \n",
    "#     def quote(self, string):\n",
    "#         '''\n",
    "#         add double quotes arounda string\n",
    "#         '''\n",
    "#         return('\"'+str(string)+'\"')\n",
    "    \n",
    "\n",
    "    \n",
    "    def add(self, name = None, mimeType = False, parents = None, \n",
    "            fields = 'webViewLink, mimeType, id', sanitize = True):\n",
    "        '''\n",
    "        add a file to google drive:\n",
    "        \n",
    "        args:\n",
    "            name (string): human readable name\n",
    "            mimeType (string): mimeType (see self.mimeTypes for a complete list)\n",
    "            parents (list): list of parent folders\n",
    "            fields (comma separated string): properties to query and return any of the following:\n",
    "                'parents', 'mimeType', 'webViewLink', \n",
    "                'size', 'createdTime', 'trashed'\n",
    "                'id'\n",
    "            sanitize (bool): remove any field options that are not in the above list - false to allow anything\n",
    "            \n",
    "        '''\n",
    "\n",
    "        fieldsExpected = self.fields\n",
    "        fieldsProcessed = []\n",
    "        fieldsUnknown = []\n",
    "        \n",
    "        if sanitize:\n",
    "            # remove whitespace and unknown options\n",
    "            for each in fields.replace(' ','').split(','):\n",
    "                if each in fieldsExpected:\n",
    "                    fieldsProcessed.append(each)\n",
    "                else:\n",
    "                    fieldsUnknown.append(each)\n",
    "        else:\n",
    "            fieldsProcessed = fields.split(',')\n",
    "            \n",
    "        if len(fieldsUnknown) > 0:\n",
    "            print ('unrecognized fields: {}'.format(fieldsUnknown))\n",
    "        \n",
    "        \n",
    "        body={}\n",
    "        if name is None:\n",
    "            print('specify a folder or file name')\n",
    "            return(False)\n",
    "        else:\n",
    "            body['name'] = name\n",
    "        \n",
    "        if mimeType in self.mimeTypes:\n",
    "            body['mimeType'] = self.mimeTypes[mimeType]\n",
    "        \n",
    "        if isinstance(parents, list):\n",
    "            body['parents'] = parents\n",
    "        elif parents:\n",
    "            body['parents'] = [parents]\n",
    "        \n",
    "        try:\n",
    "            result = self.service.files().create(body=body, fields=','.join(fieldsProcessed)).execute()\n",
    "            return(result)\n",
    "        except errors.HttpError as e:\n",
    "            raise GDriveError(e)\n",
    "            return(False)\n",
    "        \n",
    "        \n",
    "        #body = {'name':'release the schmoo!', 'mimeType':'application/vnd.google-apps.folder', 'parents':[\"0BzC-V2QIsGRGWXNxNmhjc0FITDQ\"]}\n",
    "# service.files().create(body=body).execute()\n",
    "        \n",
    "\n",
    "    \n",
    "    def search(self, name = None, trashed = None, mimeType = False, fuzzy = False, date = None, dopperator = '>', \n",
    "               parents = None, orderBy = 'createdTime', quiet = True):\n",
    "        '''\n",
    "        search for an item by name and other properties in google drive\n",
    "        \n",
    "        args:\n",
    "            name (string): item name in google drive - required\n",
    "            trashed (bool): item is not in trash - default None (not used)\n",
    "            mimeType = (string): item is one of the known mime types (gdrive.mimeTypes) - default None\n",
    "            fuzzy = (bool): substring search of names in drive\n",
    "            date = (RFC3339 date string): modification time date string (YYYY-MM-DD)\n",
    "            dopperator (date comparison opprator string): <, >, =, >=, <=  - default >\n",
    "            parents = (string): google drive file id string\n",
    "            orderBy = (comma separated string): order results assending by keys below - default createdTime:\n",
    "                        'createdTime', 'folder', 'modifiedByMeTime', \n",
    "                        'modifiedTime', 'name', 'quotaBytesUsed', \n",
    "                        'recency', 'sharedWithMeTime', 'starred', \n",
    "                        'viewedByMeTime'\n",
    "                        \n",
    "            \n",
    "        returns:\n",
    "            list of file dict\n",
    "        '''\n",
    "        features = ['name', 'trashed', 'mimeType', 'date', 'parents']\n",
    "        build = {'name' : 'name {} \"{}\"'.format(('contains' if fuzzy else '='), name),\n",
    "                 'trashed' : 'trashed={}'. format(trashed),\n",
    "                 'mimeType' : 'mimeType=\"{}\"'.format(self.mimeTypes[mimeType] if mimeType in self.mimeTypes else ''),\n",
    "                 'parents': '\"{}\" in parents'.format(parents),\n",
    "                 'date': 'modifiedTime{}\"{}\"'.format(dopperator, date)}\n",
    "\n",
    "        # provides for setting trashed to True/False if the input is not None\n",
    "        if not isinstance(trashed, type(None)):\n",
    "            # set to true as the variable is now in use, but it's value has been set above\n",
    "            trashed = True\n",
    "        \n",
    "        qList = []\n",
    "\n",
    "        # evaluate feature options; if they are != None/False, use them in building query\n",
    "        for each in features:\n",
    "            if eval(each):\n",
    "                qList.append(build[each])\n",
    "                \n",
    "        if not quiet:\n",
    "            print(' and '.join(qList))\n",
    "                \n",
    "        try:\n",
    "            # build a query with \"and\" statements\n",
    "            result = self.service.files().list(q=' and '.join(qList), orderBy=orderBy).execute()\n",
    "            return(result)\n",
    "        except errors.HttpError as e:\n",
    "            raise GDriveError(e)\n",
    "            return(False)\n",
    "\n",
    "    def ls(self, *args, **kwargs):\n",
    "        '''\n",
    "        List files in google drive using any of the following properties:\n",
    "            \n",
    "        accepts:\n",
    "            name (string): item name in google drive - required\n",
    "            trashed (bool): item is not in trash - default None (not used)\n",
    "            mimeType = (string): item is one of the known mime types (gdrive.mimeTypes) - default None\n",
    "            fuzzy = (bool): substring search of names in drive\n",
    "            date = (RFC3339 date string): modification time date string (YYYY-MM-DD)\n",
    "            dopperator (date comparison opprator string): <, >, =, >=, <=  - default >\n",
    "            parent = (string): google drive file id string    \n",
    "        '''\n",
    "        try:\n",
    "            result = self.search(*args, **kwargs)\n",
    "            for eachFile in result.get('files', []):\n",
    "                print('name: {f[name]}, ID:{f[id]}, mimeType:{f[mimeType]}'.format(f=eachFile))\n",
    "            return(result)\n",
    "        except GDriveError as e:\n",
    "            raise GDriveError(e)\n",
    "            \n",
    "    \n",
    "    \n",
    "    def getprops(self, fileId = None, fields = 'parents, mimeType, webViewLink', sanitize=True):\n",
    "        '''\n",
    "        get a file or folder's properties based on google drive fileId\n",
    "        \n",
    "        for a more complete list: https://developers.google.com/drive/v3/web/migration\n",
    "        \n",
    "        args:\n",
    "            fileId (string): google drive file ID\n",
    "            fields (comma separated string): properties to query and return any of the following:\n",
    "                'parents', 'mimeType', 'webViewLink', 'size', 'createdTime', 'trashed'\n",
    "            sanitize (bool): remove any field options that are not in the above list - false to allow anything\n",
    "            \n",
    "        returns:\n",
    "            list of dictionary - google drive file properties\n",
    "            \n",
    "        raises GDriveError\n",
    "        '''\n",
    "        fieldsExpected = self.fields\n",
    "        \n",
    "        fieldsProcessed = []\n",
    "        fieldsUnknown = []\n",
    "\n",
    "        if sanitize:\n",
    "            # remove whitespace and unknown options\n",
    "            for each in fields.replace(' ','').split(','):\n",
    "                if each in fieldsExpected:\n",
    "                    fieldsProcessed.append(each)\n",
    "                else:\n",
    "                    fieldsUnknown.append(each)\n",
    "        else:\n",
    "            fieldsProcessed = fields.split(',')\n",
    "        if len(fieldsUnknown) > 0:\n",
    "            print ('unrecognized fields: {}'.format(fieldsUnknown))\n",
    "        \n",
    "        try:\n",
    "            result = self.service.files().get(fileId=fileId, fields=','.join(fieldsProcessed)).execute()\n",
    "            return(result)\n",
    "        except errors.HttpError as e:\n",
    "            raise GDriveError(e)\n",
    "            return(False)\n",
    "        \n",
    "\n",
    "                \n",
    "    \n",
    "    \n",
    "    def parents(self, fileId):\n",
    "        \"\"\"get a file's parents.\n",
    "\n",
    "        Args:\n",
    "            fileId: ID of the file to print parents for.\n",
    "        \n",
    "        raises gDError\n",
    "        \"\"\"\n",
    "        try:\n",
    "            parents = self.service.files().get(fileId=fileId, fields='parents').execute()\n",
    "            return(parents)\n",
    "        except errors.HttpError as e:\n",
    "            raise GDriveError(e)\n",
    "            return(False)\n",
    "    \n",
    "    def rm(self):\n",
    "        pass"
   ]
  },
  {
   "cell_type": "code",
   "execution_count": null,
   "metadata": {
    "collapsed": false,
    "deletable": true,
    "editable": true
   },
   "outputs": [],
   "source": []
  },
  {
   "cell_type": "code",
   "execution_count": 115,
   "metadata": {
    "collapsed": false,
    "deletable": true,
    "editable": true
   },
   "outputs": [],
   "source": [
    "def main():\n",
    "    \n",
    "    BASEFOLDER = '0B9WTleJ1MzaYcmdmTWNNNF9pa1E'\n",
    "    \n",
    "    credentials = getCredentials()\n",
    "    # http = credentials.authorize(httplib2.Http())\n",
    "    try:\n",
    "        service = discovery.build('drive', 'v3', credentials=credentials)\n",
    "    except Exception as e:\n",
    "        print('Error communicating with Google: {}'.format(e))\n",
    "        print('exiting')\n",
    "        return(False)\n",
    "\n",
    "    myDrive = gDrive(service)\n",
    "\n",
    "    # path to desktop of this user (this should work on macs)\n",
    "    desktopPath = pathify([os.path.expanduser('~')], 'Desktop')\n",
    "\n",
    "    # Fields expected in CSV file containing student data\n",
    "    # move this into a resource file? - see the folder list below\n",
    "    expected = ['ClassOf', 'LastFirst', 'Student_Number']\n",
    "\n",
    "    # map of CSV fields to elements in list\n",
    "    headerMap = {}\n",
    "\n",
    "    # list of folders to populate into each students' folder\n",
    "    if os.path.exists(desktopPath+'folders.txt'):\n",
    "        fileList = desktopPath + 'folders.txt'\n",
    "    else:\n",
    "        fileList = './folders.txt'\n",
    "\n",
    "    # list of student information\n",
    "    studentInfo = ''\n",
    "    \n",
    "\n",
    "    # list containing CSV\n",
    "    studentCSV = []\n",
    "\n",
    "    # list of folders to add under each students' path\n",
    "    folders = fileRead(fileList)\n",
    "\n",
    "    try:\n",
    "        print('input file: {}'.format(sys.argv[1]))\n",
    "        studentInfo = sys.argv[1]\n",
    "    except IndexError as e:\n",
    "        print('Error: please specify a CSV file containing student information')\n",
    "\n",
    "    if folders:\n",
    "        print('Folders to be created for each stuent: {}'.format(len(folders)))\n",
    "        print('{:>5}List of folders to be created:'.format(''))\n",
    "        for folder in folders:\n",
    "            print('{:>10}{}'.format('', folder))\n",
    "    else:\n",
    "        print('please place a file named \"folders.txt\" containing a list of folders (one on each line)on the Desktop')\n",
    "        print('exiting')\n",
    "        return(False)\n",
    "\n",
    "    # read the csv file in Universal newline mode (rU)\n",
    "    try:\n",
    "        with open(studentInfo, 'rU') as csvfile:\n",
    "            csvreader = csv.reader(csvfile)\n",
    "            for row in csvreader:\n",
    "                studentCSV.append(row)\n",
    "    except (OSError, IOError) as e:\n",
    "        print 'error reading file:', studentInfo, e\n",
    "        print 'exiting'\n",
    "        return(False)\n",
    "\n",
    "    # check if there is content in the CSV\n",
    "    if len(studentCSV) > 1:\n",
    "        print('{} student records found in {}'.format(len(studentCSV)-1, studentInfo))\n",
    "    else:\n",
    "        print 'no student records found in {}'.format(studentInfo)\n",
    "        return(False)\n",
    "\n",
    "    # check for expected headers in CSV data\n",
    "    # pop the headers from the list\n",
    "    csvHeader = studentCSV.pop(0)\n",
    "    missingHeaders = []\n",
    "    for each in expected:\n",
    "        if each not in csvHeader:\n",
    "            missingHeaders.append(each)\n",
    "\n",
    "    if len(missingHeaders) > 0:\n",
    "        print 'ERROR'\n",
    "        for each in missingHeaders:\n",
    "            print studentInfo, ' missing header: ', each\n",
    "        print 'please recreate file', studentInfo, 'with all required headers:'\n",
    "        print '     ', expected\n",
    "        print 'stopping'\n",
    "        return(False)\n",
    "\n",
    "    # map headers to their index\n",
    "    for index, value in enumerate(csvHeader):\n",
    "        headerMap[value]=index\n",
    "    \n",
    "    # process the CSV and start creating folders\n",
    "    \n",
    "    # Create a dictionary of recently used google drive (gd) folders\n",
    "    gdRecentFolders = {}\n",
    "    \n",
    "    # create a list of failures\n",
    "    studentFailures = []\n",
    "# need to deal with errors here - each myDrive method needs one...\n",
    "\n",
    "    for index, student in enumerate(studentCSV):\n",
    "        studentClassFolder = 'Class Of '+student[headerMap['ClassOf']]\n",
    "        # check if the folder has been recently accessed and recorded in the gdRecentFolders dict\n",
    "        if studentClassFolder in gdRecentFolders:\n",
    "            # reuse the folder information from previous access\n",
    "            gdParentFolder = gdRecentFolders[studentClassFolder]\n",
    "            \n",
    "        # else search for the folder on google drive\n",
    "        else:\n",
    "            # search for matching folders and order from oldest to newest\n",
    "            try:\n",
    "                gdFolderSearch = myDrive.search(name = studentClassFolder, parents = BASEFOLDER, \n",
    "                                               orderBy = 'createdTime', trashed = False, mimeType = 'folder')\n",
    "            except GDriveError as e:\n",
    "                print('failed to process record: {}'.format(student))\n",
    "                print(e)\n",
    "                studentFailures.append(student)\n",
    "                continue\n",
    "            \n",
    "            if len(gdFolderSearch['files']) < 1:\n",
    "                print('failed to locate destination folder {}'.format(BASEFOLDER))\n",
    "                print('please update the URL for the folder that will hold portfolios')\n",
    "                print('exiting')\n",
    "                return(False)\n",
    "            \n",
    "            # if no results are returned, create a folder\n",
    "            if len(gdFolderSearch['files'])==0:\n",
    "                try:\n",
    "                    gdParentFolder = myDrive.add(name=studentClassFolder, \n",
    "                                                 mimeType = 'folder', parents=BASEFOLDER)\n",
    "                except GDriveError as e:\n",
    "                    print('failed to process record {}'.format(student))\n",
    "                    print(e)\n",
    "                    studentFailures.append(student)\n",
    "                    continue\n",
    "                    \n",
    "                except Exception as e:\n",
    "                    print('Unexected error: {}'.format(e))\n",
    "                    print('exiting')\n",
    "                    print('please share the error above with the developer')\n",
    "                    return(False)\n",
    "            # use the oldest existing folder ignoring all others\n",
    "            else:\n",
    "                gdParentFolder = gdFolderSearch['files'][0]\n",
    "\n",
    "            # raise a red flag if there are 2 or more matching folders\n",
    "            if len(gdFolderSearch['files']) > 1:\n",
    "                print('Warning: {} folders for {} found. Consider consolidating these into one single folder.'\n",
    "                      .format(len(gdFolderSearch['files']), studentClassFolder))\n",
    "                print('Using the following folder: {}'\n",
    "                      .format(myDrive.getprops(fileId=gdParentFolder.get('id')).get('webViewLink'))) \n",
    "            \n",
    "            # record the recently used folder\n",
    "            gdRecentFolders[studentClassFolder] = gdParentFolder\n",
    "            \n",
    "            # process students\n",
    "\n",
    "            \n",
    "    \n",
    "#     if len(studentFailures) > 0:\n",
    "#         print('student failures')\n",
    "#         print(studentFailures)"
   ]
  },
  {
   "cell_type": "code",
   "execution_count": 116,
   "metadata": {
    "collapsed": false,
    "deletable": true,
    "editable": true
   },
   "outputs": [
    {
     "name": "stdout",
     "output_type": "stream",
     "text": [
      "input file: ./student_export.text\n",
      "Folders to be created for each stuent: 5\n",
      "     List of folders to be created:\n",
      "          08-Grade\n",
      "          09-Grade\n",
      "          10-Grade\n",
      "          11-Grade\n",
      "          12-Grade\n",
      "29 student records found in ./student_export.text\n"
     ]
    }
   ],
   "source": [
    "foo = main()\n"
   ]
  },
  {
   "cell_type": "code",
   "execution_count": 81,
   "metadata": {
    "collapsed": false,
    "deletable": true,
    "editable": true
   },
   "outputs": [
    {
     "name": "stdout",
     "output_type": "stream",
     "text": [
      "Help on method add in module __main__:\n",
      "\n",
      "add(self, name=None, mimeType=False, parents=None) method of __main__.gDrive instance\n",
      "    add a file to google drive:\n",
      "    \n",
      "    args:\n",
      "        name (string): human readable name\n",
      "        mimeType (string): mimeType (see self.mimeTypes for a complete list)\n",
      "        parents (list): list of parent folders\n",
      "\n"
     ]
    }
   ],
   "source": [
    "help(testDrive.add)"
   ]
  },
  {
   "cell_type": "code",
   "execution_count": null,
   "metadata": {
    "collapsed": false,
    "deletable": true,
    "editable": true
   },
   "outputs": [],
   "source": [
    "testDrive.getprops(fileId=\"0B9WTleJ1MzaYc2RGUkVFSktURmc\").get('webViewLink')"
   ]
  },
  {
   "cell_type": "code",
   "execution_count": 121,
   "metadata": {
    "collapsed": true,
    "deletable": true,
    "editable": true
   },
   "outputs": [],
   "source": [
    "credentials = getCredentials()\n",
    "# http = credentials.authorize(httplib2.Http())\n",
    "service = discovery.build('drive', 'v3', credentials=credentials)\n",
    "\n",
    "\n",
    "testDrive = gDrive(service)\n"
   ]
  },
  {
   "cell_type": "code",
   "execution_count": 122,
   "metadata": {
    "collapsed": false
   },
   "outputs": [
    {
     "data": {
      "text/plain": [
       "{u'id': u'0B9WTleJ1MzaYeWxVRGJKOWR0dE0',\n",
       " u'mimeType': u'application/octet-stream',\n",
       " u'webViewLink': u'https://drive.google.com/a/ash.nl/file/d/0B9WTleJ1MzaYeWxVRGJKOWR0dE0/view?usp=drivesdk'}"
      ]
     },
     "execution_count": 122,
     "metadata": {},
     "output_type": "execute_result"
    }
   ],
   "source": [
    "testDrive.add(name=\"release the schmoo!\")"
   ]
  },
  {
   "cell_type": "code",
   "execution_count": null,
   "metadata": {
    "collapsed": false,
    "deletable": true,
    "editable": true
   },
   "outputs": [],
   "source": [
    "help(testDrive.search)"
   ]
  },
  {
   "cell_type": "code",
   "execution_count": null,
   "metadata": {
    "collapsed": false,
    "deletable": true,
    "editable": true
   },
   "outputs": [],
   "source": [
    "help(testDrive.addFile)\n",
    "testDrive.mimeTypes\n",
    "\n"
   ]
  },
  {
   "cell_type": "code",
   "execution_count": null,
   "metadata": {
    "collapsed": false,
    "deletable": true,
    "editable": true
   },
   "outputs": [],
   "source": [
    "testDrive.getprops(fileId='0B9WTleJ1MzaYcVB4aUxURENldHM_')"
   ]
  },
  {
   "cell_type": "code",
   "execution_count": null,
   "metadata": {
    "collapsed": false,
    "deletable": true,
    "editable": true
   },
   "outputs": [],
   "source": [
    "testDrive.service.files().list(q='name = \"ClassOf 2025\" and \"0B9WTleJ1MzaYcVB4aUxURENldHM\" in parents and trashed=False', orderBy='modifiedTime').execute()\n"
   ]
  },
  {
   "cell_type": "code",
   "execution_count": null,
   "metadata": {
    "collapsed": false,
    "deletable": true,
    "editable": true
   },
   "outputs": [],
   "source": [
    "result = testDrive.search(name='ClassOf 2025', fuzzy = True, parent='0B9WTleJ1MzaYcVB4aUxURENldHM', orderBy='createdTime')\n",
    "if len(result['files']) > 0:\n",
    "    print result['files'][0].get('id')"
   ]
  },
  {
   "cell_type": "code",
   "execution_count": null,
   "metadata": {
    "collapsed": false,
    "deletable": true,
    "editable": true
   },
   "outputs": [],
   "source": [
    "testDrive.service.files().list(q=\"0B9WTleJ1MzaYcVB4aUxURENldHM\").execute()"
   ]
  },
  {
   "cell_type": "code",
   "execution_count": null,
   "metadata": {
    "collapsed": false,
    "deletable": true,
    "editable": true
   },
   "outputs": [],
   "source": [
    "testDrive.service.files().list(fields=\"files(id, name, webViewLink)\", q=\"name contains 'schmoo'\").execute()"
   ]
  },
  {
   "cell_type": "code",
   "execution_count": null,
   "metadata": {
    "collapsed": false,
    "deletable": true,
    "editable": true
   },
   "outputs": [],
   "source": [
    "testDrive.service.files().get(fileId=\"0B9WTleJ1MzaYcVB4aUxURENldHM\", fields=\"parents,mimeType,webViewLink, size, createdTime, trashed\").execute()"
   ]
  },
  {
   "cell_type": "code",
   "execution_count": null,
   "metadata": {
    "collapsed": false,
    "deletable": true,
    "editable": true
   },
   "outputs": [],
   "source": [
    "result = testDrive.search(name = \"ClassOf\", parent = \"0B9WTleJ1MzaYcVB4aUxURENldHM\", trashed = False)\n",
    "print result"
   ]
  },
  {
   "cell_type": "code",
   "execution_count": null,
   "metadata": {
    "collapsed": false,
    "deletable": true,
    "editable": true
   },
   "outputs": [],
   "source": [
    "testDrive.search('Portfolios APIV3', fuzzy=True, trashed = False)"
   ]
  },
  {
   "cell_type": "code",
   "execution_count": null,
   "metadata": {
    "collapsed": false,
    "deletable": true,
    "editable": true
   },
   "outputs": [],
   "source": [
    "testDrive.addFile('schmoo', mimeType = 'folder')"
   ]
  },
  {
   "cell_type": "code",
   "execution_count": null,
   "metadata": {
    "collapsed": false,
    "deletable": true,
    "editable": true
   },
   "outputs": [],
   "source": [
    "service.files().get(fileId=\"0BzC-V2QIsGRGT00xSjJHNy1Td1k\", fields='parents').execute()"
   ]
  },
  {
   "cell_type": "code",
   "execution_count": null,
   "metadata": {
    "collapsed": false,
    "deletable": true,
    "editable": true
   },
   "outputs": [],
   "source": [
    "myDrive.parents('0BzC-V2QIsGRGT00xSjJHNy1Td1k')"
   ]
  },
  {
   "cell_type": "code",
   "execution_count": null,
   "metadata": {
    "collapsed": false,
    "deletable": true,
    "editable": true
   },
   "outputs": [],
   "source": [
    "myDrive.ls(name = 'schmoo', fuzzy = True, trashed = False)"
   ]
  },
  {
   "cell_type": "code",
   "execution_count": null,
   "metadata": {
    "collapsed": false,
    "deletable": true,
    "editable": true
   },
   "outputs": [],
   "source": []
  },
  {
   "cell_type": "code",
   "execution_count": null,
   "metadata": {
    "collapsed": false,
    "deletable": true,
    "editable": true
   },
   "outputs": [],
   "source": [
    "response = myDrive.search(name = 'schmoo', fuzzy = True)\n",
    "print (response)"
   ]
  },
  {
   "cell_type": "code",
   "execution_count": null,
   "metadata": {
    "collapsed": false,
    "deletable": true,
    "editable": true
   },
   "outputs": [],
   "source": [
    "myDrive.addFile('the wifes sewing', mimeType = 'folder', parents = \"0BzC-V2QIsGRGWXNxNmhjc0FITDQ\")"
   ]
  },
  {
   "cell_type": "code",
   "execution_count": null,
   "metadata": {
    "collapsed": false,
    "deletable": true,
    "editable": true
   },
   "outputs": [],
   "source": [
    "myDrive.search(name = \"more cows\")"
   ]
  },
  {
   "cell_type": "code",
   "execution_count": null,
   "metadata": {
    "collapsed": false,
    "deletable": true,
    "editable": true
   },
   "outputs": [],
   "source": [
    "discovery.mimetypes"
   ]
  }
 ],
 "metadata": {
  "kernelspec": {
   "display_name": "Python 2",
   "language": "python",
   "name": "python2"
  },
  "language_info": {
   "codemirror_mode": {
    "name": "ipython",
    "version": 2
   },
   "file_extension": ".py",
   "mimetype": "text/x-python",
   "name": "python",
   "nbconvert_exporter": "python",
   "pygments_lexer": "ipython2",
   "version": "2.7.13"
  }
 },
 "nbformat": 4,
 "nbformat_minor": 2
}
