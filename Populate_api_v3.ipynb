{
 "cells": [
  {
   "cell_type": "code",
   "execution_count": 3,
   "metadata": {
    "collapsed": true,
    "deletable": true,
    "editable": true
   },
   "outputs": [],
   "source": [
    "import sys\n"
   ]
  },
  {
   "cell_type": "code",
   "execution_count": 5,
   "metadata": {
    "collapsed": false,
    "deletable": true,
    "editable": true
   },
   "outputs": [
    {
     "data": {
      "text/plain": [
       "'-f'"
      ]
     },
     "execution_count": 5,
     "metadata": {},
     "output_type": "execute_result"
    }
   ],
   "source": [
    "sys.argv.pop()"
   ]
  },
  {
   "cell_type": "code",
   "execution_count": null,
   "metadata": {
    "collapsed": false,
    "deletable": true,
    "editable": true
   },
   "outputs": [],
   "source": [
    "sys.argv"
   ]
  },
  {
   "cell_type": "code",
   "execution_count": 16,
   "metadata": {
    "collapsed": true,
    "deletable": true,
    "editable": true
   },
   "outputs": [],
   "source": [
    "sys.argv.append('./student_export.text')"
   ]
  },
  {
   "cell_type": "code",
   "execution_count": 6,
   "metadata": {
    "collapsed": false,
    "deletable": true,
    "editable": true
   },
   "outputs": [],
   "source": [
    "import sys\n",
    "import re\n",
    "import datetime\n",
    "import unicodedata\n",
    "import csv\n",
    "\n",
    "# I kind of hate this\n",
    "#from __future__ import print_function\n",
    "\n",
    "# this may be unecessary - double check\n",
    "import httplib2\n",
    "import os\n",
    "\n",
    "from apiclient import discovery\n",
    "from oauth2client import client\n",
    "from oauth2client import tools\n",
    "from oauth2client.file import Storage \n",
    "from apiclient import errors as gerror\n",
    "\n",
    "SCOPES = 'https://www.googleapis.com/auth/drive'\n",
    "#SCOPES = 'https://www.googleapis.com/auth/drive.file' # try this one!\n",
    "# SCOPES = 'https://www.googleapis.com/auth/drive.metadata.readonly'\n",
    "CLIENT_SECRET_FILE = 'client_secret_qs.json'\n",
    "APPLICATION_NAME = 'Drive API Python Quickstart'"
   ]
  },
  {
   "cell_type": "code",
   "execution_count": 7,
   "metadata": {
    "collapsed": false
   },
   "outputs": [
    {
     "data": {
      "text/plain": [
       "'https://www.googleapis.com/auth/drive'"
      ]
     },
     "execution_count": 7,
     "metadata": {},
     "output_type": "execute_result"
    }
   ],
   "source": [
    "SCOPES"
   ]
  },
  {
   "cell_type": "code",
   "execution_count": 8,
   "metadata": {
    "collapsed": true,
    "deletable": true,
    "editable": true
   },
   "outputs": [],
   "source": [
    "def strip_accents(s):\n",
    "    s = unicode(s, \"utf-8\")\n",
    "    return ''.join(c for c in unicodedata.normalize('NFD', s)\n",
    "        if unicodedata.category(c) != 'Mn')\n"
   ]
  },
  {
   "cell_type": "code",
   "execution_count": 9,
   "metadata": {
    "collapsed": true,
    "deletable": true,
    "editable": true
   },
   "outputs": [],
   "source": [
    "def get_valid_filename(s):\n",
    "    \"\"\"\n",
    "    Return the given string converted to a string that can be used for a clean\n",
    "    filename. Remove leading and trailing spaces\n",
    "    \"\"\"\n",
    "    s = s.strip()\n",
    "    s = strip_accents(s)\n",
    "    return re.sub(r'(?u)[^-\\w., ]', '', s)"
   ]
  },
  {
   "cell_type": "code",
   "execution_count": 10,
   "metadata": {
    "collapsed": false,
    "deletable": true,
    "editable": true
   },
   "outputs": [],
   "source": [
    "def fileRead(fname):\n",
    "    '''\n",
    "    read a file into a list, strip out all accented and special characters, leading spaces\n",
    "    '''\n",
    "    lines = []\n",
    "    try:\n",
    "        with open(fname) as f:\n",
    "            for each in f:\n",
    "                each = get_valid_filename(each)\n",
    "                lines.append(each.strip('\\n'))\n",
    "            return(lines)\n",
    "    except (OSError, IOError) as e:\n",
    "        print 'error reading file:', fname, e\n",
    "        return(False)"
   ]
  },
  {
   "cell_type": "code",
   "execution_count": 11,
   "metadata": {
    "collapsed": true,
    "deletable": true,
    "editable": true
   },
   "outputs": [],
   "source": [
    "def pathify(parts = [], basepath = ''):\n",
    "    '''\n",
    "    create a path from a list of strings\n",
    "    \n",
    "    accepts:\n",
    "        * parts (list): list of strings ['part_one', 'part_two', 'part_three']\n",
    "        * basepath (string): string to append to the start of the path (default: ./)\n",
    "    \n",
    "    returns:\n",
    "        * path: basePath/part_one/part_two/part_three/\n",
    "    '''\n",
    "    path = basepath\n",
    "    if len(parts ) > 0:\n",
    "        for each in parts:\n",
    "            if re.match('.*\\/$', each):\n",
    "                path = path + each\n",
    "            else:\n",
    "                path = path + each + '/'\n",
    "    return(path)"
   ]
  },
  {
   "cell_type": "code",
   "execution_count": 12,
   "metadata": {
    "collapsed": false,
    "deletable": true,
    "editable": true
   },
   "outputs": [],
   "source": [
    "def getCredentials():\n",
    "    home_dir = os.path.expanduser('~')\n",
    "    credential_dir = os.path.join(home_dir, '.credentials')\n",
    "    if not os.path.exists(credential_dir):\n",
    "        try:\n",
    "            os.makedirs(credential_dir)\n",
    "        except (IOError, OSError) as e:\n",
    "            print(e)\n",
    "        \n",
    "\n",
    "    credential_path = os.path.join(credential_dir, 'drive-python.json')\n",
    "\n",
    "    store = Storage(credential_path)\n",
    "    credentials = store.get()\n",
    "    if not credentials or credentials.invalid:\n",
    "        flow = client.flow_from_clientsecrets(CLIENT_SECRET_FILE, SCOPES)\n",
    "        flow.user_agent = 'foo'\n",
    "        credentials = tools.run_flow(flow, store, None)\n",
    "    return(credentials)"
   ]
  },
  {
   "cell_type": "code",
   "execution_count": 83,
   "metadata": {
    "collapsed": false,
    "deletable": true,
    "editable": true
   },
   "outputs": [],
   "source": [
    "class gDrive():\n",
    "    '''\n",
    "    creates a google drive interface object\n",
    "    \n",
    "    Accepts:\n",
    "    google drive v3 service object: (discover.build('drive', 'v3', credentials = credentials_object)\n",
    "    \n",
    "    '''\n",
    "    def __init__(self, object):\n",
    "        if  not isinstance(object, discovery.Resource):\n",
    "            print ('Error: googleapicleint.discovery.Resource object expected')\n",
    "            print ('{:>5}create a resource object:'.format(''))\n",
    "            print ('{:>10}credentials = getCredentials(credJSON = \"cleint_secret.json\")'.format(''))\n",
    "            print ('{:>10}service = discovery.build(\"drive\", \"v3\", credentials=credentials)'.format(''))\n",
    "            print ('{:>10}myDrive = gDrive(service)'.format(''))\n",
    "            return(None)\n",
    "        self.service = object\n",
    "        # https://developers.google.com/drive/v3/web/mime-types\n",
    "        self.mimeTypes = {'audio': 'application/vnd.google-apps.audio',\n",
    "                          'docs': 'application/vnd.google-apps.document',\n",
    "                          'drawing': 'application/vnd.google-apps.drawing',\n",
    "                          'file': 'application/vnd.google-apps.file',\n",
    "                          'folder': 'application/vnd.google-apps.folder',\n",
    "                          'forms': 'application/vnd.google-apps.form',\n",
    "                          'mymaps': 'application/vnd.google-apps.map',\n",
    "                          'photos': 'application/vnd.google-apps.photo',\n",
    "                          'slides': 'application/vnd.google-apps.presentation',\n",
    "                          'scripts': 'application/vnd.google-apps.script',\n",
    "                          'sites': 'application/vnd.google-apps.sites',\n",
    "                          'sheets': 'application/vnd.google-apps.spreadsheet',\n",
    "                          'video': 'application/vnd.google-apps.video'}\n",
    "    \n",
    "#     types = property()\n",
    "    \n",
    "    @property\n",
    "    def types(self):\n",
    "        '''\n",
    "        Display supported mimeTypes\n",
    "        '''\n",
    "        print('supported mime types:')\n",
    "        for key in self.mimeTypes:\n",
    "            #print('%10s: %s' % (key, self.mimeTypes[key]))\n",
    "            print('{:8} {val}'.format(key+':', val=self.mimeTypes[key]))\n",
    "    \n",
    "    def quote(self, string):\n",
    "        '''\n",
    "        add double quotes arounda string\n",
    "        '''\n",
    "        return('\"'+str(string)+'\"')\n",
    "    \n",
    "\n",
    "    \n",
    "    def addFile(self, name = None, ftype = False, parents = None):\n",
    "        '''\n",
    "        add a file to google drive:\n",
    "        \n",
    "        args:\n",
    "            name (string): human readable name\n",
    "            ftype (string): mimeType (see self.mimeTypes for a complete list)\n",
    "            parents (list): list of parent folders\n",
    "        '''\n",
    "        body={}\n",
    "        if name is None:\n",
    "            print('specify a folder or file name')\n",
    "            return(False)\n",
    "        else:\n",
    "            body['name'] = name\n",
    "        \n",
    "        if ftype in self.mimeTypes:\n",
    "            body['mimeType'] = self.mimeTypes[ftype]\n",
    "        \n",
    "        if isinstance(parents, list):\n",
    "            body['parents'] = parents\n",
    "        elif parents:\n",
    "            body['parents'] = [parents]\n",
    "        \n",
    "        print(body)\n",
    "        result = self.service.files().create(body=body).execute()\n",
    "        \n",
    "        #body = {'name':'release the schmoo!', 'mimeType':'application/vnd.google-apps.folder', 'parents':[\"0BzC-V2QIsGRGWXNxNmhjc0FITDQ\"]}\n",
    "# service.files().create(body=body).execute()\n",
    "        return(result)\n",
    "\n",
    "    \n",
    "    def search(self, name = None, trashed = None, ftype = False, fuzzy = False, date = None, dopperator = '>', \n",
    "               parent = None, orderBy = 'createdTime', quiet = True):\n",
    "        '''\n",
    "        search for an item by name and other properties in google drive\n",
    "        \n",
    "        args:\n",
    "            name (string): item name in google drive - required\n",
    "            trashed (bool): item is not in trash - default None (not used)\n",
    "            ftype = (string): item is one of the known mime types (gdrive.mimeTypes) - default None\n",
    "            fuzzy = (bool): substring search of names in drive\n",
    "            date = (RFC3339 date string): modification time date string (YYYY-MM-DD)\n",
    "            dopperator (date comparison opprator string): <, >, =, >=, <=  - default >\n",
    "            parent = (string): google drive file id string\n",
    "            orderBy = (comma separated string): order results assending by keys below - default createdTime:\n",
    "                        'createdTime', 'folder', 'modifiedByMeTime', \n",
    "                        'modifiedTime', 'name', 'quotaBytesUsed', \n",
    "                        'recency', 'sharedWithMeTime', 'starred', \n",
    "                        'viewedByMeTime'\n",
    "                        \n",
    "            \n",
    "        returns:\n",
    "            list of file dict\n",
    "        '''\n",
    "        features = ['name', 'trashed', 'ftype', 'date', 'parent']\n",
    "        build = {'name' : 'name {} \"{}\"'.format(('contains' if fuzzy else '='), name),\n",
    "                 'trashed' : 'trashed={}'. format(trashed),\n",
    "                 'ftype' : 'mimeType=\"{}\"'.format(self.mimeTypes[ftype] if ftype in self.mimeTypes else ''),\n",
    "                 'parent': '\"{}\" in parents'.format(parent),\n",
    "                 'date': 'modifiedTime{}\"{}\"'.format(dopperator, date)}\n",
    "\n",
    "        # provides for setting trashed to True/False if the input is not None\n",
    "        if not isinstance(trashed, type(None)):\n",
    "            # set to true as the variable is now in use, but it's value has been set above\n",
    "            trashed = True\n",
    "        \n",
    "        qList = []\n",
    "\n",
    "        # evaluate feature options; if they are != None/False, use them in building query\n",
    "        for each in features:\n",
    "            if eval(each):\n",
    "                qList.append(build[each])\n",
    "                \n",
    "        if not quiet:\n",
    "            print(' and '.join(qList))\n",
    "                \n",
    "        try:\n",
    "            # build a query with \"and\" statements\n",
    "            result = self.service.files().list(q=' and '.join(qList), orderBy=orderBy).execute()\n",
    "            return(result)\n",
    "        except gerror.HttpError as e:\n",
    "            print('File Not Found')\n",
    "            return(False)\n",
    "\n",
    "    def ls(self, *args, **kwargs):\n",
    "        '''\n",
    "        List files in google drive using any of the following properties:\n",
    "            \n",
    "        accepts:\n",
    "            name (string): item name in google drive - required\n",
    "            trashed (bool): item is not in trash - default None (not used)\n",
    "            ftype = (string): item is one of the known mime types (gdrive.mimeTypes) - default None\n",
    "            fuzzy = (bool): substring search of names in drive\n",
    "            date = (RFC3339 date string): modification time date string (YYYY-MM-DD)\n",
    "            dopperator (date comparison opprator string): <, >, =, >=, <=  - default >\n",
    "            parent = (string): google drive file id string    \n",
    "        '''\n",
    "        result = self.search(*args, **kwargs)\n",
    "        for eachFile in result.get('files', []):\n",
    "            print('name: {f[name]}, ID:{f[id]}, mimeType:{f[mimeType]}'.format(f=eachFile))\n",
    "            \n",
    "    \n",
    "    def parents(self, fid):\n",
    "        \"\"\"Print a file's parents.\n",
    "\n",
    "        Args:\n",
    "        service: Drive API service instance.\n",
    "        file_id: ID of the file to print parents for.\n",
    "        \"\"\"\n",
    "# service.files().get(fileId=\"0BzC-V2QIsGRGT00xSjJHNy1Td1k\", fields='parents').execute()\n",
    "        try:\n",
    "            parents = self.service.files().get(fileId=fid, fields='parents').execute()\n",
    "            return(parents)\n",
    "        except gerror.HttpError as e:\n",
    "            print ('An error occurred: {}'.format(e))\n",
    "            return(False)\n",
    "    \n",
    "    def rm(self):\n",
    "        pass\n",
    "    \n",
    "#     def search(self, name = None, trashed = False, ftype = False, fuzzy = False, date = None, parent = None):\n",
    "#         '''\n",
    "#         search for an item by name and other properties in google drive\n",
    "        \n",
    "#         accepts:\n",
    "#             name (string): item name in google drive - required\n",
    "#             trashed (bool): item is not in trash - default False\n",
    "#             ftype = (string): item is one of the known mime types (gdrive.mimeTypes) - default None\n",
    "#             fuzzy = (bool): substring search of names in drive\n",
    "#             date = (RFC3339 date string): currently searches for files created after date string (YYYY-MM-DD)\n",
    "#             parent = (string): google drive file id string\n",
    "            \n",
    "#         returns:\n",
    "#             list of file dict\n",
    "#         '''\n",
    "#         queryDict={}\n",
    "#         if name is None:\n",
    "#             print('specify a folder or file name')\n",
    "#             return(False)\n",
    "#         else:\n",
    "#             if fuzzy:\n",
    "#                 fVal = ' contains '\n",
    "#             else:\n",
    "#                 fVal = '='\n",
    "#             queryDict['name'] = 'name'+fVal+self.quote(name)\n",
    "            \n",
    "#         if isinstance(trashed, bool):\n",
    "#             if trashed:\n",
    "#                 tVal='trashed=True'\n",
    "#             else:\n",
    "#                 tVal='trashed=False'\n",
    "#             queryDict['trashed'] = tVal\n",
    "        \n",
    "#         if ftype in self.mimeTypes:\n",
    "#             queryDict['mimeType'] = 'mimeType='+self.quote(self.mimeTypes[ftype])\n",
    "            \n",
    "#         if parent:\n",
    "#             queryDict['parents'] = self.quote(parent)+' in parents'\n",
    "                \n",
    "        \n",
    "#         if date:\n",
    "#             queryDict['modifiedTime'] = 'modifiedTime >'+self.quote(date)\n",
    "        \n",
    "        \n",
    "#         query = ' and '.join(queryDict.values())\n",
    "#         print(query)\n",
    "        \n",
    "#         try:\n",
    "#             result = self.service.files().list(q=query).execute()\n",
    "#             return(result)\n",
    "#         except gerror.HttpError as e:\n",
    "#             print('File Not Found')\n",
    "#             return(False)\n",
    "        \n",
    "# #         try:\n",
    "# #             print('trying')\n",
    "# #             result = self.service.files().list(q=query).execute()\n",
    "# #         except gerror.HttpError as e:\n",
    "# #             print('File Not Found')\n",
    "# #             return(False)        \n",
    "    \n",
    "    \n",
    "#     def search(self, name = None, trashed = False, ftype = False, fuzzy = False, parent = None):\n",
    "        \n",
    "        \n",
    "#         if name is None:\n",
    "#             print ('specify a folder or file name')\n",
    "#             return(False)\n",
    "#         else:\n",
    "#             # this needs to be surrounded by double quotes\n",
    "#             name = self.quote(name)\n",
    "                \n",
    "#         # give a reasonable value if this is null\n",
    "#         if parent:\n",
    "#             parentVal = self.quote(parent)            \n",
    "#         else:\n",
    "#             parentVal = self.quote('null')\n",
    "            \n",
    "#         if fuzzy:\n",
    "#             fuzzyVal = ' contains '\n",
    "#         else:\n",
    "#             fuzzyVal = '='\n",
    "            \n",
    "#         supportedFeatures = {'name':'name'+fuzzyVal+self.quote(eval(name)), \n",
    "#                              'trashed': 'trashed='+eval(self.quote(trashed)), \n",
    "#                              'parent': self.quote(eval(parentVal))+' in parents',\n",
    "#                              }\n",
    "        \n",
    "#         # exclude these if they are set to none or false\n",
    "#         nullFeatures =['parent']\n",
    "        \n",
    "#         queryList = []\n",
    "#         for each in supportedFeatures:\n",
    "#             if each in nullFeatures and not eval(each):\n",
    "#                 pass\n",
    "#             else:\n",
    "#                 queryList.append(str(supportedFeatures[each])) #+ str(myDict[each]))\n",
    "\n",
    "#         query = ' and '.join(queryList)        \n",
    "#         print(query)\n",
    "        \n",
    "#         try:\n",
    "#             result = self.service.files().list(q=query).execute()\n",
    "#         except gerror.HttpError as e:\n",
    "#             print('File Not Found')\n",
    "#             return(False)\n",
    "        \n",
    "#         return(result)"
   ]
  },
  {
   "cell_type": "code",
   "execution_count": 107,
   "metadata": {
    "collapsed": false,
    "deletable": true,
    "editable": true
   },
   "outputs": [],
   "source": [
    "def main():\n",
    "    \n",
    "    \n",
    "    BASEFOLDER = '0B9WTleJ1MzaYcVB4aUxURENldHM'\n",
    "    \n",
    "    credentials = getCredentials()\n",
    "    # http = credentials.authorize(httplib2.Http())\n",
    "    service = discovery.build('drive', 'v3', credentials=credentials)\n",
    "\n",
    "\n",
    "    myDrive = gDrive(service)\n",
    "\n",
    "    # path to desktop of this user (this should work on macs)\n",
    "    desktopPath = pathify([os.path.expanduser('~')], 'Desktop')\n",
    "\n",
    "    # Fields expected in CSV file containing student data\n",
    "    # move this into a resource file? - see the folder list below\n",
    "    expected = ['ClassOf', 'LastFirst', 'Student_Number']\n",
    "\n",
    "    # map of CSV fields to elements in list\n",
    "    headerMap = {}\n",
    "\n",
    "    # list of folders to populate into each students' folder\n",
    "    if os.path.exists(desktopPath+'folders.txt'):\n",
    "        fileList = desktopPath + 'folders.txt'\n",
    "    else:\n",
    "        fileList = './folders.txt'\n",
    "\n",
    "    # list of student information\n",
    "    studentInfo = ''\n",
    "    \n",
    "\n",
    "    # list containing CSV\n",
    "    studentCSV = []\n",
    "\n",
    "    # list of folders to add under each students' path\n",
    "    folders = fileRead(fileList)\n",
    "\n",
    "    try:\n",
    "        print('input file: {}'.format(sys.argv[1]))\n",
    "        studentInfo = sys.argv[1]\n",
    "    except IndexError as e:\n",
    "        print('Error: please specify a CSV file containing student information')\n",
    "\n",
    "    if folders:\n",
    "        print('Folders to be created for each stuent: {}'.format(len(folders)))\n",
    "        print('{:>5}List of folders to be created:'.format(''))\n",
    "        for folder in folders:\n",
    "            print('{:>10}{}'.format('', folder))\n",
    "    else:\n",
    "        print('please place a file named \"folders.txt\" containing a list of folders (one on each line)on the Desktop')\n",
    "        print('exiting')\n",
    "        return(False)\n",
    "\n",
    "    # read the csv file in Universal newline mode (rU)\n",
    "    try:\n",
    "        with open(studentInfo, 'rU') as csvfile:\n",
    "            csvreader = csv.reader(csvfile)\n",
    "            for row in csvreader:\n",
    "                studentCSV.append(row)\n",
    "    except (OSError, IOError) as e:\n",
    "        print 'error reading file:', studentInfo, e\n",
    "        print 'exiting'\n",
    "        return(False)\n",
    "\n",
    "    if len(studentCSV) > 1:\n",
    "        print len(studentCSV)-1, 'student records found in', studentInfo, '\\n'\n",
    "    else:\n",
    "        print 'no student records found in', studentInfo\n",
    "        return(False)\n",
    "\n",
    "    # check for expected headers in CSV data\n",
    "    missingHeaders = []\n",
    "    for each in expected:\n",
    "        if each not in studentCSV[0]:\n",
    "            missingHeaders.append(each)\n",
    "\n",
    "    if len(missingHeaders) > 0:\n",
    "        print 'ERROR'\n",
    "        for each in missingHeaders:\n",
    "            print studentInfo, ' missing header: ', each\n",
    "        print 'please recreate file', studentInfo, 'with all required headers:'\n",
    "        print '     ', expected\n",
    "        print 'stopping'\n",
    "        return(False)\n",
    "\n",
    "    # map headers to their index\n",
    "    for index, value in enumerate(studentCSV[0]):\n",
    "        headerMap[value]=index\n",
    "    print('creating student folders:')\n",
    "    \n",
    "    for index, value in enumerate(studentCSV):\n",
    "        # check that base folder exists, raise and error if it doesn't get the user to specify one\n",
    "        if index > 0:\n",
    "            # check for an existing \"class of folder\" \n",
    "            classOfFolder = 'ClassOf ' + value[headerMap['ClassOf']]\n",
    "\n",
    "            remoteClassFolder = myDrive.search(name = classOfFolder, parent = BASEFOLDER, orderBy = 'createdTime', trashed = False)\n",
    "            \n",
    "            if len(remoteClassFolder['files']) > 0:\n",
    "                print ('found exisiting folder: {}'.format(remoteClassFolder['files'][0].get('name')))\n",
    "            else:\n",
    "                print ('creating class folder: {}'.format(classOfFolder))\n",
    "                # create the folder here\n",
    "                \n",
    "                #print('{} exists at ID: {}'.format(classOfFolder, remoteFolder.get('id')))\n",
    "#             # create folder and store ID of \"Class of\"\n",
    "#             print('{:>5}{} - {}'.format('', get_valid_filename(value[headerMap['LastFirst']]), get_valid_filename(value[headerMap['Student_Number']])))\n",
    "#             # create folder for store ID of student LastFirst - these need to be converted into a CSV\n",
    "#             for folder in folders:\n",
    "#                 print('{:>10}{}'.format('',folder))\n"
   ]
  },
  {
   "cell_type": "code",
   "execution_count": 108,
   "metadata": {
    "collapsed": false,
    "deletable": true,
    "editable": true
   },
   "outputs": [
    {
     "name": "stdout",
     "output_type": "stream",
     "text": [
      "input file: ./student_export.text\n",
      "Folders to be created for each stuent: 5\n",
      "     List of folders to be created:\n",
      "          08-Grade\n",
      "          09-Grade\n",
      "          10-Grade\n",
      "          11-Grade\n",
      "          12-Grade\n",
      "12 student records found in ./student_export.text \n",
      "\n",
      "creating student folders:\n",
      "creating class folder: ClassOf 2025\n",
      "creating class folder: ClassOf 2025\n",
      "creating class folder: ClassOf 2025\n",
      "creating class folder: ClassOf 2025\n",
      "creating class folder: ClassOf 2025\n",
      "creating class folder: ClassOf 2025\n",
      "creating class folder: ClassOf 2025\n",
      "creating class folder: ClassOf 2025\n",
      "creating class folder: ClassOf 2025\n",
      "creating class folder: ClassOf 2025\n",
      "creating class folder: ClassOf 2025\n",
      "creating class folder: ClassOf 2025\n"
     ]
    }
   ],
   "source": [
    "main()"
   ]
  },
  {
   "cell_type": "code",
   "execution_count": 96,
   "metadata": {
    "collapsed": false
   },
   "outputs": [
    {
     "data": {
      "text/plain": [
       "{u'files': [], u'incompleteSearch': False, u'kind': u'drive#fileList'}"
      ]
     },
     "execution_count": 96,
     "metadata": {},
     "output_type": "execute_result"
    }
   ],
   "source": [
    "testDrive.service.files().list(q='name = \"ClassOf 2025\" and \"0B9WTleJ1MzaYcVB4aUxURENldHM\" in parents and trashed=False', orderBy='modifiedTime').execute()\n"
   ]
  },
  {
   "cell_type": "code",
   "execution_count": 78,
   "metadata": {
    "collapsed": false
   },
   "outputs": [
    {
     "name": "stdout",
     "output_type": "stream",
     "text": [
      "name contains \"ClassOf 2025\" and \"0B9WTleJ1MzaYcVB4aUxURENldHM\" in parents\n",
      "0B9WTleJ1MzaYLWdiU1R6eFpSZkU\n"
     ]
    }
   ],
   "source": [
    "result = testDrive.search(name='ClassOf 2025', fuzzy = True, parent='0B9WTleJ1MzaYcVB4aUxURENldHM', orderBy='createdTime')\n",
    "if len(result['files']) > 0:\n",
    "    print result['files'][0].get('id')"
   ]
  },
  {
   "cell_type": "code",
   "execution_count": 76,
   "metadata": {
    "collapsed": false
   },
   "outputs": [
    {
     "data": {
      "text/plain": [
       "[]"
      ]
     },
     "execution_count": 76,
     "metadata": {},
     "output_type": "execute_result"
    }
   ],
   "source": [
    "result['files']"
   ]
  },
  {
   "cell_type": "code",
   "execution_count": 100,
   "metadata": {
    "collapsed": true
   },
   "outputs": [],
   "source": [
    "credentials = getCredentials()\n",
    "# http = credentials.authorize(httplib2.Http())\n",
    "service = discovery.build('drive', 'v3', credentials=credentials)\n",
    "\n",
    "\n",
    "testDrive = gDrive(service)\n"
   ]
  },
  {
   "cell_type": "code",
   "execution_count": 102,
   "metadata": {
    "collapsed": false
   },
   "outputs": [
    {
     "name": "stdout",
     "output_type": "stream",
     "text": [
      "0\n"
     ]
    }
   ],
   "source": [
    "result = testDrive.search(name = \"ClassOf 2025\", parent = \"0B9WTleJ1MzaYcVB4aUxURENldHM\", trashed = False)\n",
    "print len(result['files'])"
   ]
  },
  {
   "cell_type": "code",
   "execution_count": 21,
   "metadata": {
    "collapsed": false
   },
   "outputs": [
    {
     "name": "stdout",
     "output_type": "stream",
     "text": [
      "name contains \"Portfolios APIV3\" and trashed=False\n"
     ]
    },
    {
     "data": {
      "text/plain": [
       "{u'files': [{u'id': u'0B9WTleJ1MzaYcVB4aUxURENldHM',\n",
       "   u'kind': u'drive#file',\n",
       "   u'mimeType': u'application/vnd.google-apps.folder',\n",
       "   u'name': u'Student Portfolios APIV3'}],\n",
       " u'incompleteSearch': False,\n",
       " u'kind': u'drive#fileList'}"
      ]
     },
     "execution_count": 21,
     "metadata": {},
     "output_type": "execute_result"
    }
   ],
   "source": [
    "testDrive.search('Portfolios APIV3', fuzzy=True, trashed = False)"
   ]
  },
  {
   "cell_type": "code",
   "execution_count": null,
   "metadata": {
    "collapsed": false
   },
   "outputs": [],
   "source": [
    "testDrive.addFile('schmoo', ftype = 'folder')"
   ]
  },
  {
   "cell_type": "code",
   "execution_count": null,
   "metadata": {
    "collapsed": false,
    "deletable": true,
    "editable": true
   },
   "outputs": [],
   "source": [
    "service.files().get(fileId=\"0BzC-V2QIsGRGT00xSjJHNy1Td1k\", fields='parents').execute()"
   ]
  },
  {
   "cell_type": "code",
   "execution_count": null,
   "metadata": {
    "collapsed": false,
    "deletable": true,
    "editable": true
   },
   "outputs": [],
   "source": [
    "myDrive.parents('0BzC-V2QIsGRGT00xSjJHNy1Td1k')"
   ]
  },
  {
   "cell_type": "code",
   "execution_count": null,
   "metadata": {
    "collapsed": false,
    "deletable": true,
    "editable": true
   },
   "outputs": [],
   "source": [
    "myDrive.ls(name = 'schmoo', fuzzy = True, trashed = False)"
   ]
  },
  {
   "cell_type": "code",
   "execution_count": null,
   "metadata": {
    "collapsed": false,
    "deletable": true,
    "editable": true
   },
   "outputs": [],
   "source": []
  },
  {
   "cell_type": "code",
   "execution_count": null,
   "metadata": {
    "collapsed": false,
    "deletable": true,
    "editable": true
   },
   "outputs": [],
   "source": [
    "response = myDrive.search(name = 'schmoo', fuzzy = True)\n",
    "print (response)"
   ]
  },
  {
   "cell_type": "code",
   "execution_count": null,
   "metadata": {
    "collapsed": false,
    "deletable": true,
    "editable": true
   },
   "outputs": [],
   "source": [
    "myDrive.addFile('the wifes sewing', ftype = 'folder', parents = \"0BzC-V2QIsGRGWXNxNmhjc0FITDQ\")"
   ]
  },
  {
   "cell_type": "code",
   "execution_count": null,
   "metadata": {
    "collapsed": false,
    "deletable": true,
    "editable": true
   },
   "outputs": [],
   "source": [
    "myDrive.search(name = \"more cows\")"
   ]
  },
  {
   "cell_type": "code",
   "execution_count": null,
   "metadata": {
    "collapsed": false,
    "deletable": true,
    "editable": true
   },
   "outputs": [],
   "source": [
    "discovery.mimetypes"
   ]
  }
 ],
 "metadata": {
  "kernelspec": {
   "display_name": "Python 2",
   "language": "python",
   "name": "python2"
  },
  "language_info": {
   "codemirror_mode": {
    "name": "ipython",
    "version": 2
   },
   "file_extension": ".py",
   "mimetype": "text/x-python",
   "name": "python",
   "nbconvert_exporter": "python",
   "pygments_lexer": "ipython2",
   "version": "2.7.13"
  }
 },
 "nbformat": 4,
 "nbformat_minor": 2
}
