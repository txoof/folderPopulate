{
 "cells": [
  {
   "cell_type": "code",
   "execution_count": 3,
   "metadata": {
    "collapsed": true,
    "deletable": true,
    "editable": true
   },
   "outputs": [],
   "source": [
    "import sys\n"
   ]
  },
  {
   "cell_type": "code",
   "execution_count": 5,
   "metadata": {
    "collapsed": false,
    "deletable": true,
    "editable": true
   },
   "outputs": [
    {
     "data": {
      "text/plain": [
       "'-f'"
      ]
     },
     "execution_count": 5,
     "metadata": {},
     "output_type": "execute_result"
    }
   ],
   "source": [
    "sys.argv.pop()"
   ]
  },
  {
   "cell_type": "code",
   "execution_count": null,
   "metadata": {
    "collapsed": false,
    "deletable": true,
    "editable": true
   },
   "outputs": [],
   "source": [
    "sys.argv"
   ]
  },
  {
   "cell_type": "code",
   "execution_count": 16,
   "metadata": {
    "collapsed": true,
    "deletable": true,
    "editable": true
   },
   "outputs": [],
   "source": [
    "sys.argv.append('./student_export.text')"
   ]
  },
  {
   "cell_type": "code",
   "execution_count": 6,
   "metadata": {
    "collapsed": false,
    "deletable": true,
    "editable": true
   },
   "outputs": [],
   "source": [
    "import sys\n",
    "import re\n",
    "import datetime\n",
    "import unicodedata\n",
    "import csv\n",
    "\n",
    "# I kind of hate this\n",
    "#from __future__ import print_function\n",
    "\n",
    "# this may be unecessary - double check\n",
    "import httplib2\n",
    "import os\n",
    "\n",
    "from apiclient import discovery\n",
    "from oauth2client import client\n",
    "from oauth2client import tools\n",
    "from oauth2client.file import Storage \n",
    "from apiclient import errors as gerror\n",
    "\n",
    "SCOPES = 'https://www.googleapis.com/auth/drive'\n",
    "#SCOPES = 'https://www.googleapis.com/auth/drive.file' # try this one!\n",
    "# SCOPES = 'https://www.googleapis.com/auth/drive.metadata.readonly'\n",
    "CLIENT_SECRET_FILE = 'client_secret_qs.json'\n",
    "APPLICATION_NAME = 'Drive API Python Quickstart'"
   ]
  },
  {
   "cell_type": "code",
   "execution_count": 7,
   "metadata": {
    "collapsed": false
   },
   "outputs": [
    {
     "data": {
      "text/plain": [
       "'https://www.googleapis.com/auth/drive'"
      ]
     },
     "execution_count": 7,
     "metadata": {},
     "output_type": "execute_result"
    }
   ],
   "source": [
    "SCOPES"
   ]
  },
  {
   "cell_type": "code",
   "execution_count": 8,
   "metadata": {
    "collapsed": true,
    "deletable": true,
    "editable": true
   },
   "outputs": [],
   "source": [
    "def strip_accents(s):\n",
    "    s = unicode(s, \"utf-8\")\n",
    "    return ''.join(c for c in unicodedata.normalize('NFD', s)\n",
    "        if unicodedata.category(c) != 'Mn')\n"
   ]
  },
  {
   "cell_type": "code",
   "execution_count": 9,
   "metadata": {
    "collapsed": true,
    "deletable": true,
    "editable": true
   },
   "outputs": [],
   "source": [
    "def get_valid_filename(s):\n",
    "    \"\"\"\n",
    "    Return the given string converted to a string that can be used for a clean\n",
    "    filename. Remove leading and trailing spaces\n",
    "    \"\"\"\n",
    "    s = s.strip()\n",
    "    s = strip_accents(s)\n",
    "    return re.sub(r'(?u)[^-\\w., ]', '', s)"
   ]
  },
  {
   "cell_type": "code",
   "execution_count": 10,
   "metadata": {
    "collapsed": false,
    "deletable": true,
    "editable": true
   },
   "outputs": [],
   "source": [
    "def fileRead(fname):\n",
    "    '''\n",
    "    read a file into a list, strip out all accented and special characters, leading spaces\n",
    "    '''\n",
    "    lines = []\n",
    "    try:\n",
    "        with open(fname) as f:\n",
    "            for each in f:\n",
    "                each = get_valid_filename(each)\n",
    "                lines.append(each.strip('\\n'))\n",
    "            return(lines)\n",
    "    except (OSError, IOError) as e:\n",
    "        print 'error reading file:', fname, e\n",
    "        return(False)"
   ]
  },
  {
   "cell_type": "code",
   "execution_count": 11,
   "metadata": {
    "collapsed": true,
    "deletable": true,
    "editable": true
   },
   "outputs": [],
   "source": [
    "def pathify(parts = [], basepath = ''):\n",
    "    '''\n",
    "    create a path from a list of strings\n",
    "    \n",
    "    accepts:\n",
    "        * parts (list): list of strings ['part_one', 'part_two', 'part_three']\n",
    "        * basepath (string): string to append to the start of the path (default: ./)\n",
    "    \n",
    "    returns:\n",
    "        * path: basePath/part_one/part_two/part_three/\n",
    "    '''\n",
    "    path = basepath\n",
    "    if len(parts ) > 0:\n",
    "        for each in parts:\n",
    "            if re.match('.*\\/$', each):\n",
    "                path = path + each\n",
    "            else:\n",
    "                path = path + each + '/'\n",
    "    return(path)"
   ]
  },
  {
   "cell_type": "code",
   "execution_count": 302,
   "metadata": {
    "collapsed": false,
    "deletable": true,
    "editable": true
   },
   "outputs": [],
   "source": [
    "def getCredentials():\n",
    "    home_dir = os.path.expanduser('~')\n",
    "    credential_dir = os.path.join(home_dir, '.credentials')\n",
    "    if not os.path.exists(credential_dir):\n",
    "        try:\n",
    "            os.makedirs(credential_dir)\n",
    "        except (IOError, OSError) as e:\n",
    "            print(e)\n",
    "        \n",
    "\n",
    "    credential_path = os.path.join(credential_dir, 'drive-python.json')\n",
    "\n",
    "    store = Storage(credential_path)\n",
    "    credentials = store.get()\n",
    "    if not credentials or credentials.invalid:\n",
    "        flow = client.flow_from_clientsecrets(CLIENT_SECRET_FILE, SCOPES)\n",
    "        flow.user_agent = 'foo'\n",
    "        credentials = tools.run_flow(flow, store, None)\n",
    "    return(credentials)"
   ]
  },
  {
   "cell_type": "code",
   "execution_count": 317,
   "metadata": {
    "collapsed": true
   },
   "outputs": [],
   "source": [
    "class GDriveError(Exception):\n",
    "    pass"
   ]
  },
  {
   "cell_type": "code",
   "execution_count": 328,
   "metadata": {
    "collapsed": false,
    "deletable": true,
    "editable": true
   },
   "outputs": [],
   "source": [
    "class gDrive():\n",
    "    '''\n",
    "    creates a google drive interface object\n",
    "    \n",
    "    Accepts:\n",
    "    google drive v3 service object: (discover.build('drive', 'v3', credentials = credentials_object)\n",
    "    \n",
    "    '''\n",
    "    def __init__(self, object):\n",
    "        if  not isinstance(object, discovery.Resource):\n",
    "            print ('Error: googleapicleint.discovery.Resource object expected')\n",
    "            print ('{:>5}create a resource object:'.format(''))\n",
    "            print ('{:>10}credentials = getCredentials(credJSON = \"cleint_secret.json\")'.format(''))\n",
    "            print ('{:>10}service = discovery.build(\"drive\", \"v3\", credentials=credentials)'.format(''))\n",
    "            print ('{:>10}myDrive = gDrive(service)'.format(''))\n",
    "            return(None)\n",
    "        self.service = object\n",
    "        # https://developers.google.com/drive/v3/web/mime-types\n",
    "        self.mimeTypes = {'audio': 'application/vnd.google-apps.audio',\n",
    "                          'docs': 'application/vnd.google-apps.document',\n",
    "                          'drawing': 'application/vnd.google-apps.drawing',\n",
    "                          'file': 'application/vnd.google-apps.file',\n",
    "                          'folder': 'application/vnd.google-apps.folder',\n",
    "                          'forms': 'application/vnd.google-apps.form',\n",
    "                          'mymaps': 'application/vnd.google-apps.map',\n",
    "                          'photos': 'application/vnd.google-apps.photo',\n",
    "                          'slides': 'application/vnd.google-apps.presentation',\n",
    "                          'scripts': 'application/vnd.google-apps.script',\n",
    "                          'sites': 'application/vnd.google-apps.sites',\n",
    "                          'sheets': 'application/vnd.google-apps.spreadsheet',\n",
    "                          'video': 'application/vnd.google-apps.video'}\n",
    "    \n",
    "#     types = property()\n",
    "    \n",
    "    @property\n",
    "    def types(self):\n",
    "        '''\n",
    "        Display supported mimeTypes\n",
    "        '''\n",
    "        print('supported mime types:')\n",
    "        for key in self.mimeTypes:\n",
    "            #print('%10s: %s' % (key, self.mimeTypes[key]))\n",
    "            print('{:8} {val}'.format(key+':', val=self.mimeTypes[key]))\n",
    "    \n",
    "#     def quote(self, string):\n",
    "#         '''\n",
    "#         add double quotes arounda string\n",
    "#         '''\n",
    "#         return('\"'+str(string)+'\"')\n",
    "    \n",
    "\n",
    "    \n",
    "    def add(self, name = None, mimeType = False, parents = None):\n",
    "        '''\n",
    "        add a file to google drive:\n",
    "        \n",
    "        args:\n",
    "            name (string): human readable name\n",
    "            mimeType (string): mimeType (see self.mimeTypes for a complete list)\n",
    "            parents (list): list of parent folders\n",
    "        '''\n",
    "        body={}\n",
    "        if name is None:\n",
    "            print('specify a folder or file name')\n",
    "            return(False)\n",
    "        else:\n",
    "            body['name'] = name\n",
    "        \n",
    "        if mimeType in self.mimeTypes:\n",
    "            body['mimeType'] = self.mimeTypes[mimeType]\n",
    "        \n",
    "        if isinstance(parents, list):\n",
    "            body['parents'] = parents\n",
    "        elif parents:\n",
    "            body['parents'] = [parents]\n",
    "        \n",
    "        print(body)\n",
    "        try:\n",
    "            result = self.service.files().create(body=body).execute()\n",
    "            return(result)\n",
    "        except gerror.HttpError as e:\n",
    "            raise GDriveError(e)\n",
    "            return(False)\n",
    "        \n",
    "        \n",
    "        #body = {'name':'release the schmoo!', 'mimeType':'application/vnd.google-apps.folder', 'parents':[\"0BzC-V2QIsGRGWXNxNmhjc0FITDQ\"]}\n",
    "# service.files().create(body=body).execute()\n",
    "        \n",
    "\n",
    "    \n",
    "    def search(self, name = None, trashed = None, mimeType = False, fuzzy = False, date = None, dopperator = '>', \n",
    "               parents = None, orderBy = 'createdTime', quiet = True):\n",
    "        '''\n",
    "        search for an item by name and other properties in google drive\n",
    "        \n",
    "        args:\n",
    "            name (string): item name in google drive - required\n",
    "            trashed (bool): item is not in trash - default None (not used)\n",
    "            mimeType = (string): item is one of the known mime types (gdrive.mimeTypes) - default None\n",
    "            fuzzy = (bool): substring search of names in drive\n",
    "            date = (RFC3339 date string): modification time date string (YYYY-MM-DD)\n",
    "            dopperator (date comparison opprator string): <, >, =, >=, <=  - default >\n",
    "            parents = (string): google drive file id string\n",
    "            orderBy = (comma separated string): order results assending by keys below - default createdTime:\n",
    "                        'createdTime', 'folder', 'modifiedByMeTime', \n",
    "                        'modifiedTime', 'name', 'quotaBytesUsed', \n",
    "                        'recency', 'sharedWithMeTime', 'starred', \n",
    "                        'viewedByMeTime'\n",
    "                        \n",
    "            \n",
    "        returns:\n",
    "            list of file dict\n",
    "        '''\n",
    "        features = ['name', 'trashed', 'mimeType', 'date', 'parents']\n",
    "        build = {'name' : 'name {} \"{}\"'.format(('contains' if fuzzy else '='), name),\n",
    "                 'trashed' : 'trashed={}'. format(trashed),\n",
    "                 'mimeType' : 'mimeType=\"{}\"'.format(self.mimeTypes[mimeType] if mimeType in self.mimeTypes else ''),\n",
    "                 'parents': '\"{}\" in parents'.format(parents),\n",
    "                 'date': 'modifiedTime{}\"{}\"'.format(dopperator, date)}\n",
    "\n",
    "        # provides for setting trashed to True/False if the input is not None\n",
    "        if not isinstance(trashed, type(None)):\n",
    "            # set to true as the variable is now in use, but it's value has been set above\n",
    "            trashed = True\n",
    "        \n",
    "        qList = []\n",
    "\n",
    "        # evaluate feature options; if they are != None/False, use them in building query\n",
    "        for each in features:\n",
    "            if eval(each):\n",
    "                qList.append(build[each])\n",
    "                \n",
    "        if not quiet:\n",
    "            print(' and '.join(qList))\n",
    "                \n",
    "        try:\n",
    "            # build a query with \"and\" statements\n",
    "            result = self.service.files().list(q=' and '.join(qList), orderBy=orderBy).execute()\n",
    "            return(result)\n",
    "        except gerror.HttpError as e:\n",
    "            raise GDriveError(e)\n",
    "            return(False)\n",
    "\n",
    "    def ls(self, *args, **kwargs):\n",
    "        '''\n",
    "        List files in google drive using any of the following properties:\n",
    "            \n",
    "        accepts:\n",
    "            name (string): item name in google drive - required\n",
    "            trashed (bool): item is not in trash - default None (not used)\n",
    "            mimeType = (string): item is one of the known mime types (gdrive.mimeTypes) - default None\n",
    "            fuzzy = (bool): substring search of names in drive\n",
    "            date = (RFC3339 date string): modification time date string (YYYY-MM-DD)\n",
    "            dopperator (date comparison opprator string): <, >, =, >=, <=  - default >\n",
    "            parent = (string): google drive file id string    \n",
    "        '''\n",
    "        try:\n",
    "            result = self.search(*args, **kwargs)\n",
    "            for eachFile in result.get('files', []):\n",
    "                print('name: {f[name]}, ID:{f[id]}, mimeType:{f[mimeType]}'.format(f=eachFile))\n",
    "            return(result)\n",
    "        except GDriveError as e:\n",
    "            raise GDriveError(e)\n",
    "            \n",
    "    \n",
    "    \n",
    "    def getprops(self, fileId = None, fields = 'parents, mimeType, webViewLink', sanitize=True):\n",
    "        '''\n",
    "        get a file or folder's properties based on google drive fileId\n",
    "        \n",
    "        for a more complete list: https://developers.google.com/drive/v3/web/migration\n",
    "        \n",
    "        args:\n",
    "            fileId (string): google drive file ID\n",
    "            fields (comma separated string): properties to query and return any of the following:\n",
    "                'parents', 'mimeType', 'webViewLink', 'size', 'createdTime', 'trashed'\n",
    "            sanitize (bool): remove any field options that are not in the above list - false to allow anything\n",
    "            \n",
    "        returns:\n",
    "            list of dictionary - google drive file properties\n",
    "            \n",
    "        raises GDriveError\n",
    "        '''\n",
    "        fieldsExpected = ['parents', 'mimeType', 'webViewLink', 'size', 'createdTime', 'trashed']\n",
    "        \n",
    "        fieldsProcessed = []\n",
    "        fieldsUnknown = []\n",
    "\n",
    "        if sanitize:\n",
    "            # remove whitespace and unknown options\n",
    "            for each in fields.replace(' ','').split(','):\n",
    "                if each in fieldsExpected:\n",
    "                    fieldsProcessed.append(each)\n",
    "                else:\n",
    "                    fieldsUnknown.append(each)\n",
    "        else:\n",
    "            fieldsProcessed = fields.split(',')\n",
    "        if len(fieldsUnknown) > 0:\n",
    "            print ('unrecognized fields: {}'.format(fieldsUnknown))\n",
    "        \n",
    "        try:\n",
    "            result = self.service.files().get(fileId=fileId, fields=','.join(fieldsProcessed)).execute()\n",
    "            return(result)\n",
    "        except gerror.HttpError as e:\n",
    "            raise GDriveError(e)\n",
    "            return(False)\n",
    "        \n",
    "\n",
    "                \n",
    "    \n",
    "    \n",
    "    def parents(self, fileId):\n",
    "        \"\"\"get a file's parents.\n",
    "\n",
    "        Args:\n",
    "            fileId: ID of the file to print parents for.\n",
    "        \n",
    "        raises gDError\n",
    "        \"\"\"\n",
    "        try:\n",
    "            parents = self.service.files().get(fileId=fileId, fields='parents').execute()\n",
    "            return(parents)\n",
    "        except gerror.HttpError as e:\n",
    "            raise GDriveError(e)\n",
    "            return(False)\n",
    "    \n",
    "    def rm(self):\n",
    "        pass"
   ]
  },
  {
   "cell_type": "code",
   "execution_count": 326,
   "metadata": {
    "collapsed": false
   },
   "outputs": [
    {
     "name": "stdout",
     "output_type": "stream",
     "text": [
      " <HttpError 404 when requesting https://www.googleapis.com/drive/v3/files/foo?fields=parents&alt=json returned \"File not found: foo.\">\n"
     ]
    }
   ],
   "source": []
  },
  {
   "cell_type": "code",
   "execution_count": 299,
   "metadata": {
    "collapsed": false,
    "deletable": true,
    "editable": true
   },
   "outputs": [],
   "source": [
    "def main():\n",
    "    \n",
    "    BASEFOLDER = '0B9WTleJ1MzaYcVB4aUxURENldHM'\n",
    "    \n",
    "    credentials = getCredentials()\n",
    "    # http = credentials.authorize(httplib2.Http())\n",
    "    service = discovery.build('drive', 'v3', credentials=credentials)\n",
    "\n",
    "\n",
    "    myDrive = gDrive(service)\n",
    "\n",
    "    # path to desktop of this user (this should work on macs)\n",
    "    desktopPath = pathify([os.path.expanduser('~')], 'Desktop')\n",
    "\n",
    "    # Fields expected in CSV file containing student data\n",
    "    # move this into a resource file? - see the folder list below\n",
    "    expected = ['ClassOf', 'LastFirst', 'Student_Number']\n",
    "\n",
    "    # map of CSV fields to elements in list\n",
    "    headerMap = {}\n",
    "\n",
    "    # list of folders to populate into each students' folder\n",
    "    if os.path.exists(desktopPath+'folders.txt'):\n",
    "        fileList = desktopPath + 'folders.txt'\n",
    "    else:\n",
    "        fileList = './folders.txt'\n",
    "\n",
    "    # list of student information\n",
    "    studentInfo = ''\n",
    "    \n",
    "\n",
    "    # list containing CSV\n",
    "    studentCSV = []\n",
    "\n",
    "    # list of folders to add under each students' path\n",
    "    folders = fileRead(fileList)\n",
    "\n",
    "    try:\n",
    "        print('input file: {}'.format(sys.argv[1]))\n",
    "        studentInfo = sys.argv[1]\n",
    "    except IndexError as e:\n",
    "        print('Error: please specify a CSV file containing student information')\n",
    "\n",
    "    if folders:\n",
    "        print('Folders to be created for each stuent: {}'.format(len(folders)))\n",
    "        print('{:>5}List of folders to be created:'.format(''))\n",
    "        for folder in folders:\n",
    "            print('{:>10}{}'.format('', folder))\n",
    "    else:\n",
    "        print('please place a file named \"folders.txt\" containing a list of folders (one on each line)on the Desktop')\n",
    "        print('exiting')\n",
    "        return(False)\n",
    "\n",
    "    # read the csv file in Universal newline mode (rU)\n",
    "    try:\n",
    "        with open(studentInfo, 'rU') as csvfile:\n",
    "            csvreader = csv.reader(csvfile)\n",
    "            for row in csvreader:\n",
    "                studentCSV.append(row)\n",
    "    except (OSError, IOError) as e:\n",
    "        print 'error reading file:', studentInfo, e\n",
    "        print 'exiting'\n",
    "        return(False)\n",
    "\n",
    "    # check if there is content in the CSV\n",
    "    if len(studentCSV) > 1:\n",
    "        print('{} student records found in {}'.format(len(studentCSV)-1, studentInfo))\n",
    "    else:\n",
    "        print 'no student records found in {}'.format(studentInfo)\n",
    "        return(False)\n",
    "\n",
    "    # check for expected headers in CSV data\n",
    "    # pop the headers from the list\n",
    "    csvHeader = studentCSV.pop(0)\n",
    "    missingHeaders = []\n",
    "    for each in expected:\n",
    "        if each not in csvHeader:\n",
    "            missingHeaders.append(each)\n",
    "\n",
    "    if len(missingHeaders) > 0:\n",
    "        print 'ERROR'\n",
    "        for each in missingHeaders:\n",
    "            print studentInfo, ' missing header: ', each\n",
    "        print 'please recreate file', studentInfo, 'with all required headers:'\n",
    "        print '     ', expected\n",
    "        print 'stopping'\n",
    "        return(False)\n",
    "\n",
    "    # map headers to their index\n",
    "    for index, value in enumerate(csvHeader):\n",
    "        headerMap[value]=index\n",
    "    \n",
    "    # process the CSV and start creating folders\n",
    "    \n",
    "    # Create a dictionary of recently used google drive (gd) folders\n",
    "    gdRecentFolders = {}\n",
    "        \n",
    "        \n",
    "    # need to learn how to raise errors and do it here\n",
    "    for index, student in enumerate(studentCSV):\n",
    "        studentClassFolder = 'ClassOf '+student[headerMap['ClassOf']]\n",
    "        # check if the folder has been recently accessed and recorded in the gdRecentFolders dict\n",
    "        if studentClassFolder in gdRecentFolders:\n",
    "            # reuse the folder information from previous access\n",
    "            gdParentFolder = gdRecentFolders[studentClassFolder]\n",
    "        # else search for the folder\n",
    "        else:\n",
    "            # search for matching folders and order from oldest to newest\n",
    "            gdFolderSearch = myDrive.search(name = studentClassFolder, parents = BASEFOLDER, \n",
    "                                           orderBy = 'createdTime', trashed = False, mimeType = 'folder')\n",
    "            \n",
    "            # if no results are returned, create a folder\n",
    "            if len(gdFolderSearch['files'])==0:\n",
    "                gdParentFolder = myDrive.add(name=studentClassFolder, mimeType = 'folder', parents=BASEFOLDER)\n",
    "            # use the oldest existing folder ignoring all others\n",
    "            else:\n",
    "                gdParentFolder = gdFolderSearch['files'][0]\n",
    "\n",
    "            # raise a red flag if there are 2 or more matching folders\n",
    "            if len(gdFolderSearch['files']) > 1:\n",
    "                print('Warning: {} folders for {} found. Consider consolidating these into one single folder.'\n",
    "                      .format(len(gdFolderSearch['files']), studentClassFolder))\n",
    "                print('Using the following folder: {}'\n",
    "                      .format(myDrive.getprops(fileId=gdParentFolder.get('id')).get('webViewLink'))) \n",
    "            \n",
    "            # record the recently used folder\n",
    "            gdRecentFolders[studentClassFolder] = gdParentFolder\n",
    "\n",
    "                \n",
    "        \n",
    "            \n",
    "    \n",
    "\n",
    "    #     for index, student in enumerate(studentCSV):\n",
    "#         # check that base folder exists, raise and error if it doesn't; get the user to specify one through \n",
    "#         # an interface that is yet to be developed\n",
    "#         if index > 0:\n",
    "#             studentClassFolder = 'ClassOf ' + student[headerMap['ClassOf']]\n",
    "#             # check for an existing \"class of folder\" \n",
    "#             if studentClassFolder in recentClassFolders:\n",
    "#                 workingFolder = recentClassFolders[studentClassFolder]\n",
    "#                 print('index: {}, recent found!'.format(index))\n",
    "#             # if not found in recent, check on gDrive for the folder\n",
    "#             else:\n",
    "#                 print('index: {}, recent not found'.format(index))\n",
    "#                 print('fetching class folder for {}'.format(studentClassFolder))\n",
    "#                 # get the oldest folder that matches ignoring all others\n",
    "#                 driveFolders = myDrive.search(name = studentClassFolder, parents = BASEFOLDER, \n",
    "#                                          orderBy='createdTime', trashed = False, mimeType = 'folder')\n",
    "#                 # post a warning if multiple folders are found and indicate where we will be working\n",
    "#                 if len(driveFolders['files']) > 1:\n",
    "#                     workingFolder = driveFolders['files'][0]\n",
    "#                     print('Warning: {} folders for {} found. Consider reorganizing these.'\n",
    "#                           .format(len(driveFolders['files']), studentClassFolder))\n",
    "#                     print('Using the following folder: {}'\n",
    "#                           .format(myDrive.getprops(fileId=workingFolder.get('id')).get('webViewLink')))\n",
    "#                 # if no existing class folders are found, create one\n",
    "#                 else:\n",
    "#                     # create the folder and add to recentClassFolders\n",
    "#                     print('{} not found; creating'.format(studentClassFolder))\n",
    "#                     workingFolder = myDrive.add(name=studentClassFolder,mimeType = 'folder', parents=BASEFOLDER)\n",
    "                \n",
    "#                 # add the folder to the recentClassFolders dict for future loops\n",
    "#                 recentClassFolders[studentClassFolder] = workingFolder\n",
    "                \n",
    "                \n",
    "                    \n"
   ]
  },
  {
   "cell_type": "code",
   "execution_count": 301,
   "metadata": {
    "collapsed": false,
    "deletable": true,
    "editable": true
   },
   "outputs": [
    {
     "name": "stdout",
     "output_type": "stream",
     "text": [
      "input file: ./student_export.text\n",
      "Folders to be created for each stuent: 5\n",
      "     List of folders to be created:\n",
      "          08-Grade\n",
      "          09-Grade\n",
      "          10-Grade\n",
      "          11-Grade\n",
      "          12-Grade\n",
      "12 student records found in ./student_export.text\n"
     ]
    }
   ],
   "source": [
    "foo = main()\n"
   ]
  },
  {
   "cell_type": "code",
   "execution_count": 277,
   "metadata": {
    "collapsed": false
   },
   "outputs": [
    {
     "data": {
      "text/plain": [
       "['ClassOf', 'Grade_Level', 'LastFirst', 'Student_Number']"
      ]
     },
     "execution_count": 277,
     "metadata": {},
     "output_type": "execute_result"
    }
   ],
   "source": [
    "foo.pop(0)"
   ]
  },
  {
   "cell_type": "code",
   "execution_count": 223,
   "metadata": {
    "collapsed": false
   },
   "outputs": [
    {
     "data": {
      "text/plain": [
       "u'https://drive.google.com/drive/folders/0B9WTleJ1MzaYc2RGUkVFSktURmc'"
      ]
     },
     "execution_count": 223,
     "metadata": {},
     "output_type": "execute_result"
    }
   ],
   "source": [
    "testDrive.getprops(fileId=\"0B9WTleJ1MzaYc2RGUkVFSktURmc\").get('webViewLink')"
   ]
  },
  {
   "cell_type": "code",
   "execution_count": 330,
   "metadata": {
    "collapsed": true
   },
   "outputs": [],
   "source": [
    "credentials = getCredentials()\n",
    "# http = credentials.authorize(httplib2.Http())\n",
    "service = discovery.build('drive', 'v3', credentials=credentials)\n",
    "\n",
    "\n",
    "testDrive = gDrive(service)\n"
   ]
  },
  {
   "cell_type": "code",
   "execution_count": 335,
   "metadata": {
    "collapsed": false
   },
   "outputs": [
    {
     "name": "stdout",
     "output_type": "stream",
     "text": [
      "Help on method search in module __main__:\n",
      "\n",
      "search(self, name=None, trashed=None, mimeType=False, fuzzy=False, date=None, dopperator='>', parents=None, orderBy='createdTime', quiet=True) method of __main__.gDrive instance\n",
      "    search for an item by name and other properties in google drive\n",
      "    \n",
      "    args:\n",
      "        name (string): item name in google drive - required\n",
      "        trashed (bool): item is not in trash - default None (not used)\n",
      "        mimeType = (string): item is one of the known mime types (gdrive.mimeTypes) - default None\n",
      "        fuzzy = (bool): substring search of names in drive\n",
      "        date = (RFC3339 date string): modification time date string (YYYY-MM-DD)\n",
      "        dopperator (date comparison opprator string): <, >, =, >=, <=  - default >\n",
      "        parents = (string): google drive file id string\n",
      "        orderBy = (comma separated string): order results assending by keys below - default createdTime:\n",
      "                    'createdTime', 'folder', 'modifiedByMeTime', \n",
      "                    'modifiedTime', 'name', 'quotaBytesUsed', \n",
      "                    'recency', 'sharedWithMeTime', 'starred', \n",
      "                    'viewedByMeTime'\n",
      "                    \n",
      "        \n",
      "    returns:\n",
      "        list of file dict\n",
      "\n"
     ]
    }
   ],
   "source": [
    "help(testDrive.search)"
   ]
  },
  {
   "cell_type": "code",
   "execution_count": 191,
   "metadata": {
    "collapsed": false
   },
   "outputs": [
    {
     "name": "stdout",
     "output_type": "stream",
     "text": [
      "Help on method addFile in module __main__:\n",
      "\n",
      "addFile(self, name=None, ftype=False, parents=None) method of __main__.gDrive instance\n",
      "    add a file to google drive:\n",
      "    \n",
      "    args:\n",
      "        name (string): human readable name\n",
      "        ftype (string): mimeType (see self.mimeTypes for a complete list)\n",
      "        parents (list): list of parent folders\n",
      "\n"
     ]
    },
    {
     "data": {
      "text/plain": [
       "{'audio': 'application/vnd.google-apps.audio',\n",
       " 'docs': 'application/vnd.google-apps.document',\n",
       " 'drawing': 'application/vnd.google-apps.drawing',\n",
       " 'file': 'application/vnd.google-apps.file',\n",
       " 'folder': 'application/vnd.google-apps.folder',\n",
       " 'forms': 'application/vnd.google-apps.form',\n",
       " 'mymaps': 'application/vnd.google-apps.map',\n",
       " 'photos': 'application/vnd.google-apps.photo',\n",
       " 'scripts': 'application/vnd.google-apps.script',\n",
       " 'sheets': 'application/vnd.google-apps.spreadsheet',\n",
       " 'sites': 'application/vnd.google-apps.sites',\n",
       " 'slides': 'application/vnd.google-apps.presentation',\n",
       " 'video': 'application/vnd.google-apps.video'}"
      ]
     },
     "execution_count": 191,
     "metadata": {},
     "output_type": "execute_result"
    }
   ],
   "source": [
    "help(testDrive.addFile)\n",
    "testDrive.mimeTypes\n",
    "\n"
   ]
  },
  {
   "cell_type": "code",
   "execution_count": 167,
   "metadata": {
    "collapsed": false
   },
   "outputs": [
    {
     "name": "stdout",
     "output_type": "stream",
     "text": [
      "An error occurred: <HttpError 404 when requesting https://www.googleapis.com/drive/v3/files/0B9WTleJ1MzaYcVB4aUxURENldHM_?fields=parents%2CmimeType%2CwebViewLink&alt=json returned \"File not found: 0B9WTleJ1MzaYcVB4aUxURENldHM_.\">\n"
     ]
    },
    {
     "data": {
      "text/plain": [
       "False"
      ]
     },
     "execution_count": 167,
     "metadata": {},
     "output_type": "execute_result"
    }
   ],
   "source": [
    "testDrive.getprops(fileId='0B9WTleJ1MzaYcVB4aUxURENldHM_')"
   ]
  },
  {
   "cell_type": "code",
   "execution_count": 96,
   "metadata": {
    "collapsed": false
   },
   "outputs": [
    {
     "data": {
      "text/plain": [
       "{u'files': [], u'incompleteSearch': False, u'kind': u'drive#fileList'}"
      ]
     },
     "execution_count": 96,
     "metadata": {},
     "output_type": "execute_result"
    }
   ],
   "source": [
    "testDrive.service.files().list(q='name = \"ClassOf 2025\" and \"0B9WTleJ1MzaYcVB4aUxURENldHM\" in parents and trashed=False', orderBy='modifiedTime').execute()\n"
   ]
  },
  {
   "cell_type": "code",
   "execution_count": 78,
   "metadata": {
    "collapsed": false
   },
   "outputs": [
    {
     "name": "stdout",
     "output_type": "stream",
     "text": [
      "name contains \"ClassOf 2025\" and \"0B9WTleJ1MzaYcVB4aUxURENldHM\" in parents\n",
      "0B9WTleJ1MzaYLWdiU1R6eFpSZkU\n"
     ]
    }
   ],
   "source": [
    "result = testDrive.search(name='ClassOf 2025', fuzzy = True, parent='0B9WTleJ1MzaYcVB4aUxURENldHM', orderBy='createdTime')\n",
    "if len(result['files']) > 0:\n",
    "    print result['files'][0].get('id')"
   ]
  },
  {
   "cell_type": "code",
   "execution_count": 117,
   "metadata": {
    "collapsed": false
   },
   "outputs": [
    {
     "ename": "HttpError",
     "evalue": "<HttpError 400 when requesting https://www.googleapis.com/drive/v3/files?q=0B9WTleJ1MzaYcVB4aUxURENldHM&alt=json returned \"Invalid Value\">",
     "output_type": "error",
     "traceback": [
      "\u001b[0;31m---------------------------------------------------------------------------\u001b[0m",
      "\u001b[0;31mHttpError\u001b[0m                                 Traceback (most recent call last)",
      "\u001b[0;32m<ipython-input-117-80ab051d2fbd>\u001b[0m in \u001b[0;36m<module>\u001b[0;34m()\u001b[0m\n\u001b[0;32m----> 1\u001b[0;31m \u001b[0mtestDrive\u001b[0m\u001b[0;34m.\u001b[0m\u001b[0mservice\u001b[0m\u001b[0;34m.\u001b[0m\u001b[0mfiles\u001b[0m\u001b[0;34m(\u001b[0m\u001b[0;34m)\u001b[0m\u001b[0;34m.\u001b[0m\u001b[0mlist\u001b[0m\u001b[0;34m(\u001b[0m\u001b[0mq\u001b[0m\u001b[0;34m=\u001b[0m\u001b[0;34m\"0B9WTleJ1MzaYcVB4aUxURENldHM\"\u001b[0m\u001b[0;34m)\u001b[0m\u001b[0;34m.\u001b[0m\u001b[0mexecute\u001b[0m\u001b[0;34m(\u001b[0m\u001b[0;34m)\u001b[0m\u001b[0;34m\u001b[0m\u001b[0m\n\u001b[0m",
      "\u001b[0;32m/Users/aaronciuffo/Virtualenvs/python2/lib/python2.7/site-packages/oauth2client/_helpers.pyc\u001b[0m in \u001b[0;36mpositional_wrapper\u001b[0;34m(*args, **kwargs)\u001b[0m\n\u001b[1;32m    131\u001b[0m                 \u001b[0;32melif\u001b[0m \u001b[0mpositional_parameters_enforcement\u001b[0m \u001b[0;34m==\u001b[0m \u001b[0mPOSITIONAL_WARNING\u001b[0m\u001b[0;34m:\u001b[0m\u001b[0;34m\u001b[0m\u001b[0m\n\u001b[1;32m    132\u001b[0m                     \u001b[0mlogger\u001b[0m\u001b[0;34m.\u001b[0m\u001b[0mwarning\u001b[0m\u001b[0;34m(\u001b[0m\u001b[0mmessage\u001b[0m\u001b[0;34m)\u001b[0m\u001b[0;34m\u001b[0m\u001b[0m\n\u001b[0;32m--> 133\u001b[0;31m             \u001b[0;32mreturn\u001b[0m \u001b[0mwrapped\u001b[0m\u001b[0;34m(\u001b[0m\u001b[0;34m*\u001b[0m\u001b[0margs\u001b[0m\u001b[0;34m,\u001b[0m \u001b[0;34m**\u001b[0m\u001b[0mkwargs\u001b[0m\u001b[0;34m)\u001b[0m\u001b[0;34m\u001b[0m\u001b[0m\n\u001b[0m\u001b[1;32m    134\u001b[0m         \u001b[0;32mreturn\u001b[0m \u001b[0mpositional_wrapper\u001b[0m\u001b[0;34m\u001b[0m\u001b[0m\n\u001b[1;32m    135\u001b[0m \u001b[0;34m\u001b[0m\u001b[0m\n",
      "\u001b[0;32m/Users/aaronciuffo/Virtualenvs/python2/lib/python2.7/site-packages/googleapiclient/http.pyc\u001b[0m in \u001b[0;36mexecute\u001b[0;34m(self, http, num_retries)\u001b[0m\n\u001b[1;32m    838\u001b[0m       \u001b[0mcallback\u001b[0m\u001b[0;34m(\u001b[0m\u001b[0mresp\u001b[0m\u001b[0;34m)\u001b[0m\u001b[0;34m\u001b[0m\u001b[0m\n\u001b[1;32m    839\u001b[0m     \u001b[0;32mif\u001b[0m \u001b[0mresp\u001b[0m\u001b[0;34m.\u001b[0m\u001b[0mstatus\u001b[0m \u001b[0;34m>=\u001b[0m \u001b[0;36m300\u001b[0m\u001b[0;34m:\u001b[0m\u001b[0;34m\u001b[0m\u001b[0m\n\u001b[0;32m--> 840\u001b[0;31m       \u001b[0;32mraise\u001b[0m \u001b[0mHttpError\u001b[0m\u001b[0;34m(\u001b[0m\u001b[0mresp\u001b[0m\u001b[0;34m,\u001b[0m \u001b[0mcontent\u001b[0m\u001b[0;34m,\u001b[0m \u001b[0muri\u001b[0m\u001b[0;34m=\u001b[0m\u001b[0mself\u001b[0m\u001b[0;34m.\u001b[0m\u001b[0muri\u001b[0m\u001b[0;34m)\u001b[0m\u001b[0;34m\u001b[0m\u001b[0m\n\u001b[0m\u001b[1;32m    841\u001b[0m     \u001b[0;32mreturn\u001b[0m \u001b[0mself\u001b[0m\u001b[0;34m.\u001b[0m\u001b[0mpostproc\u001b[0m\u001b[0;34m(\u001b[0m\u001b[0mresp\u001b[0m\u001b[0;34m,\u001b[0m \u001b[0mcontent\u001b[0m\u001b[0;34m)\u001b[0m\u001b[0;34m\u001b[0m\u001b[0m\n\u001b[1;32m    842\u001b[0m \u001b[0;34m\u001b[0m\u001b[0m\n",
      "\u001b[0;31mHttpError\u001b[0m: <HttpError 400 when requesting https://www.googleapis.com/drive/v3/files?q=0B9WTleJ1MzaYcVB4aUxURENldHM&alt=json returned \"Invalid Value\">"
     ]
    }
   ],
   "source": [
    "testDrive.service.files().list(q=\"0B9WTleJ1MzaYcVB4aUxURENldHM\").execute()"
   ]
  },
  {
   "cell_type": "code",
   "execution_count": 120,
   "metadata": {
    "collapsed": false
   },
   "outputs": [
    {
     "data": {
      "text/plain": [
       "{u'files': [{u'id': u'0B9WTleJ1MzaYRGcxdUdRbHRKMUE',\n",
       "   u'name': u'schmoo',\n",
       "   u'webViewLink': u'https://drive.google.com/drive/folders/0B9WTleJ1MzaYRGcxdUdRbHRKMUE'},\n",
       "  {u'id': u'0B9WTleJ1MzaYWGdTWjQ0V1dUejQ',\n",
       "   u'name': u'schmoo',\n",
       "   u'webViewLink': u'https://drive.google.com/a/ash.nl/file/d/0B9WTleJ1MzaYWGdTWjQ0V1dUejQ/view?usp=drivesdk'}]}"
      ]
     },
     "execution_count": 120,
     "metadata": {},
     "output_type": "execute_result"
    }
   ],
   "source": [
    "testDrive.service.files().list(fields=\"files(id, name, webViewLink)\", q=\"name contains 'schmoo'\").execute()"
   ]
  },
  {
   "cell_type": "code",
   "execution_count": 144,
   "metadata": {
    "collapsed": false
   },
   "outputs": [
    {
     "data": {
      "text/plain": [
       "{u'createdTime': u'2017-03-18T15:02:45.408Z',\n",
       " u'mimeType': u'application/vnd.google-apps.folder',\n",
       " u'parents': [u'0B9WTleJ1MzaYRTlBeHRPWGJkakE'],\n",
       " u'trashed': False,\n",
       " u'webViewLink': u'https://drive.google.com/drive/folders/0B9WTleJ1MzaYcVB4aUxURENldHM'}"
      ]
     },
     "execution_count": 144,
     "metadata": {},
     "output_type": "execute_result"
    }
   ],
   "source": [
    "testDrive.service.files().get(fileId=\"0B9WTleJ1MzaYcVB4aUxURENldHM\", fields=\"parents,mimeType,webViewLink, size, createdTime, trashed\").execute()"
   ]
  },
  {
   "cell_type": "code",
   "execution_count": 112,
   "metadata": {
    "collapsed": false
   },
   "outputs": [
    {
     "name": "stdout",
     "output_type": "stream",
     "text": [
      "{u'incompleteSearch': False, u'files': [], u'kind': u'drive#fileList'}\n"
     ]
    }
   ],
   "source": [
    "result = testDrive.search(name = \"ClassOf\", parent = \"0B9WTleJ1MzaYcVB4aUxURENldHM\", trashed = False)\n",
    "print result"
   ]
  },
  {
   "cell_type": "code",
   "execution_count": 111,
   "metadata": {
    "collapsed": false
   },
   "outputs": [
    {
     "data": {
      "text/plain": [
       "{u'files': [{u'id': u'0B9WTleJ1MzaYcVB4aUxURENldHM',\n",
       "   u'kind': u'drive#file',\n",
       "   u'mimeType': u'application/vnd.google-apps.folder',\n",
       "   u'name': u'Student Portfolios APIV3'}],\n",
       " u'incompleteSearch': False,\n",
       " u'kind': u'drive#fileList'}"
      ]
     },
     "execution_count": 111,
     "metadata": {},
     "output_type": "execute_result"
    }
   ],
   "source": [
    "testDrive.search('Portfolios APIV3', fuzzy=True, trashed = False)"
   ]
  },
  {
   "cell_type": "code",
   "execution_count": null,
   "metadata": {
    "collapsed": false
   },
   "outputs": [],
   "source": [
    "testDrive.addFile('schmoo', mimeType = 'folder')"
   ]
  },
  {
   "cell_type": "code",
   "execution_count": null,
   "metadata": {
    "collapsed": false,
    "deletable": true,
    "editable": true
   },
   "outputs": [],
   "source": [
    "service.files().get(fileId=\"0BzC-V2QIsGRGT00xSjJHNy1Td1k\", fields='parents').execute()"
   ]
  },
  {
   "cell_type": "code",
   "execution_count": null,
   "metadata": {
    "collapsed": false,
    "deletable": true,
    "editable": true
   },
   "outputs": [],
   "source": [
    "myDrive.parents('0BzC-V2QIsGRGT00xSjJHNy1Td1k')"
   ]
  },
  {
   "cell_type": "code",
   "execution_count": null,
   "metadata": {
    "collapsed": false,
    "deletable": true,
    "editable": true
   },
   "outputs": [],
   "source": [
    "myDrive.ls(name = 'schmoo', fuzzy = True, trashed = False)"
   ]
  },
  {
   "cell_type": "code",
   "execution_count": null,
   "metadata": {
    "collapsed": false,
    "deletable": true,
    "editable": true
   },
   "outputs": [],
   "source": []
  },
  {
   "cell_type": "code",
   "execution_count": null,
   "metadata": {
    "collapsed": false,
    "deletable": true,
    "editable": true
   },
   "outputs": [],
   "source": [
    "response = myDrive.search(name = 'schmoo', fuzzy = True)\n",
    "print (response)"
   ]
  },
  {
   "cell_type": "code",
   "execution_count": null,
   "metadata": {
    "collapsed": false,
    "deletable": true,
    "editable": true
   },
   "outputs": [],
   "source": [
    "myDrive.addFile('the wifes sewing', mimeType = 'folder', parents = \"0BzC-V2QIsGRGWXNxNmhjc0FITDQ\")"
   ]
  },
  {
   "cell_type": "code",
   "execution_count": null,
   "metadata": {
    "collapsed": false,
    "deletable": true,
    "editable": true
   },
   "outputs": [],
   "source": [
    "myDrive.search(name = \"more cows\")"
   ]
  },
  {
   "cell_type": "code",
   "execution_count": null,
   "metadata": {
    "collapsed": false,
    "deletable": true,
    "editable": true
   },
   "outputs": [],
   "source": [
    "discovery.mimetypes"
   ]
  }
 ],
 "metadata": {
  "kernelspec": {
   "display_name": "Python 2",
   "language": "python",
   "name": "python2"
  },
  "language_info": {
   "codemirror_mode": {
    "name": "ipython",
    "version": 2
   },
   "file_extension": ".py",
   "mimetype": "text/x-python",
   "name": "python",
   "nbconvert_exporter": "python",
   "pygments_lexer": "ipython2",
   "version": "2.7.13"
  }
 },
 "nbformat": 4,
 "nbformat_minor": 2
}
