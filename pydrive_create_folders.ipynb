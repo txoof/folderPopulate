{
 "cells": [
  {
   "cell_type": "code",
   "execution_count": 1,
   "metadata": {
    "collapsed": false,
    "deletable": true,
    "editable": true
   },
   "outputs": [],
   "source": [
    "from pydrive.auth import GoogleAuth\n",
    "from pydrive.drive import GoogleDrive\n",
    "# from pydrive.auth import InvalidConfigError\n",
    "# from pydrive.auth import AuthenticationRejected\n",
    "from pydrive.auth import *"
   ]
  },
  {
   "cell_type": "code",
   "execution_count": 2,
   "metadata": {
    "collapsed": false,
    "deletable": true,
    "editable": true
   },
   "outputs": [
    {
     "name": "stderr",
     "output_type": "stream",
     "text": [
      "/Users/aciuffo/Virtualenvs/python2/lib/python2.7/site-packages/oauth2client/_helpers.py:255: UserWarning: Cannot access mycreds.txt: No such file or directory\n",
      "  warnings.warn(_MISSING_FILE_MESSAGE.format(filename))\n"
     ]
    },
    {
     "name": "stdout",
     "output_type": "stream",
     "text": [
      "Your browser has been opened to visit:\n",
      "()\n",
      "    https://accounts.google.com/o/oauth2/auth?scope=https%3A%2F%2Fwww.googleapis.com%2Fauth%2Fdrive&redirect_uri=http%3A%2F%2Flocalhost%3A8080%2F&response_type=code&client_id=342883091721-k3u5mcdl4fm0muuhrdvu45gof51bsfq6.apps.googleusercontent.com&access_type=offline\n",
      "()\n",
      "Authentication successful.\n"
     ]
    }
   ],
   "source": [
    "gauth = GoogleAuth()\n",
    "\n",
    "gauth.LoadCredentialsFile(\"mycreds.txt\")\n",
    "if gauth.credentials is None:\n",
    "    try:\n",
    "        gauth.LocalWebserverAuth()\n",
    "    except InvalidConfigError as e:\n",
    "        print e\n",
    "    except AuthenticationRejected as e:\n",
    "        print 'You have rejected authenticating this applcation. If you would like to use it, please click \"Allow\" next time'\n",
    "elif gauth.access_token_expired:\n",
    "    gauth.Refresh()\n",
    "else:\n",
    "    gauth.Authorize()\n",
    "gauth.SaveCredentialsFile(\"mycreds.txt\")\n",
    "\n",
    "drive = GoogleDrive(gauth)\n"
   ]
  },
  {
   "cell_type": "code",
   "execution_count": 4,
   "metadata": {
    "collapsed": true,
    "deletable": true,
    "editable": true
   },
   "outputs": [],
   "source": [
    "file1_meta = {'title' : 'foo', 'mimeType':'application/vnd.google-apps.folder'}\n",
    "file1 = drive.CreateFile(file1_meta)\n",
    "file1.Upload()\n",
    "\n",
    "file2_meta = {'title' : 'bar', 'mimeType':'application/vnd.google-apps.folder', 'parents': [{'id':file1['id']}]}\n",
    "file2 = drive.CreateFile(file2_meta)\n",
    "file2.Upload()\n"
   ]
  },
  {
   "cell_type": "code",
   "execution_count": 21,
   "metadata": {
    "collapsed": false
   },
   "outputs": [],
   "source": [
    "# this will search for a particular folder\n",
    "file_list = drive.ListFile({'q': \"title = 'xyzpdq' and trashed != true and mimeType = 'application/vnd.google-apps.folder'\"} ).GetList()\n",
    "\n",
    "for each in file_list:\n",
    "    print('title: %s, id: %s' % (each['title'], each['id']))"
   ]
  },
  {
   "cell_type": "code",
   "execution_count": 29,
   "metadata": {
    "collapsed": false
   },
   "outputs": [],
   "source": [
    "if file_list:\n",
    "    print 'woot'"
   ]
  },
  {
   "cell_type": "code",
   "execution_count": null,
   "metadata": {
    "collapsed": false,
    "deletable": true,
    "editable": true
   },
   "outputs": [],
   "source": [
    "print file1.uploaded\n",
    "# print file1[\"id\"]\n",
    "# print file1['alternateLink']\n",
    "print file1.attr"
   ]
  },
  {
   "cell_type": "code",
   "execution_count": null,
   "metadata": {
    "collapsed": false,
    "deletable": true,
    "editable": true
   },
   "outputs": [],
   "source": [
    "print file2['alternateLink']\n",
    "print file2['parents']"
   ]
  }
 ],
 "metadata": {
  "kernelspec": {
   "display_name": "Python 2",
   "language": "python",
   "name": "python2"
  },
  "language_info": {
   "codemirror_mode": {
    "name": "ipython",
    "version": 2
   },
   "file_extension": ".py",
   "mimetype": "text/x-python",
   "name": "python",
   "nbconvert_exporter": "python",
   "pygments_lexer": "ipython2",
   "version": "2.7.13"
  }
 },
 "nbformat": 4,
 "nbformat_minor": 2
}
