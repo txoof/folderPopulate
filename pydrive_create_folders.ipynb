{
 "cells": [
  {
   "cell_type": "code",
   "execution_count": 7,
   "metadata": {
    "collapsed": false
   },
   "outputs": [],
   "source": [
    "from pydrive.auth import GoogleAuth\n",
    "from pydrive.drive import GoogleDrive\n",
    "# from pydrive.auth import InvalidConfigError\n",
    "# from pydrive.auth import AuthenticationRejected\n",
    "from pydrive.auth import *"
   ]
  },
  {
   "cell_type": "code",
   "execution_count": 48,
   "metadata": {
    "collapsed": false
   },
   "outputs": [],
   "source": [
    "gauth = GoogleAuth()\n",
    "\n",
    "\n",
    "gauth.LoadCredentialsFile(\"mycreds.txt\")\n",
    "if gauth.credentials is None:\n",
    "    try:\n",
    "        gauth.LocalWebserverAuth()\n",
    "    except InvalidConfigError as e:\n",
    "        print e\n",
    "    except AuthenticationRejected as e:\n",
    "        print 'You have rejected authenticating this applcation. If you would like to use it, please click \"Allow\" next time'\n",
    "elif gauth.access_token_expired:\n",
    "    gauth.Refresh()\n",
    "else:\n",
    "    gauth.Authorize()\n",
    "gauth.SaveCredentialsFile(\"mycreds.txt\")\n",
    "\n",
    "drive = GoogleDrive(gauth)\n"
   ]
  },
  {
   "cell_type": "code",
   "execution_count": 36,
   "metadata": {
    "collapsed": false
   },
   "outputs": [
    {
     "name": "stdout",
     "output_type": "stream",
     "text": [
      "Help on method ServiceAuth in module pydrive.auth:\n",
      "\n",
      "ServiceAuth(self, *args, **kwargs) method of pydrive.auth.GoogleAuth instance\n",
      "    Authenticate and authorize using P12 private key, client id\n",
      "    and client email for a Service account.\n",
      "    :raises: AuthError, InvalidConfigError\n",
      "\n"
     ]
    }
   ],
   "source": [
    "help(gauth.ServiceAuth)"
   ]
  },
  {
   "cell_type": "code",
   "execution_count": null,
   "metadata": {
    "collapsed": true
   },
   "outputs": [],
   "source": [
    "file1_meta = {'title' : 'foo', 'mimeType':'application/vnd.google-apps.folder'}\n",
    "file1 = drive.CreateFile(file1_meta)\n",
    "file1.Upload()\n",
    "\n",
    "file2_meta = {'title' : 'bar', 'mimeType':'application/vnd.google-apps.folder', 'parents': [{'id':file1['id']}]}\n",
    "file2 = drive.CreateFile(file2_meta)\n",
    "file2.Upload()\n"
   ]
  },
  {
   "cell_type": "code",
   "execution_count": null,
   "metadata": {
    "collapsed": false
   },
   "outputs": [],
   "source": [
    "print file1.uploaded\n",
    "# print file1[\"id\"]\n",
    "# print file1['alternateLink']\n",
    "print file1.attr"
   ]
  },
  {
   "cell_type": "code",
   "execution_count": null,
   "metadata": {
    "collapsed": false
   },
   "outputs": [],
   "source": [
    "print file2['alternateLink']\n",
    "print file2['parents']"
   ]
  }
 ],
 "metadata": {
  "kernelspec": {
   "display_name": "Python 2",
   "language": "python",
   "name": "python2"
  }
 },
 "nbformat": 4,
 "nbformat_minor": 2
}
