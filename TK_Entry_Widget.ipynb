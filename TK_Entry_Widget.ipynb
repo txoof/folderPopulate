{
 "cells": [
  {
   "cell_type": "code",
   "execution_count": 11,
   "metadata": {
    "collapsed": false
   },
   "outputs": [],
   "source": [
    "from Tkinter import *\n",
    "\n",
    "def show_entry_fields():\n",
    "    print(\"First Name: %s\\nLast Name: %s\" % (e1.get(), e2.get()))\n",
    "\n",
    "def quit():\n",
    "    print('destroying')\n",
    "    master.destroy\n",
    "\n",
    "master = Tk()\n",
    "Label(master, text=\"First Name\").grid(row=0)\n",
    "Label(master, text=\"Last Name\").grid(row=1)\n",
    "\n",
    "e1 = Entry(master)\n",
    "e2 = Entry(master)\n",
    "\n",
    "e1.grid(row=0, column=1)\n",
    "e2.grid(row=1, column=1)\n",
    "\n",
    "Button(master, text='Quit', command=master.destroy).grid(row=3, column=0, sticky=W, pady=4)\n",
    "Button(master, text='Submit', command=show_entry_fields).grid(row=3, column=1, sticky=W, pady=4)\n",
    "\n",
    "mainloop( )"
   ]
  },
  {
   "cell_type": "code",
   "execution_count": 1,
   "metadata": {
    "collapsed": false
   },
   "outputs": [],
   "source": [
    "from Tkinter import *\n",
    "fields = 'Last Name', 'First Name', 'Job', 'Country'\n",
    "\n",
    "def fetch(entries):\n",
    "   for entry in entries:\n",
    "      field = entry[0]\n",
    "      text  = entry[1].get()\n",
    "      print('%s: \"%s\"' % (field, text)) \n",
    "\n",
    "def makeform(root, fields):\n",
    "   entries = []\n",
    "   for field in fields:\n",
    "      row = Frame(root)\n",
    "      lab = Label(row, width=15, text=field, anchor='w')\n",
    "      ent = Entry(row)\n",
    "      row.pack(side=TOP, fill=X, padx=5, pady=5)\n",
    "      lab.pack(side=LEFT)\n",
    "      ent.pack(side=RIGHT, expand=YES, fill=X)\n",
    "      entries.append((field, ent))\n",
    "   return entries\n",
    "\n",
    "if __name__ == '__main__':\n",
    "   root = Tk()\n",
    "   ents = makeform(root, fields)\n",
    "   root.bind('<Return>', (lambda event, e=ents: fetch(e)))   \n",
    "   b1 = Button(root, text='Show',\n",
    "          command=(lambda e=ents: fetch(e)))\n",
    "   b1.pack(side=LEFT, padx=5, pady=5)\n",
    "   b2 = Button(root, text='Quit', command=root.destroy)\n",
    "   b2.pack(side=LEFT, padx=5, pady=5)\n",
    "   root.mainloop()"
   ]
  },
  {
   "cell_type": "code",
   "execution_count": 2,
   "metadata": {
    "collapsed": false
   },
   "outputs": [
    {
     "name": "stdout",
     "output_type": "stream",
     "text": [
      "/Users/aaronciuffo/src/live_HSV_testing.ipynb\n"
     ]
    }
   ],
   "source": [
    "from Tkinter import Tk\n",
    "from tkFileDialog import askopenfilename\n",
    "\n",
    "\n",
    "Tk().withdraw() # we don't want a full GUI, so keep the root window from appearing\n",
    "filename = askopenfilename() # show an \"Open\" dialog box and return the path to the selected file\n",
    "print(filename)"
   ]
  },
  {
   "cell_type": "code",
   "execution_count": 2,
   "metadata": {
    "collapsed": false
   },
   "outputs": [],
   "source": []
  },
  {
   "cell_type": "code",
   "execution_count": null,
   "metadata": {
    "collapsed": true
   },
   "outputs": [],
   "source": []
  }
 ],
 "metadata": {
  "kernelspec": {
   "display_name": "Python 2",
   "language": "python",
   "name": "python2"
  },
  "language_info": {
   "codemirror_mode": {
    "name": "ipython",
    "version": 2
   },
   "file_extension": ".py",
   "mimetype": "text/x-python",
   "name": "python",
   "nbconvert_exporter": "python",
   "pygments_lexer": "ipython2",
   "version": "2.7.13"
  }
 },
 "nbformat": 4,
 "nbformat_minor": 2
}
