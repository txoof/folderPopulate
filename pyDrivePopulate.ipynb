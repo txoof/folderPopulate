{
 "cells": [
  {
   "cell_type": "code",
   "execution_count": 1,
   "metadata": {
    "collapsed": false,
    "deletable": true,
    "editable": true
   },
   "outputs": [],
   "source": [
    "from pydrive.auth import *\n",
    "from pydrive.drive import GoogleDrive\n",
    "import csv\n",
    "import os\n",
    "import re\n",
    "import unicodedata\n",
    "from datetime import datetime"
   ]
  },
  {
   "cell_type": "code",
   "execution_count": 2,
   "metadata": {
    "collapsed": false,
    "deletable": true,
    "editable": true
   },
   "outputs": [],
   "source": [
    "from googleapiclient.errors import *\n",
    "from googleapiclient import "
   ]
  },
  {
   "cell_type": "code",
   "execution_count": 3,
   "metadata": {
    "collapsed": true,
    "deletable": true,
    "editable": true
   },
   "outputs": [],
   "source": [
    "def strip_accents(s):\n",
    "    '''\n",
    "    convert all characters to closest unicode cousin\n",
    "    '''\n",
    "    s = unicode(s, \"utf-8\")\n",
    "    return ''.join(c for c in unicodedata.normalize('NFD', s)\n",
    "        if unicodedata.category(c) != 'Mn')\n"
   ]
  },
  {
   "cell_type": "code",
   "execution_count": 4,
   "metadata": {
    "collapsed": true,
    "deletable": true,
    "editable": true
   },
   "outputs": [],
   "source": [
    "def get_valid_filename(s):\n",
    "    \"\"\"\n",
    "    Return the given string converted to a string that can be used for a clean\n",
    "    filename. Remove leading and trailing spaces\n",
    "    \"\"\"\n",
    "    s = s.strip()\n",
    "    s = strip_accents(s)\n",
    "    return re.sub(r'(?u)[^-\\w., ]', '', s)"
   ]
  },
  {
   "cell_type": "code",
   "execution_count": 15,
   "metadata": {
    "collapsed": false,
    "deletable": true,
    "editable": true
   },
   "outputs": [],
   "source": [
    "class gDrive(GoogleDrive):\n",
    "\n",
    "    def __init__(self, *args, **kwargs):\n",
    "        super(gDrive, self).__init__(*args, **kwargs)\n",
    "        self.folderMime = 'application/vnd.google-apps.folder'\n",
    "     \n",
    "    def searchdir(self, folder = None, trash = False, parent = 'root'):\n",
    "        query = \"title = '%s' and trashed = %s and mimeType = '%s' and '%s' in parents\" % (folder, trash, self.folderMime, parent)\n",
    "        try:\n",
    "            return(self.ListFile({'q':query}).GetList())\n",
    "        except HttpError as e:\n",
    "            print e\n",
    "            return(False)\n",
    "        \n",
    "    def mkdir(self, folder = None, parent = 'root'):\n",
    "        if folder is None:\n",
    "            folder = 'TEST FOLDER'+datetime.now().strftime(\"%Y-%m-%d %H:%M:%S\")\n",
    "        folder_meta = {'title':folder,\n",
    "                 'mimeType':self.folderMime,\n",
    "                 'parents':[{'id':parent}]}\n",
    "    \n",
    "        folder = drive.CreateFile(folder_meta)\n",
    "    \n",
    "        try:\n",
    "            folder.Upload()\n",
    "        except Exception as e:\n",
    "            print e\n",
    "        return(folder)\n"
   ]
  },
  {
   "cell_type": "code",
   "execution_count": 27,
   "metadata": {
    "collapsed": false,
    "deletable": true,
    "editable": true
   },
   "outputs": [],
   "source": [
    "# Check credential status; update if needed\n",
    "gauth = GoogleAuth()\n",
    "\n",
    "gauth.LoadCredentialsFile(\"mycreds.txt\")\n",
    "if gauth.credentials is None:\n",
    "    try:\n",
    "        gauth.LocalWebserverAuth()\n",
    "    except InvalidConfigError as e:\n",
    "        print e\n",
    "    except AuthenticationRejected as e:\n",
    "        print 'You have rejected authenticating this applcation. If you would like to use it, please click \"Allow\" next time'\n",
    "elif gauth.access_token_expired:\n",
    "    pass\n",
    "    #     gauth.Refresh()\n",
    "else:\n",
    "    gauth.Authorize()\n",
    "gauth.SaveCredentialsFile(\"mycreds.txt\")\n",
    "\n",
    "# init google drive module\n",
    "# drive = GoogleDrive(gauth)\n",
    "drive = gDrive(gauth)"
   ]
  },
  {
   "cell_type": "code",
   "execution_count": 33,
   "metadata": {
    "collapsed": true
   },
   "outputs": [],
   "source": [
    "#working directory\n",
    "workingdir = '0BzC-V2QIsGRGSXNfa09lQXdyYXM'"
   ]
  },
  {
   "cell_type": "code",
   "execution_count": 35,
   "metadata": {
    "collapsed": false
   },
   "outputs": [
    {
     "data": {
      "text/plain": [
       "[GoogleDriveFile({u'mimeType': u'application/vnd.google-apps.folder', u'version': u'758931', u'appDataContents': False, u'labels': {u'restricted': False, u'starred': False, u'viewed': True, u'hidden': False, u'trashed': False}, u'explicitlyTrashed': False, u'etag': u'\"bcIyJ9A3gXa8oTYmz6nzAjQd-lY/MTQ4OTY5NDEzODM5NQ\"', u'lastModifyingUserName': u'Aaron Ciuffo', u'writersCanShare': True, u'owners': [{u'picture': {u'url': u'https://lh3.googleusercontent.com/-GiqxZba7RAw/AAAAAAAAAAI/AAAAAAAAB_U/KFbBK6v-MVE/s64/photo.jpg'}, u'kind': u'drive#user', u'displayName': u'Aaron Ciuffo', u'permissionId': u'02479540981512330551', u'isAuthenticatedUser': True, u'emailAddress': u'aaron.ciuffo@gmail.com'}], u'id': u'0BzC-V2QIsGRGSXNfa09lQXdyYXM', u'lastModifyingUser': {u'picture': {u'url': u'https://lh3.googleusercontent.com/-GiqxZba7RAw/AAAAAAAAAAI/AAAAAAAAB_U/KFbBK6v-MVE/s64/photo.jpg'}, u'kind': u'drive#user', u'displayName': u'Aaron Ciuffo', u'permissionId': u'02479540981512330551', u'isAuthenticatedUser': True, u'emailAddress': u'aaron.ciuffo@gmail.com'}, u'copyable': False, u'ownerNames': [u'Aaron Ciuffo'], u'capabilities': {u'canCopy': False, u'canEdit': True}, u'lastViewedByMeDate': u'2017-03-16T19:54:10.694Z', u'parents': [{u'isRoot': True, u'kind': u'drive#parentReference', u'id': u'0ADC-V2QIsGRGUk9PVA', u'selfLink': u'https://www.googleapis.com/drive/v2/files/0BzC-V2QIsGRGSXNfa09lQXdyYXM/parents/0ADC-V2QIsGRGUk9PVA', u'parentLink': u'https://www.googleapis.com/drive/v2/files/0ADC-V2QIsGRGUk9PVA'}], u'shared': True, u'editable': True, u'markedViewedByMeDate': u'1970-01-01T00:00:00.000Z', u'embedLink': u'https://drive.google.com/embeddedfolderview?id=0BzC-V2QIsGRGSXNfa09lQXdyYXM', u'createdDate': u'2017-03-16T19:54:10.694Z', u'iconLink': u'https://ssl.gstatic.com/docs/doclist/images/icon_11_shared_collection_list_1.png', u'kind': u'drive#file', u'alternateLink': u'https://drive.google.com/drive/folders/0BzC-V2QIsGRGSXNfa09lQXdyYXM', u'title': u'pyDriveWorking', u'modifiedByMeDate': u'2017-03-16T19:54:10.694Z', u'userPermission': {u'kind': u'drive#permission', u'etag': u'\"bcIyJ9A3gXa8oTYmz6nzAjQd-lY/C-JP3XC_hBKfILyPkEWE4ZoVNzU\"', u'role': u'owner', u'type': u'user', u'id': u'me', u'selfLink': u'https://www.googleapis.com/drive/v2/files/0BzC-V2QIsGRGSXNfa09lQXdyYXM/permissions/me'}, u'spaces': [u'drive'], u'quotaBytesUsed': u'0', u'selfLink': u'https://www.googleapis.com/drive/v2/files/0BzC-V2QIsGRGSXNfa09lQXdyYXM', u'modifiedDate': u'2017-03-16T19:55:38.395Z'})]"
      ]
     },
     "execution_count": 35,
     "metadata": {},
     "output_type": "execute_result"
    }
   ],
   "source": [
    "drive.searchdir('pyDriveWorking')"
   ]
  },
  {
   "cell_type": "code",
   "execution_count": 32,
   "metadata": {
    "collapsed": false
   },
   "outputs": [
    {
     "name": "stdout",
     "output_type": "stream",
     "text": [
      "GoogleDriveFileList({'q': 'id = \"0BzC-V2QIsGRGSXNfa09lQXdyYXM\"'})\n"
     ]
    }
   ],
   "source": [
    "print drive.ListFile({'q' : 'id = \"0BzC-V2QIsGRGSXNfa09lQXdyYXM\"'})"
   ]
  }
 ],
 "metadata": {
  "kernelspec": {
   "display_name": "Python 2",
   "language": "python",
   "name": "python2"
  },
  "language_info": {
   "codemirror_mode": {
    "name": "ipython",
    "version": 2
   },
   "file_extension": ".py",
   "mimetype": "text/x-python",
   "name": "python",
   "nbconvert_exporter": "python",
   "pygments_lexer": "ipython2",
   "version": "2.7.13"
  }
 },
 "nbformat": 4,
 "nbformat_minor": 2
}
