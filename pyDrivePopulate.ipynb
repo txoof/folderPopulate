{
 "cells": [
  {
   "cell_type": "code",
   "execution_count": 1,
   "metadata": {
    "collapsed": false,
    "deletable": true,
    "editable": true
   },
   "outputs": [],
   "source": [
    "from pydrive.auth import *\n",
    "from pydrive.drive import GoogleDrive\n",
    "import csv\n",
    "import os\n",
    "import re\n",
    "import unicodedata\n",
    "from datetime import datetime"
   ]
  },
  {
   "cell_type": "code",
   "execution_count": 2,
   "metadata": {
    "collapsed": false,
    "deletable": true,
    "editable": true
   },
   "outputs": [],
   "source": [
    "from googleapiclient.errors import *"
   ]
  },
  {
   "cell_type": "code",
   "execution_count": 3,
   "metadata": {
    "collapsed": true,
    "deletable": true,
    "editable": true
   },
   "outputs": [],
   "source": [
    "def strip_accents(s):\n",
    "    '''\n",
    "    convert all characters to closest unicode cousin\n",
    "    '''\n",
    "    s = unicode(s, \"utf-8\")\n",
    "    return ''.join(c for c in unicodedata.normalize('NFD', s)\n",
    "        if unicodedata.category(c) != 'Mn')\n"
   ]
  },
  {
   "cell_type": "code",
   "execution_count": 4,
   "metadata": {
    "collapsed": true,
    "deletable": true,
    "editable": true
   },
   "outputs": [],
   "source": [
    "def get_valid_filename(s):\n",
    "    \"\"\"\n",
    "    Return the given string converted to a string that can be used for a clean\n",
    "    filename. Remove leading and trailing spaces\n",
    "    \"\"\"\n",
    "    s = s.strip()\n",
    "    s = strip_accents(s)\n",
    "    return re.sub(r'(?u)[^-\\w., ]', '', s)"
   ]
  },
  {
   "cell_type": "code",
   "execution_count": 8,
   "metadata": {
    "collapsed": false,
    "deletable": true,
    "editable": true
   },
   "outputs": [],
   "source": [
    "class gDrive(GoogleDrive):\n",
    "\n",
    "    def __init__(self, *args, **kwargs):\n",
    "        super(gDrive, self).__init__(*args, **kwargs)\n",
    "        self.folderMime = 'application/vnd.google-apps.folder'\n",
    "     \n",
    "    def searchdir(self, folder = None, trash = False, parent = 'root'):\n",
    "        query = \"title = '%s' and trashed = %s and mimeType = '%s' and '%s' in parents\" % (folder, trash, self.folderMime, parent)\n",
    "        try:\n",
    "            return(self.ListFile({'q':query}).GetList())\n",
    "        except HttpError as e:\n",
    "            print e\n",
    "            return(False)\n",
    "        \n",
    "    def mkdir(self, folder = None, parent = 'root'):\n",
    "        if directory is None:\n",
    "            directory = 'TEST FOLDER'+datetime.now().strftime(\"%Y-%m-%d %H:%M:%S\")\n",
    "        folder_meta = {'title':directory,\n",
    "                 'mimeType':self.folderMime,\n",
    "                 'parents':[{'id':parent}]}\n",
    "    \n",
    "        folder = drive.CreateFile(folder_meta)\n",
    "    \n",
    "        try:\n",
    "            folder.Upload()\n",
    "        except Exception as e:\n",
    "            print e\n",
    "        return(folder)\n"
   ]
  },
  {
   "cell_type": "code",
   "execution_count": 17,
   "metadata": {
    "collapsed": false,
    "deletable": true,
    "editable": true
   },
   "outputs": [
    {
     "name": "stderr",
     "output_type": "stream",
     "text": [
      "WARNING:googleapiclient.discovery_cache:file_cache is unavailable when using oauth2client >= 4.0.0\n",
      "Traceback (most recent call last):\n",
      "  File \"/Users/aciuffo/Virtualenvs/python2/lib/python2.7/site-packages/googleapiclient/discovery_cache/__init__.py\", line 41, in autodetect\n",
      "    from . import file_cache\n",
      "  File \"/Users/aciuffo/Virtualenvs/python2/lib/python2.7/site-packages/googleapiclient/discovery_cache/file_cache.py\", line 41, in <module>\n",
      "    'file_cache is unavailable when using oauth2client >= 4.0.0')\n",
      "ImportError: file_cache is unavailable when using oauth2client >= 4.0.0\n"
     ]
    }
   ],
   "source": [
    "# Check credential status; update if needed\n",
    "gauth = GoogleAuth()\n",
    "\n",
    "gauth.LoadCredentialsFile(\"mycreds.txt\")\n",
    "if gauth.credentials is None:\n",
    "    try:\n",
    "        gauth.LocalWebserverAuth()\n",
    "    except InvalidConfigError as e:\n",
    "        print e\n",
    "    except AuthenticationRejected as e:\n",
    "        print 'You have rejected authenticating this applcation. If you would like to use it, please click \"Allow\" next time'\n",
    "elif gauth.access_token_expired:\n",
    "    pass\n",
    "    #     gauth.Refresh()\n",
    "else:\n",
    "    gauth.Authorize()\n",
    "gauth.SaveCredentialsFile(\"mycreds.txt\")\n",
    "\n",
    "# init google drive module\n",
    "# drive = GoogleDrive(gauth)\n",
    "drive = gDrive(gauth)"
   ]
  },
  {
   "cell_type": "code",
   "execution_count": 20,
   "metadata": {
    "collapsed": false,
    "deletable": true,
    "editable": true
   },
   "outputs": [
    {
     "data": {
      "text/plain": [
       "[GoogleDriveFile({u'mimeType': u'application/vnd.google-apps.folder', u'version': u'262207', u'appDataContents': False, u'labels': {u'restricted': False, u'starred': False, u'viewed': True, u'hidden': False, u'trashed': False}, u'explicitlyTrashed': False, u'etag': u'\"bcIyJ9A3gXa8oTYmz6nzAjQd-lY/MTQ4OTY4NDQ5NDczOA\"', u'lastModifyingUserName': u'Aaron Ciuffo', u'writersCanShare': True, u'owners': [{u'picture': {u'url': u'https://lh3.googleusercontent.com/-h73ELuq3EPc/AAAAAAAAAAI/AAAAAAAAABg/USQhYvMjp5k/s64/photo.jpg'}, u'kind': u'drive#user', u'displayName': u'Aaron Ciuffo', u'permissionId': u'14867985035974787748', u'isAuthenticatedUser': True, u'emailAddress': u'aciuffo@ash.nl'}], u'id': u'0B9WTleJ1MzaYZWhkc1V3eWR2Z3M', u'lastModifyingUser': {u'picture': {u'url': u'https://lh3.googleusercontent.com/-h73ELuq3EPc/AAAAAAAAAAI/AAAAAAAAABg/USQhYvMjp5k/s64/photo.jpg'}, u'kind': u'drive#user', u'displayName': u'Aaron Ciuffo', u'permissionId': u'14867985035974787748', u'isAuthenticatedUser': True, u'emailAddress': u'aciuffo@ash.nl'}, u'copyable': False, u'ownerNames': [u'Aaron Ciuffo'], u'capabilities': {u'canCopy': False, u'canEdit': True}, u'lastViewedByMeDate': u'2017-03-16T17:14:54.738Z', u'parents': [{u'isRoot': True, u'kind': u'drive#parentReference', u'id': u'0ANWTleJ1MzaYUk9PVA', u'selfLink': u'https://www.googleapis.com/drive/v2/files/0B9WTleJ1MzaYZWhkc1V3eWR2Z3M/parents/0ANWTleJ1MzaYUk9PVA', u'parentLink': u'https://www.googleapis.com/drive/v2/files/0ANWTleJ1MzaYUk9PVA'}], u'shared': False, u'editable': True, u'markedViewedByMeDate': u'1970-01-01T00:00:00.000Z', u'embedLink': u'https://drive.google.com/embeddedfolderview?id=0B9WTleJ1MzaYZWhkc1V3eWR2Z3M', u'createdDate': u'2017-03-16T17:14:54.738Z', u'iconLink': u'https://ssl.gstatic.com/docs/doclist/images/icon_11_collection_list_1.png', u'kind': u'drive#file', u'alternateLink': u'https://drive.google.com/drive/folders/0B9WTleJ1MzaYZWhkc1V3eWR2Z3M', u'title': u'more cows', u'modifiedByMeDate': u'2017-03-16T17:14:54.738Z', u'userPermission': {u'kind': u'drive#permission', u'etag': u'\"bcIyJ9A3gXa8oTYmz6nzAjQd-lY/FHZ43g93c3rKoyigPRjHRjpfI3g\"', u'role': u'owner', u'type': u'user', u'id': u'me', u'selfLink': u'https://www.googleapis.com/drive/v2/files/0B9WTleJ1MzaYZWhkc1V3eWR2Z3M/permissions/me'}, u'spaces': [u'drive'], u'quotaBytesUsed': u'0', u'selfLink': u'https://www.googleapis.com/drive/v2/files/0B9WTleJ1MzaYZWhkc1V3eWR2Z3M', u'modifiedDate': u'2017-03-16T17:14:54.738Z'})]"
      ]
     },
     "execution_count": 20,
     "metadata": {},
     "output_type": "execute_result"
    }
   ],
   "source": [
    "drive.searchdir('more cows')"
   ]
  }
 ],
 "metadata": {
  "kernelspec": {
   "display_name": "Python 2",
   "language": "python",
   "name": "python2"
  },
  "language_info": {
   "codemirror_mode": {
    "name": "ipython",
    "version": 2
   },
   "file_extension": ".py",
   "mimetype": "text/x-python",
   "name": "python",
   "nbconvert_exporter": "python",
   "pygments_lexer": "ipython2",
   "version": "2.7.13"
  }
 },
 "nbformat": 4,
 "nbformat_minor": 2
}
