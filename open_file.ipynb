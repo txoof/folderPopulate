{
 "cells": [
  {
   "cell_type": "code",
   "execution_count": 3,
   "metadata": {
    "collapsed": false,
    "deletable": true,
    "editable": true
   },
   "outputs": [],
   "source": [
    "from __future__ import print_function\n",
    "import httplib2\n",
    "import os\n",
    "import sys\n",
    "\n",
    "\n",
    "from apiclient import discovery\n",
    "from oauth2client import client\n",
    "from oauth2client import tools\n",
    "from oauth2client.file import Storage\n",
    "\n",
    "# import argparse\n",
    "flags = False\n",
    "# try:\n",
    "#     import argparse\n",
    "#     flags = argparse.ArgumentParser(parents=[tools.argparser]).parse_args()\n",
    "# except ImportError:\n",
    "#     flags = None\n",
    "\n",
    "# If modifying these scopes, delete your previously saved credentials\n",
    "# at ~/.credentials/drive-python-quickstart.json\n",
    "SCOPES = 'https://www.googleapis.com/auth/drive.metadata.readonly'\n",
    "CLIENT_SECRET_FILE = 'client_secret.json'\n",
    "APPLICATION_NAME = 'Drive API Python Quickstart'\n",
    "\n",
    "def get_credentials():\n",
    "    \"\"\"Gets valid user credentials from storage.\n",
    "\n",
    "    If nothing has been stored, or if the stored credentials are invalid,\n",
    "    the OAuth2 flow is completed to obtain the new credentials.\n",
    "\n",
    "    Returns:\n",
    "        Credentials, the obtained credential.\n",
    "    \"\"\"\n",
    "    home_dir = os.path.expanduser('~')\n",
    "    credential_dir = os.path.join(home_dir, '.credentials')\n",
    "    if not os.path.exists(credential_dir):\n",
    "        os.makedirs(credential_dir)\n",
    "    credential_path = os.path.join(credential_dir,\n",
    "                                   'drive-python-quickstart.json')\n",
    "\n",
    "    store = Storage(credential_path)\n",
    "    credentials = store.get()\n",
    "    if not credentials or credentials.invalid:\n",
    "        flow = client.flow_from_clientsecrets(CLIENT_SECRET_FILE, SCOPES)\n",
    "        flow.user_agent = APPLICATION_NAME\n",
    "        if flags:\n",
    "            credentials = tools.run_flow(flow, store, flags)\n",
    "        else: # Needed only for compatibility with Python 2.6\n",
    "            credentials = tools.run_flow(flow, store)\n",
    "        print('Storing credentials to ' + credential_path)\n",
    "    return credentials\n",
    "\n",
    "def google_main():\n",
    "    \"\"\"Shows basic usage of the Google Drive API.\n",
    "\n",
    "    Creates a Google Drive API service object and outputs the names and IDs\n",
    "    for up to 10 files.\n",
    "    \"\"\"\n",
    "    credentials = get_credentials()\n",
    "    http = credentials.authorize(httplib2.Http())\n",
    "    service = discovery.build('drive', 'v3', http=http)\n",
    "\n",
    "    results = service.files().list(\n",
    "        pageSize=10,fields=\"nextPageToken, files(id, name)\").execute()\n",
    "    items = results.get('files', [])\n",
    "    if not items:\n",
    "        print('No files found.')\n",
    "    else:\n",
    "        print('Files:')\n",
    "        for item in items:\n",
    "            print('{0} ({1})'.format(item['name'], item['id']))\n",
    "\n"
   ]
  },
  {
   "cell_type": "code",
   "execution_count": 14,
   "metadata": {
    "collapsed": false,
    "deletable": true,
    "editable": true
   },
   "outputs": [
    {
     "name": "stdout",
     "output_type": "stream",
     "text": [
      "['/Users/aaronciuffo/Virtualenvs/python2/lib/python2.7/site-packages/ipykernel/__main__.py']\n"
     ]
    }
   ],
   "source": [
    "print(sys.argv)"
   ]
  },
  {
   "cell_type": "code",
   "execution_count": 13,
   "metadata": {
    "collapsed": false,
    "deletable": true,
    "editable": true
   },
   "outputs": [
    {
     "data": {
      "text/plain": [
       "'-f'"
      ]
     },
     "execution_count": 13,
     "metadata": {},
     "output_type": "execute_result"
    }
   ],
   "source": [
    "sys.argv.pop()\n"
   ]
  },
  {
   "cell_type": "code",
   "execution_count": 37,
   "metadata": {
    "collapsed": false,
    "deletable": true,
    "editable": true
   },
   "outputs": [
    {
     "name": "stdout",
     "output_type": "stream",
     "text": [
      "\n",
      "Your browser has been opened to visit:\n",
      "\n",
      "    https://accounts.google.com/o/oauth2/auth?scope=https%3A%2F%2Fwww.googleapis.com%2Fauth%2Fdrive.metadata.readonly&redirect_uri=http%3A%2F%2Flocalhost%3A8080%2F&response_type=code&client_id=317196647435-q3ptrltrtp7lcejhk78tlt621t18g4m6.apps.googleusercontent.com&access_type=offline\n",
      "\n",
      "If your browser is on a different machine then exit and re-run this\n",
      "application with the command-line parameter\n",
      "\n",
      "  --noauth_local_webserver\n",
      "\n",
      "Authentication successful.\n",
      "Storing credentials to /Users/aaronciuffo/.credentials/drive-python-quickstart.json\n",
      "Files:\n",
      "VID_20170312_162605.mp4 (1BzVq_TjAstROlxSc3teS0g4oxbKkWZQgbA)\n",
      "VID_20170312_163525.mp4 (10Y-IQssK4_jniL61RLib7urK7sDZtzduew)\n",
      "VID_20170312_161759.mp4 (1orDKytBwOn2ENWrZq9fPE2gSeUxInepjrw)\n",
      "VID_20170312_161727.mp4 (15MNX5AGFNm8zonutvVh52S_AvaBhFbFNDQ)\n",
      "IMG_20170312_161657.jpg (1VMq-p4NFOL3UT6hsm42EDGaGnrddpXmVBQ)\n",
      "IMG_20170312_161655.jpg (1Z2re-Dodot7FBOeipVlNaYy3YO0N8w0zrQ)\n",
      "AvE Dictionary (1-_b2m8brkZ3SftLiqO-O-noAJATZixfMfxmTT_kjoEw)\n",
      "IMG_20170312_093400.jpg (1RWlvYS1euUW981D1Nlv-qxnL60PQPslQfQ)\n",
      "1 2017 Financial.xls (0Bw8SXbIyjzqeQUgyQXU4aGtibEU)\n",
      "Patti and Armand KeePass 2.x.kdbx (0Bw8SXbIyjzqeTjhaTUg4RXVFMGM)\n"
     ]
    }
   ],
   "source": [
    "google_main()"
   ]
  },
  {
   "cell_type": "code",
   "execution_count": 19,
   "metadata": {
    "collapsed": false,
    "deletable": true,
    "editable": true
   },
   "outputs": [],
   "source": [
    "from Tkinter import Frame, Tk, BOTH, Text, Menu, END\n",
    "import tkFileDialog \n",
    "\n",
    "class Example(Frame):\n",
    "  \n",
    "    def __init__(self, parent):\n",
    "        Frame.__init__(self, parent)   \n",
    "         \n",
    "        self.parent = parent        \n",
    "        self.initUI()\n",
    "        \n",
    "        \n",
    "    def initUI(self):\n",
    "      \n",
    "        self.parent.title(\"File dialog\")\n",
    "        self.pack(fill=BOTH, expand=1)\n",
    "        \n",
    "        menubar = Menu(self.parent)\n",
    "        self.parent.config(menu=menubar)\n",
    "        \n",
    "        fileMenu = Menu(menubar)\n",
    "        fileMenu.add_command(label=\"Open\", command=self.onOpen)\n",
    "        menubar.add_cascade(label=\"File\", menu=fileMenu)        \n",
    "        \n",
    "        self.txt = Text(self)\n",
    "        self.txt.pack(fill=BOTH, expand=1)\n",
    "\n",
    "\n",
    "    def onOpen(self):\n",
    "      \n",
    "        ftypes = [('Python files', '*.py'), ('All files', '*')]\n",
    "        dlg = tkFileDialog.Open(self, filetypes = ftypes)\n",
    "        fl = dlg.show()\n",
    "        \n",
    "        if fl != '':\n",
    "            text = self.readFile(fl)\n",
    "            self.txt.insert(END, text)\n",
    "            \n",
    "\n",
    "    def readFile(self, filename):\n",
    "\n",
    "        f = open(filename, \"r\")\n",
    "        text = f.read()\n",
    "        return text\n",
    "         \n",
    "\n",
    "def main():\n",
    "    \n",
    "    root = Tk()\n",
    "    ex = Example(root)\n",
    "    root.geometry(\"300x250+300+300\")\n",
    "#     google_main()\n",
    "    root.mainloop()  \n",
    "\n",
    "\n",
    "if __name__ == '__main__':\n",
    "    main()  "
   ]
  }
 ],
 "metadata": {
  "kernelspec": {
   "display_name": "Python 2",
   "language": "python",
   "name": "python2"
  },
  "language_info": {
   "codemirror_mode": {
    "name": "ipython",
    "version": 2
   },
   "file_extension": ".py",
   "mimetype": "text/x-python",
   "name": "python",
   "nbconvert_exporter": "python",
   "pygments_lexer": "ipython2",
   "version": "2.7.13"
  }
 },
 "nbformat": 4,
 "nbformat_minor": 2
}
