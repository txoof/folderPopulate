{
 "cells": [
  {
   "cell_type": "code",
   "execution_count": null,
   "metadata": {
    "collapsed": true
   },
   "outputs": [],
   "source": [
    "import sys\n"
   ]
  },
  {
   "cell_type": "code",
   "execution_count": null,
   "metadata": {
    "collapsed": false
   },
   "outputs": [],
   "source": [
    "sys.argv.pop()"
   ]
  },
  {
   "cell_type": "code",
   "execution_count": null,
   "metadata": {
    "collapsed": false
   },
   "outputs": [],
   "source": [
    "sys.argv"
   ]
  },
  {
   "cell_type": "code",
   "execution_count": 37,
   "metadata": {
    "collapsed": false
   },
   "outputs": [],
   "source": [
    "from __future__ import print_function\n",
    "import httplib2\n",
    "import os\n",
    "\n",
    "from apiclient import discovery\n",
    "from oauth2client import client\n",
    "from oauth2client import tools\n",
    "from oauth2client.file import Storage\n",
    "\n",
    "SCOPES = 'https://www.googleapis.com/auth/drive'\n",
    "# SCOPES = 'https://www.googleapis.com/auth/drive.file' # try this one!\n",
    "# SCOPES = 'https://www.googleapis.com/auth/drive.metadata.readonly'\n",
    "CLIENT_SECRET_FILE = 'client_secret_qs.json'\n",
    "APPLICATION_NAME = 'Drive API Python Quickstart'\n",
    "\n",
    "def getCredentials():\n",
    "    home_dir = os.path.expanduser('~')\n",
    "    credential_dir = os.path.join(home_dir, '.credentials')\n",
    "    if not os.path.exists(credential_dir):\n",
    "        try:\n",
    "            os.makedirs(credential_dir)\n",
    "        except (IOError, OSError) as e:\n",
    "            print(e)\n",
    "        \n",
    "\n",
    "    credential_path = os.path.join(credential_dir, 'drive-python.json')\n",
    "\n",
    "    store = Storage(credential_path)\n",
    "    credentials = store.get()\n",
    "    if not credentials or credentials.invalid:\n",
    "        flow = client.flow_from_clientsecrets(CLIENT_SECRET_FILE, SCOPES)\n",
    "        flow.user_agent = 'foo'\n",
    "        credentials = tools.run_flow(flow, store, None)\n",
    "    return(credentials)\n",
    "\n",
    "\n",
    "\n",
    "\n"
   ]
  },
  {
   "cell_type": "code",
   "execution_count": null,
   "metadata": {
    "collapsed": true
   },
   "outputs": [],
   "source": [
    "credentials = getCredentials()\n",
    "http = credentials.authorize(httplib2.Http())\n",
    "service = discovery.build('drive', 'v3', http=http)"
   ]
  },
  {
   "cell_type": "code",
   "execution_count": 33,
   "metadata": {
    "collapsed": false
   },
   "outputs": [
    {
     "data": {
      "text/plain": [
       "['__class__',\n",
       " '__delattr__',\n",
       " '__dict__',\n",
       " '__doc__',\n",
       " '__format__',\n",
       " '__getattribute__',\n",
       " '__hash__',\n",
       " '__init__',\n",
       " '__module__',\n",
       " '__new__',\n",
       " '__reduce__',\n",
       " '__reduce_ex__',\n",
       " '__repr__',\n",
       " '__setattr__',\n",
       " '__sizeof__',\n",
       " '__str__',\n",
       " '__subclasshook__',\n",
       " '__weakref__',\n",
       " '_in_error_state',\n",
       " '_process_response',\n",
       " '_rand',\n",
       " '_sleep',\n",
       " 'add_response_callback',\n",
       " 'body',\n",
       " 'body_size',\n",
       " 'execute',\n",
       " 'from_json',\n",
       " 'headers',\n",
       " 'http',\n",
       " 'method',\n",
       " 'methodId',\n",
       " 'next_chunk',\n",
       " 'postproc',\n",
       " 'response_callbacks',\n",
       " 'resumable',\n",
       " 'resumable_progress',\n",
       " 'resumable_uri',\n",
       " 'to_json',\n",
       " 'uri']"
      ]
     },
     "execution_count": 33,
     "metadata": {},
     "output_type": "execute_result"
    }
   ],
   "source": [
    "service.files().list(q='')"
   ]
  },
  {
   "cell_type": "code",
   "execution_count": 35,
   "metadata": {
    "collapsed": false
   },
   "outputs": [
    {
     "name": "stdout",
     "output_type": "stream",
     "text": [
      "Help on Resource in module googleapiclient.discovery object:\n",
      "\n",
      "class Resource(__builtin__.object)\n",
      " |  A class for interacting with a resource.\n",
      " |  \n",
      " |  Methods defined here:\n",
      " |  \n",
      " |  __getstate__(self)\n",
      " |      Trim the state down to something that can be pickled.\n",
      " |      \n",
      " |      Uses the fact that the instance variable _dynamic_attrs holds attrs that\n",
      " |      will be wiped and restored on pickle serialization.\n",
      " |  \n",
      " |  __init__(self, http, baseUrl, model, requestBuilder, developerKey, resourceDesc, rootDesc, schema)\n",
      " |      Build a Resource from the API description.\n",
      " |      \n",
      " |      Args:\n",
      " |        http: httplib2.Http, Object to make http requests with.\n",
      " |        baseUrl: string, base URL for the API. All requests are relative to this\n",
      " |            URI.\n",
      " |        model: googleapiclient.Model, converts to and from the wire format.\n",
      " |        requestBuilder: class or callable that instantiates an\n",
      " |            googleapiclient.HttpRequest object.\n",
      " |        developerKey: string, key obtained from\n",
      " |            https://code.google.com/apis/console\n",
      " |        resourceDesc: object, section of deserialized discovery document that\n",
      " |            describes a resource. Note that the top level discovery document\n",
      " |            is considered a resource.\n",
      " |        rootDesc: object, the entire deserialized discovery document.\n",
      " |        schema: object, mapping of schema names to schema descriptions.\n",
      " |  \n",
      " |  __setstate__(self, state)\n",
      " |      Reconstitute the state of the object from being pickled.\n",
      " |      \n",
      " |      Uses the fact that the instance variable _dynamic_attrs holds attrs that\n",
      " |      will be wiped and restored on pickle serialization.\n",
      " |  \n",
      " |  ----------------------------------------------------------------------\n",
      " |  Data descriptors defined here:\n",
      " |  \n",
      " |  __dict__\n",
      " |      dictionary for instance variables (if defined)\n",
      " |  \n",
      " |  __weakref__\n",
      " |      list of weak references to the object (if defined)\n",
      "\n"
     ]
    }
   ],
   "source": [
    "help(service)"
   ]
  }
 ],
 "metadata": {
  "kernelspec": {
   "display_name": "Python 2",
   "language": "python",
   "name": "python2"
  },
  "language_info": {
   "codemirror_mode": {
    "name": "ipython",
    "version": 2
   },
   "file_extension": ".py",
   "mimetype": "text/x-python",
   "name": "python",
   "nbconvert_exporter": "python",
   "pygments_lexer": "ipython2",
   "version": "2.7.13"
  }
 },
 "nbformat": 4,
 "nbformat_minor": 2
}
