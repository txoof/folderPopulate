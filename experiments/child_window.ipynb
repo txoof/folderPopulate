{
 "cells": [
  {
   "cell_type": "code",
   "execution_count": 1,
   "metadata": {
    "collapsed": false,
    "deletable": true,
    "editable": true
   },
   "outputs": [
    {
     "name": "stdout",
     "output_type": "stream",
     "text": [
      "spawning: foo\n",
      "spawning: foo\n",
      "spawning: foo\n",
      "spawning: foo\n",
      "spawning: foo\n",
      "spawning: foo\n",
      "spawning: foo\n",
      "spawning: foo\n",
      "spawning: foo\n",
      "spawning: foo\n",
      "spawning: foo\n",
      "spawning: foo\n",
      "spawning: foo\n",
      "spawning: foo\n",
      "spawning: foo\n",
      "spawning: foo\n",
      "spawning: foo\n",
      "spawning: foo\n",
      "spawning: foo\n",
      "spawning: foo\n",
      "spawning: foo\n",
      "spawning: foo\n"
     ]
    }
   ],
   "source": [
    "from Tkinter import *\n",
    "\n",
    "class Application(Frame):\n",
    "    def say_hi(self):\n",
    "        print \"hi there, everyone!\"\n",
    "\n",
    "    def createWidgets(self):\n",
    "        self.QUIT = Button(self)\n",
    "        self.QUIT[\"text\"] = \"QUIT\"\n",
    "        self.QUIT[\"command\"] =  self.quit\n",
    "        self.QUIT.pack({\"side\": \"left\"})\n",
    "\n",
    "        self.hi_there = Button(self)\n",
    "        self.hi_there[\"text\"] = \"Hello\",\n",
    "        self.hi_there[\"command\"] = self.say_hi\n",
    "\n",
    "        self.NEW = Button(self)\n",
    "        self.NEW['text'] = \"NEW!\"\n",
    "        self.NEW['command'] = self.spawnNew\n",
    "        self.NEW.pack({'side':'bottom'})\n",
    "        \n",
    "        self.hi_there.pack({\"side\": \"left\"})\n",
    "\n",
    "    def spawnNew(self, name = 'foo'):\n",
    "        print 'spawning:', name\n",
    "        self.counter +=1\n",
    "        t = Toplevel(self)\n",
    "        t.wm_title(\"Widnow #%s\" % self.counter)\n",
    "        l = Label(t, text=\"This is window #%s\" % self.counter)\n",
    "        l.pack(side=\"top\", fill=\"both\", expand=True, padx=100, pady=100)\n",
    "    \n",
    "    def __init__(self, master=None):\n",
    "        Frame.__init__(self, master)\n",
    "        self.pack()\n",
    "        self.createWidgets()\n",
    "        self.counter = 0\n",
    "\n",
    "root = Tk()\n",
    "app = Application(master=root)\n",
    "app.mainloop()\n",
    "root.destroy()"
   ]
  }
 ],
 "metadata": {
  "kernelspec": {
   "display_name": "Python 2",
   "language": "python",
   "name": "python2"
  },
  "language_info": {
   "codemirror_mode": {
    "name": "ipython",
    "version": 2
   },
   "file_extension": ".py",
   "mimetype": "text/x-python",
   "name": "python",
   "nbconvert_exporter": "python",
   "pygments_lexer": "ipython2",
   "version": "2.7.13"
  }
 },
 "nbformat": 4,
 "nbformat_minor": 2
}
