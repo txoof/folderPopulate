{
 "cells": [
  {
   "cell_type": "code",
   "execution_count": 1,
   "metadata": {
    "collapsed": false,
    "deletable": true,
    "editable": true
   },
   "outputs": [],
   "source": [
    "import os\n",
    "import fnmatch\n",
    "import subprocess\n",
    "import re\n",
    "import simpleMenu\n",
    "import ConfigParser\n",
    "import logging\n",
    "from logging.handlers import RotatingFileHandler\n",
    "import sys\n",
    "\n",
    "appShortName = 'fileStreamPortfolio'\n",
    "\n",
    "# # Create Logger\n",
    "# logger = logging.getLogger(__name__)\n",
    "\n",
    "# # remove any existing handlers (needed for running within an IDE such as Jupyter\n",
    "# for each in range (0, len(logger.handlers)):\n",
    "#     logger.removeHandler(logger.handlers[0])\n",
    "# datefmt = '%y-%m-%d %H:%M:%S'\n",
    "\n",
    "# logger.setLevel(logging.DEBUG)\n",
    "# console_handler = logging.StreamHandler()\n",
    "# console_handler.setLevel(logging.ERROR)\n",
    "# consoleformat = '%(asctime)s %(levelname)s - %(message)s'\n",
    "\n",
    "# logformat = '%(asctime)s %(levelname)s %(module)s - %(funcName)s: %(message)s'\n",
    "\n",
    "# rotation_handler = RotatingFileHandler(appShortName+'.log', maxBytes = 5000, backupCount = 5)\n",
    "# rotation_handler.setFormatter(logging.Formatter(fmt = logformat, datefmt = datefmt))\n",
    "\n",
    "# logger.addHandler(console_handler)\n",
    "# logger.addHandler(rotation_handler)\n",
    "\n",
    "# # # setup log handlers\n",
    "# # logformat = '%(asctime)s %(levelname)s %(module)s - %(funcName)s: %(message)s'\n",
    "# # streamformat = '%(asctime)s %(levelname)s - %(message)s'\n",
    "# # datefmt = '%y-%m-%d %H:%M:%S'\n",
    "\n",
    "# # logging.basicConfig(filename = appShortName+'.log', filemode = 'w',\n",
    "# #                     format = logformat, datefmt = datefmt)\n",
    "\n",
    "# # stream_handler = logging.StreamHandler(sys.stderr)\n",
    "# # stream_handler.setFormatter(logging.Formatter(fmt = streamformat, datefmt = ''))\n",
    "# # stream_handler.setLevel(logging.ERROR)\n",
    "# # rotation_handler = RotatingFileHandler(appShortName+'.log', maxBytes = 5000, backupCount = 5)\n",
    "# # rotation_handler.setFormatter(logging.Formatter(fmt = logformat, datefmt = datefmt))\n",
    "\n",
    "# # logger = logging.getLogger(__name__)\n",
    "\n",
    "# # # this removes any stray handlers created prior to this execution - handy when testing within an IDE such as Jupyter\n",
    "# # if len(logger.handlers) > 0:\n",
    "# #     for each in range (0, len(logger.handlers)):\n",
    "# #         logger.removeHandler(logger.handlers[0])\n",
    "\n",
    "# # # add the stream handler\n",
    "# # logger.addHandler(stream_handler)\n",
    "# # logger.addHandler(rotation_handler)\n",
    "\n",
    "# # logger.setLevel(logging.DEBUG)\n",
    "# # logger.info('Log Started')\n",
    "# # logger.info('Log Level: {0}'.format(logger.level))\n",
    "\n",
    "# # end setup log handlers"
   ]
  },
  {
   "cell_type": "code",
   "execution_count": null,
   "metadata": {
    "collapsed": true
   },
   "outputs": [],
   "source": [
    "class modLogger(object):\n",
    "    def __init__(self):\n",
    "        logger = logging.getLogger(__name__)\n",
    "        logger"
   ]
  },
  {
   "cell_type": "code",
   "execution_count": null,
   "metadata": {
    "collapsed": false
   },
   "outputs": [],
   "source": [
    "foo = myProgram()\n",
    "foo.log()"
   ]
  },
  {
   "cell_type": "code",
   "execution_count": null,
   "metadata": {
    "collapsed": false
   },
   "outputs": [],
   "source": [
    "logging.critical('whoa')\n",
    "logging.debug('stuff')"
   ]
  },
  {
   "cell_type": "code",
   "execution_count": null,
   "metadata": {
    "collapsed": false
   },
   "outputs": [],
   "source": [
    "logging.debug('foo')"
   ]
  },
  {
   "cell_type": "code",
   "execution_count": null,
   "metadata": {
    "collapsed": false,
    "deletable": true,
    "editable": true
   },
   "outputs": [],
   "source": [
    "configPath = os.path.expanduser('~/.config/'+appShortName)\n",
    "configFile = configPath+'/config.ini'\n",
    "print configFile\n",
    "config = ConfigParser.ConfigParser()\n",
    "config.read(configFile)\n",
    "config.add_section('Main')\n",
    "try:\n",
    "    with open (configFile, 'wb') as myFile:\n",
    "        config.write(myFile)\n",
    "except IOError:\n",
    "    try:\n",
    "        os.makedirs(configPath)\n",
    "    except Exception as e:\n",
    "        print e"
   ]
  },
  {
   "cell_type": "code",
   "execution_count": null,
   "metadata": {
    "collapsed": false,
    "deletable": true,
    "editable": true
   },
   "outputs": [],
   "source": [
    "configfile = './fileStreamPortfolio.ini'\n",
    "config = ConfigParser.ConfigParser()\n",
    "config.read(configfile)\n",
    "\n",
    "try:\n",
    "    config.add_section('Main')\n",
    "    config.add_section('Recent')\n",
    "except ConfigParser.DuplicateSectionError as e:\n",
    "    pass\n",
    "\n",
    "config.set('Main', 'DefaultMountPoint', '/Volumes/GoogleDrive')\n",
    "config.set('Main', 'TeamDrive', '')\n",
    "config.set('Main', 'PortfolioPath', '')\n",
    "\n",
    "config.set('Recent', 'GradeFolder', '')\n",
    "\n",
    "try:\n",
    "    myConfig = open(configfile, 'wb')\n",
    "    config.write(myConfig)\n",
    "except Exception as e:\n",
    "    print e"
   ]
  },
  {
   "cell_type": "code",
   "execution_count": null,
   "metadata": {
    "collapsed": true,
    "deletable": true,
    "editable": true
   },
   "outputs": [],
   "source": [
    "class configuration(object):\n",
    "    def __init__(self, configPath = os.path.expanduser('~/.config/'+appShortName)):\n",
    "        self.configFile = os.path.join(self.configPath, 'config.ini')\n",
    "        self.getConfig()\n",
    "        \n",
    "    def getConfig(self):\n",
    "        self.parser = ConfigParser.SafeConfigParser()\n",
    "        \n",
    "        mainSection = 'Main'\n",
    "        # key: [method to set, 'default value if not found']\n",
    "        settings = {'mountPoint': [self.parser.get, '/Volumes/GoogleDrive'],\n",
    "                    'teamDrive': [self.parser.get, ''],\n",
    "                    'lastGradeFolders': [self.parser.get, './gradefolders.txt']}\n",
    "        \n",
    "        # check if configuation path exists\n",
    "        if len(self.parser.read(self.configFile)) <= 0:\n",
    "            try:\n",
    "                #os.makedirs(os.path.expanduser(self.configPath))\n",
    "                os.makedirs('/foo/bar')\n",
    "            except Exception as e:\n",
    "                print e\n"
   ]
  },
  {
   "cell_type": "code",
   "execution_count": null,
   "metadata": {
    "collapsed": false,
    "deletable": true,
    "editable": true
   },
   "outputs": [],
   "source": [
    "foo = configuration\n",
    "os.makedirs('/foo/bar/')"
   ]
  },
  {
   "cell_type": "code",
   "execution_count": 2,
   "metadata": {
    "collapsed": false,
    "deletable": true,
    "editable": true
   },
   "outputs": [],
   "source": [
    "class teamDrives(object):\n",
    "    '''\n",
    "    make working with google Team Drives through filestream a little easier\n",
    "    '''\n",
    "    def __init__(self, mountpoint='/Volumes/GoogleDrive/Team Drives/'):\n",
    "        self.mountpoint = mountpoint\n",
    "        self.getDrives()\n",
    "    \n",
    "    def getDrives(self):\n",
    "        self.drives = {}\n",
    "        try:\n",
    "            drives = next(os.walk(self.mountpoint))[1]\n",
    "        except Exception as e:\n",
    "            logging.critical('error retriving list of Team Drives: {0}'.format(e))\n",
    "            logging.critical('is Google Drive File Stream application running and configured?')\n",
    "            logging.critical('mount point: {} is not accessible'.format(self.mountpoint))\n",
    "            logging.critical('exiting')\n",
    "            return(0)\n",
    "        for drive in drives:\n",
    "            self.drives[drive] = oct(os.stat(self.mountpoint+drive).st_mode & 0o777)\n",
    "    \n",
    "    def listrwDrives(self):\n",
    "        rwDrives = []\n",
    "        for drive in self.drives:\n",
    "            if 777 - int(self.drives[drive]) < 277:\n",
    "                rwDrives.append(drive)\n",
    "        return(sorted(rwDrives))\n",
    "    \n",
    "    def listFolders(self, teamDrive):\n",
    "        try:\n",
    "            folders = next(os.walk(self.mountpoint+teamDrive))[1]\n",
    "        except Exception as e:\n",
    "            print 'error getting list of Team Drives: {0}'.format(e)\n",
    "            print 'is Google Drive File Stream application running and configured?'\n",
    "            raise os.error('Error in os.walk for mount point: {0}'.format(self.mountpoint))\n",
    "        return(folders)\n",
    "    \n",
    "    def find(self, pattern, teamDrive):\n",
    "        result = []\n",
    "        for root, dirs, files in os.walk(self.mountpoint+teamDrive):\n",
    "            for name in dirs:\n",
    "                if fnmatch.fnmatch(name, pattern):\n",
    "                    result.append(os.path.join(root, name))\n",
    "        return result\n",
    "                \n",
    "                \n",
    "    \n",
    "\n",
    "        "
   ]
  },
  {
   "cell_type": "code",
   "execution_count": 3,
   "metadata": {
    "collapsed": true,
    "deletable": true,
    "editable": true
   },
   "outputs": [],
   "source": [
    "def checkFSMount(mountpoint = '/Volumes/GoogleDrive'):\n",
    "    logger.debug('Searching for Google Drive File Stream Mount Points')\n",
    "    # list the local partitions (including FUSE partitions)\n",
    "    mount = subprocess.check_output(['df', '-hl'])\n",
    "    mountLines = mount.split('\\n')\n",
    "    mountPoints = []\n",
    "    \n",
    "    # makek a list of all the partitions\n",
    "    for line in mountLines:\n",
    "        try:\n",
    "            # re extract anything that looks like a mount point\n",
    "            mountSearch = re.search('\\s+(\\/[\\S+]{0,})$', line)\n",
    "            mountPoints.append(mountSearch.group(1))\n",
    "        # ignore anything that doesn't match the re\n",
    "        except Exception:\n",
    "            pass    \n",
    "    # check for mount point and try to launch the google drive file stream app\n",
    "    if mountpoint in mountPoints:\n",
    "        logger.debug('Found mountpoint at: {0}'.format(mountpoint))\n",
    "        return True\n",
    "    else:\n",
    "        logger.info('Google Drive File Stream appears to not be running')\n",
    "        return False\n",
    "    \n"
   ]
  },
  {
   "cell_type": "code",
   "execution_count": 11,
   "metadata": {
    "collapsed": true
   },
   "outputs": [],
   "source": [
    "def ltest(i = 'abcdefg'):\n",
    "    logger = logging.getLogger(__name__)\n",
    "    logger.debug('stuff: {0}'.format(i))\n",
    "    logger.info('other stuff')\n",
    "    logger.critical('important stuff')\n",
    "    #logging.warn('stuff: {0}'.format(i))"
   ]
  },
  {
   "cell_type": "code",
   "execution_count": 12,
   "metadata": {
    "collapsed": false,
    "deletable": true,
    "editable": true
   },
   "outputs": [
    {
     "name": "stderr",
     "output_type": "stream",
     "text": [
      "2018-04-28 21:24:34,477 CRITICAL - ltest: important stuff\n",
      "2018-04-28 21:24:34,478 CRITICAL - main: oh hi\n"
     ]
    }
   ],
   "source": [
    "def main():\n",
    "\n",
    "    # Create the Logger\n",
    "    logger = logging.getLogger(__name__)\n",
    "\n",
    "    for each in range (0, len(logger.handlers)):\n",
    "        logger.removeHandler(logger.handlers[0])\n",
    "\n",
    "    datefmt = '%y-%m-%d %H:%M:%S'\n",
    "\n",
    "    logger.setLevel(logging.INFO)\n",
    "\n",
    "    # file handler\n",
    "    fileformat = '%(asctime)s %(levelname)s %(module)s - %(funcName)s: %(message)s'\n",
    "    file_handler = logging.FileHandler(appShortName+'.log')\n",
    "    file_handler.setLevel(logging.DEBUG)\n",
    "    file_handler.setFormatter(logging.Formatter(fmt = fileformat, datefmt = datefmt))\n",
    "\n",
    "    # stream handler\n",
    "    streamformat = '%(asctime)s %(levelname)s - %(funcName)s: %(message)s'\n",
    "    stream_handler = logging.StreamHandler(sys.stderr)\n",
    "    stream_handler.setLevel(logging.CRITICAL)\n",
    "    stream_handler.setFormatter(logging.Formatter(fmt = streamformat, datefmt = ''))\n",
    "\n",
    "    # rotation handler\n",
    "    rotation_handler = RotatingFileHandler(appShortName+'.log', maxBytes = 5000, backupCount = 5)\n",
    "    rotation_handler.setLevel(logging.DEBUG)\n",
    "    rotation_handler.setFormatter(logging.Formatter(fmt = fileformat, datefmt = datefmt))\n",
    "\n",
    "\n",
    "    # add handler to logger\n",
    "    #logger.addHandler(file_handler)\n",
    "    logger.addHandler(stream_handler)\n",
    "    logger.addHandler(rotation_handler)\n",
    "    \n",
    "    ltest()\n",
    "    logger.critical('oh hi')\n",
    "    \n",
    "#     if checkFSMount(''):\n",
    "#         pass\n",
    "#     else:\n",
    "#         logger.info('Attempting to start Google Drive File Stream')\n",
    "#         try:\n",
    "#             gDriveFS = subprocess.check_call([\"open\", \"-a\", \"Google Drive File Stream\"])\n",
    "#         except subprocess.CalledProcessError as err:\n",
    "#             logging.critical('Google Drive File Stream does not appear to be installed. Please download from the link below')            \n",
    "#             logging.critical('https://support.google.com/drive/answer/7329379?hl=en')\n",
    "#             logging.critical('exiting')\n",
    "#             logging.info('OS Error: {0}'.format(err))\n",
    "#             return(0)\n",
    "#         if checkFSMount():\n",
    "#             pass\n",
    "#         else:\n",
    "#             print \"exiting\"\n",
    "#             return(0)\n",
    "\n",
    "#     # build a configuration file around this\n",
    "        \n",
    "#     # get a list of the avialable team drives\n",
    "#     myDrives = teamDrives('/foo')\n",
    "#     try:\n",
    "#         myDrives.getDrives()\n",
    "#     except Exception as e:\n",
    "#         print e\n",
    "#         return(0)\n",
    "#     if len(myDrives.listrwDrives()) < 1:\n",
    "#         print 'No usable Team Drives available; exiting'\n",
    "#         return(0)\n",
    "#     else:\n",
    "#         rwDrivesMenu = simpleMenu.menu(name = 'Team Drives', items = myDrives.listrwDrives())\n",
    "        \n",
    "#     myTeamDrive = rwDrivesMenu.loopChoice(optional = True, message = 'Which Team Drive contains the portfolio folder?')\n",
    "\n",
    "#     folderSearch = raw_input('Please enter part of the portfolio folder name: ')\n",
    "#     foldersMenu = simpleMenu.menu(name = 'Matching Folders', items = myDrives.find(pattern = '*'+folderSearch+'*', teamDrive = myTeamDrive))\n",
    "#     myFolder = foldersMenu.loopChoice(optional = True, message = 'Which foldr contains the portfolios?')\n",
    "    \n",
    "    \n",
    "#     # open the student data file and start creating folders as needed\n",
    "\n",
    "    \n",
    "main()"
   ]
  },
  {
   "cell_type": "markdown",
   "metadata": {
    "deletable": true,
    "editable": true
   },
   "source": [
    "##### print logger.level"
   ]
  },
  {
   "cell_type": "code",
   "execution_count": null,
   "metadata": {
    "collapsed": true
   },
   "outputs": [],
   "source": [
    "class myProgram(object):\n",
    "    def __init__(self):\n",
    "        self.appShortName = 'fileStreamPortfolio'\n",
    "        \n",
    "        # Create the Logger\n",
    "        self.logger = logging.getLogger(__name__)\n",
    "        \n",
    "        for each in range (0, len(self.logger.handlers)):\n",
    "            self.logger.removeHandler(self.logger.handlers[0])\n",
    "        \n",
    "        datefmt = '%y-%m-%d %H:%M:%S'\n",
    "        \n",
    "        self.logger.setLevel(logging.WARNING)\n",
    "        \n",
    "        # file handler\n",
    "        fileformat = '%(asctime)s %(levelname)s %(module)s - %(funcName)s: %(message)s'\n",
    "        file_handler = logging.FileHandler(self.appShortName+'.log')\n",
    "        file_handler.setLevel(logging.DEBUG)\n",
    "        file_handler.setFormatter(logging.Formatter(fmt = fileformat, datefmt = datefmt))\n",
    "        \n",
    "        # stream handler\n",
    "        streamformat = '%(asctime)s %(levelname)s - %(message)s'\n",
    "        stream_handler = logging.StreamHandler(sys.stderr)\n",
    "        stream_handler.setLevel(logging.WARN)\n",
    "        stream_handler.setFormatter(logging.Formatter(fmt = streamformat, datefmt = ''))\n",
    "        \n",
    "        # rotation handler\n",
    "        rotation_handler = RotatingFileHandler(self.appShortName+'.log', maxBytes = 5000, backupCount = 5)\n",
    "        rotation_handler.setFormatter(logging.Formatter(fmt = streamformat, datefmt = datefmt))\n",
    "        \n",
    "        # add handler to logger\n",
    "        #self.logger.addHandler(file_handler)\n",
    "        self.logger.addHandler(stream_handler)\n",
    "        self.logger.addHandler(rotation_handler)\n",
    "            \n",
    "        \n",
    "\n",
    "        \n",
    "myRun = myProgram()"
   ]
  },
  {
   "cell_type": "code",
   "execution_count": null,
   "metadata": {
    "collapsed": true,
    "deletable": true,
    "editable": true
   },
   "outputs": [],
   "source": [
    "def find(pattern, path):\n",
    "    result = []\n",
    "    for root, dirs, files in os.walk(path):\n",
    "        for name in dirs:\n",
    "            if fnmatch.fnmatch(name, pattern):\n",
    "                result.append(os.path.join(root, name))\n",
    "    return result\n",
    "\n"
   ]
  },
  {
   "cell_type": "code",
   "execution_count": null,
   "metadata": {
    "collapsed": false,
    "deletable": true,
    "editable": true
   },
   "outputs": [],
   "source": [
    "find('*Port*', '/Volumes/GoogleDrive/Team Drives/IT Blabla')"
   ]
  },
  {
   "cell_type": "code",
   "execution_count": null,
   "metadata": {
    "collapsed": false,
    "deletable": true,
    "editable": true
   },
   "outputs": [],
   "source": [
    "output = [dI for dI in os.listdir('/Volumes/GoogleDrive/Team Drives/IT Blabla') if os.path.isdir(os.path.join('/Volumes/GoogleDrive/Team Drives/IT Blabla',dI))]\n",
    "\n",
    "print output"
   ]
  }
 ],
 "metadata": {
  "kernelspec": {
   "display_name": "Python 2",
   "language": "python",
   "name": "python2"
  },
  "language_info": {
   "codemirror_mode": {
    "name": "ipython",
    "version": 2
   },
   "file_extension": ".py",
   "mimetype": "text/x-python",
   "name": "python",
   "nbconvert_exporter": "python",
   "pygments_lexer": "ipython2",
   "version": "2.7.13"
  }
 },
 "nbformat": 4,
 "nbformat_minor": 2
}
