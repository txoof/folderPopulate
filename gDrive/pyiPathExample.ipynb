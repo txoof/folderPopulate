{
 "cells": [
  {
   "cell_type": "code",
   "execution_count": 1,
   "metadata": {
    "collapsed": false,
    "deletable": true,
    "editable": true
   },
   "outputs": [
    {
     "name": "stdout",
     "output_type": "stream",
     "text": [
      "('we are', 'not', 'frozen')\n",
      "('bundle dir is', '/Users/aciuffo/src/pyinstaller')\n",
      "('sys.argv[0] is', '/Users/aciuffo/Virtualenvs/python2/lib/python2.7/site-packages/ipykernel/__main__.py')\n",
      "('sys.executable is', '/Users/aciuffo/Virtualenvs/python2/bin/python2.7')\n",
      "('os.getcwd is', '/Users/aciuffo/src/pyinstaller')\n"
     ]
    }
   ],
   "source": [
    "#!/usr/bin/python3\n",
    "import sys, os\n",
    "frozen = 'not'\n",
    "if getattr(sys, 'frozen', False):\n",
    "        # we are running in a bundle\n",
    "        frozen = 'ever so'\n",
    "        bundle_dir = sys._MEIPASS\n",
    "else:\n",
    "        # we are running in a normal Python environment\n",
    "        bundle_dir = os.path.dirname(os.path.abspath(\"__file__\"))\n",
    "print( 'we are',frozen,'frozen')\n",
    "print( 'bundle dir is', bundle_dir )\n",
    "print( 'sys.argv[0] is', sys.argv[0] )\n",
    "print( 'sys.executable is', sys.executable )\n",
    "print( 'os.getcwd is', os.getcwd() )"
   ]
  }
 ],
 "metadata": {
  "kernelspec": {
   "display_name": "Python 2",
   "language": "python",
   "name": "python2"
  },
  "language_info": {
   "codemirror_mode": {
    "name": "ipython",
    "version": 2
   },
   "file_extension": ".py",
   "mimetype": "text/x-python",
   "name": "python",
   "nbconvert_exporter": "python",
   "pygments_lexer": "ipython2",
   "version": "2.7.13"
  }
 },
 "nbformat": 4,
 "nbformat_minor": 2
}
