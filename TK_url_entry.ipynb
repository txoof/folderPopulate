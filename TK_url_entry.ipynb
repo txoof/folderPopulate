{
 "cells": [
  {
   "cell_type": "code",
   "execution_count": 73,
   "metadata": {
    "collapsed": true,
    "deletable": true,
    "editable": true
   },
   "outputs": [],
   "source": [
    "from Tkinter import *\n",
    "import tkFileDialog\n",
    "import sys\n",
    "import ConfigParser\n",
    "import os\n",
    "import logging"
   ]
  },
  {
   "cell_type": "code",
   "execution_count": null,
   "metadata": {
    "collapsed": true
   },
   "outputs": [],
   "source": [
    "# This looks great!\n",
    "# http://stackoverflow.com/questions/36604900/redirect-stdout-to-tkinter-text-widget\n",
    "\n",
    "# also this:\n",
    "# https://www.blog.pythonlibrary.org/2014/07/14/tkinter-redirecting-stdout-stderr/\n",
    "\n",
    "\n",
    "# http://stackoverflow.com/questions/14883648/redirect-output-from-python-logger-to-tkinter-widget"
   ]
  },
  {
   "cell_type": "code",
   "execution_count": 2,
   "metadata": {
    "collapsed": false
   },
   "outputs": [],
   "source": [
    "# http://stackoverflow.com/questions/36604900/redirect-stdout-to-tkinter-text-widget\n",
    "class IORedirector(object):\n",
    "    '''A general class for redirecting I/O to this Text widget.'''\n",
    "    def __init__(self,text_area):\n",
    "        self.text_area = text_area\n",
    "        \n",
    "#     def flush(self):\n",
    "#         pass\n",
    "\n",
    "class StdoutRedirector(IORedirector):\n",
    "    '''A class for redirecting stdout to this Text widget.'''\n",
    "\n",
    "    def write(self,str):\n",
    "        self.text_area.insert(\"end\", str)\n",
    "        self.text_area.see(END)\n",
    "\n",
    "    def flush(self):\n",
    "        pass"
   ]
  },
  {
   "cell_type": "code",
   "execution_count": 101,
   "metadata": {
    "collapsed": false,
    "deletable": true,
    "editable": true
   },
   "outputs": [
    {
     "name": "stderr",
     "output_type": "stream",
     "text": [
      "WARNING:root:no configuration files found at: /Users/aaronciuffo/.config/populate/config.ini\n"
     ]
    },
    {
     "name": "stdout",
     "output_type": "stream",
     "text": [
      " {'loglevel': 'INFO', 'outputFolder': '/Users/aaronciuffo/Desktop/StudentURL.csv', 'gdBaseFolder': 'https://drive.google.com/SAMPLE/URL/abc123zyx987'}\n"
     ]
    }
   ],
   "source": [
    "class myApp(object):\n",
    "    def __init__(self, master):\n",
    "        self.master = master\n",
    "        master.title('Student Portfolio Populator')\n",
    "\n",
    "        # get the configuration\n",
    "        # Path to configuration files\n",
    "        self.configPath = os.path.expanduser('~/.config/populate/')\n",
    "        self.configFile = os.path.join(self.configPath, 'config.ini')\n",
    "        self.getConfig()\n",
    "        \n",
    "        self.msgReqURL = 'Paste Google Drive URL for Student Portfolio below:'\n",
    "        self.msgOKURL = 'Student Portfolio URL accepted:'\n",
    "        self.message = self.msgReqURL\n",
    "        \n",
    "        self.portfolioURL = 'foo'\n",
    "        self.studentFile = None\n",
    "        self.studentData = None\n",
    "        \n",
    "        \n",
    "        \n",
    "        \n",
    "        self.guiInit()\n",
    "        \n",
    "# consider moving this into its own def        \n",
    "    def guiInit(self):\n",
    "#         initiate the output window \n",
    "#         self.redirector('Student Import Messages:\\n')\n",
    "\n",
    "        # set window size\n",
    "        self.master.geometry('800x400+30+30')\n",
    "#         self.label = Label(self.master, text = 'Paste URL for Student Portfolio')\n",
    "\n",
    "        self.labelURL_text = StringVar()\n",
    "        self.labelURL_text.set(self.message)\n",
    "        self.labelURL = Label(self.master, textvariable = self.labelURL_text, font = \"TkDefaultFont 0 bold\")\n",
    "\n",
    "        self.labelStuFileRow_text = StringVar()\n",
    "        self.labelStuFileRow_text.set('Student File: ')\n",
    "        self.labelStuFileRow = Label(self.master, textvariable = self.labelStuFileRow_text, \n",
    "                                     font = \"TkDefaultFont 0 bold\")\n",
    "\n",
    "        self.labelStuFile_text = StringVar()\n",
    "        self.labelStuFile_text.set('None selected')\n",
    "        self.labelStuFile = Label(self.master, textvariable = self.labelStuFile_text)\n",
    "\n",
    "        self.submit_button = Button(self.master, text = 'submit', command = self.submit)\n",
    "        self.quit_button = Button(self.master, text = 'quit', command = self.quit)\n",
    "        self.buttonStFile = Button(self.master, text = 'set student data file', command = self.studentFilePicker)\n",
    "\n",
    "        self.entryURL = Entry(self.master, width = 60, validate='key') #, validatecommand=(vcmd, '%P'))\n",
    "        self.entryURL.insert(END, self.portfolioURL)\n",
    "\n",
    "        self.labelURL.grid(row = 0, columnspan = 2, sticky=W)        \n",
    "        self.entryURL.grid(row = 2, column = 0, columnspan = 2, sticky = W)\n",
    "        self.labelStuFileRow.grid(row = 3, column =0, sticky = W)\n",
    "        self.labelStuFile.grid(row = 3, column = 1, sticky = W)\n",
    "        self.buttonStFile.grid(row = 4, column = 0, sticky = W)\n",
    "        self.submit_button.grid(row = 5, column = 0, sticky = W)\n",
    "        self.quit_button.grid(row = 6, column = 0, sticky = W)  \n",
    "        \n",
    "    def getConfig(self):\n",
    "        '''\n",
    "        Reads configuration file and sets the following attributes:\n",
    "            self.gdBaseFolder\n",
    "            self.outputFolder\n",
    "            self.loglevel'''\n",
    "        \n",
    "        self.parser = ConfigParser.SafeConfigParser()\n",
    "        \n",
    "        # required options in the 'Main' section\n",
    "        mainSection = 'Main'\n",
    "        # required key: [method for getting, default value]\n",
    "        prefs = {'gdBaseFolder': [self.parser.get, 'https://drive.google.com/SAMPLE/URL/abc123zyx987'],\n",
    "                 'outputFolder': [self.parser.get, os.path.expanduser('~/Desktop/StudentURL.csv')],\n",
    "                 'loglevel': [self.parser.get, 'INFO']}\n",
    "        \n",
    "        # make sure a configuration path exists\n",
    "        if len(self.parser.read(self.configFile)) <= 0:\n",
    "            logging.warn('no configuration files found at: {}'.format(self.configFile))\n",
    "            logging.debug('creating configuration files')\n",
    "            try:\n",
    "                os.makedirs(os.path.expanduser(self.configPath))\n",
    "            except OSError as e:\n",
    "                if e.errno != 17:\n",
    "                    logging.critical(e)\n",
    "                    sys.exit(1)\n",
    "        \n",
    "        # make sure there is a main section\n",
    "        if not self.parser.has_section(mainSection):\n",
    "            self.parser.add_section(mainSection)\n",
    "        \n",
    "        self.preferences = {}\n",
    "        \n",
    "        # read search for the expected preferences in the configuration file\n",
    "        # note which are missing and set to the default values above\n",
    "        for key in prefs:\n",
    "            try:\n",
    "                self.preferences[key] = prefs[key][0](mainSection, key)\n",
    "            except (ConfigParser.NoSectionError, ConfigParser.NoOptionError):\n",
    "                self.parser.set(mainSection, key, prefs[key][1])\n",
    "                self.preferences[key] = prefs[key][1]\n",
    "        \n",
    "        self.gdBaseFolder = self.preferences[gdBaseFolder]\n",
    "        self.outputFolder = self.preferences[outputFolder]\n",
    "        self.loglevel = self.preferences[loglevel]\n",
    "        \n",
    "        \n",
    "    def studentFilePicker(self):\n",
    "        try:\n",
    "            self.studentFile = tkFileDialog.askopenfile(mode='r', title='Choose exported student data')\n",
    "        except (IOError, OSError) as e:\n",
    "            print e\n",
    "            return(False)\n",
    "        \n",
    "        \n",
    "        try:\n",
    "            self.studentData = self.studentFile.read()\n",
    "            self.labelStuFile_text.set(self.studentFile.name)\n",
    "            print self.studentData\n",
    "        except AttributeError:\n",
    "            pass\n",
    "        \n",
    "        return(True)\n",
    "    \n",
    "#     def spawnNew(self):\n",
    "#         win = Toplevel()\n",
    "#         win.title('stuff')\n",
    "#         message = Message(win, text =\"some more stuff\")\n",
    "#         message.pack()\n",
    "\n",
    "    def redirector(self, inputStr=\"\"):\n",
    "        wX = 800\n",
    "        wY = 600\n",
    "        geometry = '{}x{}+40+350'.format(wX, wY)\n",
    "        import sys\n",
    "        root = Toplevel()\n",
    "#         root.lift()\n",
    "        root.geometry(geometry)\n",
    "        T = Text(root, font = 'Courier 14', foreground='white', width = wX, height = wY)\n",
    "        T.config(background='black')\n",
    "        sys.stdout = StdoutRedirector(T)\n",
    "        T.pack()\n",
    "        T.insert(END, inputStr)\n",
    "        \n",
    "    def submit(self):\n",
    "        # spawn a text window for output\n",
    "       \n",
    "        self.portfolioURL = self.entryURL.get()\n",
    "        print self.portfolioURL\n",
    "        if len(self.portfolioURL)==0:\n",
    "            self.message = self.msgReqURL\n",
    "        else:\n",
    "            # add a check for a valid url here\n",
    "            self.message = self.msgOKURL\n",
    "        \n",
    "        self.labelURL_text.set(self.message)\n",
    "        \n",
    "        # write configuration file\n",
    "        # self.parser.write(open(self.configFile, 'w'))\n",
    "        # kick off actual task \n",
    "        # gDrivePopulate(base folder url, path to credentials etc.)\n",
    "        \n",
    "            \n",
    "        \n",
    "    def greet(self):\n",
    "        print('hello world')\n",
    "        \n",
    "    def quit(self):\n",
    "        self.master.destroy()\n",
    "\n",
    "root = Tk()\n",
    "my_gui = myApp(root)\n",
    "root.mainloop()\n",
    "sys.stdout.flush()"
   ]
  },
  {
   "cell_type": "code",
   "execution_count": 99,
   "metadata": {
    "collapsed": false
   },
   "outputs": [
    {
     "name": "stderr",
     "output_type": "stream",
     "text": [
      "WARNING:root:no configuration files found at: /Users/aaronciuffo/.config/populate/config.ini\n"
     ]
    },
    {
     "name": "stdout",
     "output_type": "stream",
     "text": [
      " ['loglevel', 'outputfolder', 'gdbasefolder']\n"
     ]
    }
   ],
   "source": [
    "my_gui.getConfig()\n"
   ]
  },
  {
   "cell_type": "code",
   "execution_count": 69,
   "metadata": {
    "collapsed": false
   },
   "outputs": [
    {
     "data": {
      "text/plain": [
       "[]"
      ]
     },
     "execution_count": 69,
     "metadata": {},
     "output_type": "execute_result"
    }
   ],
   "source": [
    "my_gui.parser.read(my_gui.configFile)"
   ]
  },
  {
   "cell_type": "code",
   "execution_count": 56,
   "metadata": {
    "collapsed": false
   },
   "outputs": [],
   "source": [
    "my_gui.parser.set('Main', 'basefolder', 'https://drive.google.com/drive/folders/0B9WTleJ1MzaYcmdmTWNNNF9pa1E')\n",
    "#my_gui.configfile = os.path.expanduser('~/.prefs/populate/')\n",
    "#my_gui.parser.write(open(my_gui.configfile, 'w'))"
   ]
  },
  {
   "cell_type": "code",
   "execution_count": null,
   "metadata": {
    "collapsed": true
   },
   "outputs": [],
   "source": []
  },
  {
   "cell_type": "code",
   "execution_count": 46,
   "metadata": {
    "collapsed": false
   },
   "outputs": [],
   "source": [
    "prefsPath = '~/.prefs/populate/'\n",
    "try:\n",
    "    os.makedirs(os.path.expanduser(prefsPath))\n",
    "except OSError as e:\n",
    "    if e.errno != 17:\n",
    "        print e\n",
    "    "
   ]
  },
  {
   "cell_type": "code",
   "execution_count": 52,
   "metadata": {
    "collapsed": false
   },
   "outputs": [
    {
     "data": {
      "text/plain": [
       "{1: 'EPERM',\n",
       " 2: 'ENOENT',\n",
       " 3: 'ESRCH',\n",
       " 4: 'EINTR',\n",
       " 5: 'EIO',\n",
       " 6: 'ENXIO',\n",
       " 7: 'E2BIG',\n",
       " 8: 'ENOEXEC',\n",
       " 9: 'EBADF',\n",
       " 10: 'ECHILD',\n",
       " 11: 'EDEADLK',\n",
       " 12: 'ENOMEM',\n",
       " 13: 'EACCES',\n",
       " 14: 'EFAULT',\n",
       " 15: 'ENOTBLK',\n",
       " 16: 'EBUSY',\n",
       " 17: 'EEXIST',\n",
       " 18: 'EXDEV',\n",
       " 19: 'ENODEV',\n",
       " 20: 'ENOTDIR',\n",
       " 21: 'EISDIR',\n",
       " 22: 'EINVAL',\n",
       " 23: 'ENFILE',\n",
       " 24: 'EMFILE',\n",
       " 25: 'ENOTTY',\n",
       " 26: 'ETXTBSY',\n",
       " 27: 'EFBIG',\n",
       " 28: 'ENOSPC',\n",
       " 29: 'ESPIPE',\n",
       " 30: 'EROFS',\n",
       " 31: 'EMLINK',\n",
       " 32: 'EPIPE',\n",
       " 33: 'EDOM',\n",
       " 34: 'ERANGE',\n",
       " 35: 'EAGAIN',\n",
       " 36: 'EINPROGRESS',\n",
       " 37: 'EALREADY',\n",
       " 38: 'ENOTSOCK',\n",
       " 39: 'EDESTADDRREQ',\n",
       " 40: 'EMSGSIZE',\n",
       " 41: 'EPROTOTYPE',\n",
       " 42: 'ENOPROTOOPT',\n",
       " 43: 'EPROTONOSUPPORT',\n",
       " 44: 'ESOCKTNOSUPPORT',\n",
       " 45: 'ENOTSUP',\n",
       " 46: 'EPFNOSUPPORT',\n",
       " 47: 'EAFNOSUPPORT',\n",
       " 48: 'EADDRINUSE',\n",
       " 49: 'EADDRNOTAVAIL',\n",
       " 50: 'ENETDOWN',\n",
       " 51: 'ENETUNREACH',\n",
       " 52: 'ENETRESET',\n",
       " 53: 'ECONNABORTED',\n",
       " 54: 'ECONNRESET',\n",
       " 55: 'ENOBUFS',\n",
       " 56: 'EISCONN',\n",
       " 57: 'ENOTCONN',\n",
       " 58: 'ESHUTDOWN',\n",
       " 59: 'ETOOMANYREFS',\n",
       " 60: 'ETIMEDOUT',\n",
       " 61: 'ECONNREFUSED',\n",
       " 62: 'ELOOP',\n",
       " 63: 'ENAMETOOLONG',\n",
       " 64: 'EHOSTDOWN',\n",
       " 65: 'EHOSTUNREACH',\n",
       " 66: 'ENOTEMPTY',\n",
       " 68: 'EUSERS',\n",
       " 69: 'EDQUOT',\n",
       " 70: 'ESTALE',\n",
       " 71: 'EREMOTE',\n",
       " 77: 'ENOLCK',\n",
       " 78: 'ENOSYS',\n",
       " 84: 'EOVERFLOW',\n",
       " 90: 'EIDRM',\n",
       " 91: 'ENOMSG',\n",
       " 92: 'EILSEQ',\n",
       " 94: 'EBADMSG',\n",
       " 95: 'EMULTIHOP',\n",
       " 96: 'ENODATA',\n",
       " 97: 'ENOLINK',\n",
       " 98: 'ENOSR',\n",
       " 99: 'ENOSTR',\n",
       " 100: 'EPROTO',\n",
       " 101: 'ETIME',\n",
       " 102: 'EOPNOTSUPP'}"
      ]
     },
     "execution_count": 52,
     "metadata": {},
     "output_type": "execute_result"
    }
   ],
   "source": [
    "import errno\n",
    "errno.errorcode.keys()\n",
    "errno.errorcode"
   ]
  },
  {
   "cell_type": "code",
   "execution_count": null,
   "metadata": {
    "collapsed": true
   },
   "outputs": [],
   "source": [
    "root.mainloop()\n",
    "sys.stdout.flush()"
   ]
  },
  {
   "cell_type": "code",
   "execution_count": null,
   "metadata": {
    "collapsed": false
   },
   "outputs": [],
   "source": [
    "my_gui.labelURL.cget()"
   ]
  },
  {
   "cell_type": "code",
   "execution_count": null,
   "metadata": {
    "collapsed": false
   },
   "outputs": [],
   "source": [
    "sys.stdout.flush()\n",
    "printstuff()"
   ]
  }
 ],
 "metadata": {
  "kernelspec": {
   "display_name": "Python 2",
   "language": "python",
   "name": "python2"
  },
  "language_info": {
   "codemirror_mode": {
    "name": "ipython",
    "version": 2
   },
   "file_extension": ".py",
   "mimetype": "text/x-python",
   "name": "python",
   "nbconvert_exporter": "python",
   "pygments_lexer": "ipython2",
   "version": "2.7.13"
  }
 },
 "nbformat": 4,
 "nbformat_minor": 2
}
