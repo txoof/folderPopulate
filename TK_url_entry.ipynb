{
 "cells": [
  {
   "cell_type": "code",
   "execution_count": 2,
   "metadata": {
    "collapsed": true
   },
   "outputs": [],
   "source": [
    "from Tkinter import *"
   ]
  },
  {
   "cell_type": "code",
   "execution_count": 54,
   "metadata": {
    "collapsed": false
   },
   "outputs": [],
   "source": [
    "class myApp:\n",
    "    def __init__(self, master):\n",
    "        self.master = master\n",
    "        master.title('Student Portfolio Populator')\n",
    "        \n",
    "        self.msgReqURL = 'Paste URL for Student Portfolio folder on Google Drive'\n",
    "        self.msgOKURL = 'Student Portfolio URL accepted:'\n",
    "        self.message = self.msgReqURL\n",
    "        \n",
    "        self.portfolioURL = ''\n",
    "        \n",
    "        # set window size\n",
    "        self.master.geometry('500x300')\n",
    "#         self.label = Label(master, text = 'Paste URL for Student Portfolio')\n",
    "        self.label_text = StringVar()\n",
    "        self.label_text.set(self.message)\n",
    "        self.label = Label(master, textvariable = self.label_text)\n",
    " \n",
    "        self.submit_button = Button(master, text = 'submit', command = self.submit)\n",
    "        \n",
    "        self.quit_button = Button(master, text = 'quit', command = self.quit)\n",
    "#         vcmd = master.register(self.validate) # wrapper for command\n",
    "        self.entry = Entry(master, validate='key') #, validatecommand=(vcmd, '%P'))\n",
    "\n",
    "        \n",
    "        self.label.grid(row = 0, column = 0, columnspan=2, sticky=W)        \n",
    "        self.entry.grid(row = 2, column = 0, sticky = W+E)\n",
    "        self.submit_button.grid(row = 3, column = 0, sticky = E+W)\n",
    "        self.quit_button.grid(row = 3, column = 1, sticky = E+W)  \n",
    "        \n",
    "    def submit(self):\n",
    "        self.portfolioURL = self.entry.get()\n",
    "        print self.portfolioURL\n",
    "        if len(self.portfolioURL)==0:\n",
    "            self.message = self.msgReqURL\n",
    "        else:\n",
    "            self.message = self.msgOKURL\n",
    "        \n",
    "        self.label_text.set(self.message)\n",
    "        \n",
    "    def greet(self):\n",
    "        print('hello world')\n",
    "        \n",
    "    def quit(self):\n",
    "        self.master.destroy()\n",
    "    \n",
    "    def validate(self, text):\n",
    "\n",
    "        if not text:\n",
    "            self.portfolioURL = None\n",
    "            return(True)\n",
    "        else:\n",
    "            print text\n",
    "        \n",
    "\n",
    "root = Tk()\n",
    "my_gui = myApp(root)\n",
    "root.mainloop()"
   ]
  }
 ],
 "metadata": {
  "kernelspec": {
   "display_name": "Python 2",
   "language": "python",
   "name": "python2"
  },
  "language_info": {
   "codemirror_mode": {
    "name": "ipython",
    "version": 2
   },
   "file_extension": ".py",
   "mimetype": "text/x-python",
   "name": "python",
   "nbconvert_exporter": "python",
   "pygments_lexer": "ipython2",
   "version": "2.7.13"
  }
 },
 "nbformat": 4,
 "nbformat_minor": 2
}
