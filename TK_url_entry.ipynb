{
 "cells": [
  {
   "cell_type": "code",
   "execution_count": 2,
   "metadata": {
    "collapsed": false,
    "deletable": true,
    "editable": true
   },
   "outputs": [],
   "source": [
    "from Tkinter import *\n",
    "import tkFileDialog\n",
    "import sys\n",
    "import ConfigParser\n",
    "import os\n",
    "import logging\n",
    "import re\n",
    "from datetime import datetime"
   ]
  },
  {
   "cell_type": "code",
   "execution_count": 3,
   "metadata": {
    "collapsed": true,
    "deletable": true,
    "editable": true
   },
   "outputs": [],
   "source": [
    "# This looks great!\n",
    "# http://stackoverflow.com/questions/36604900/redirect-stdout-to-tkinter-text-widget\n",
    "\n",
    "# also this:\n",
    "# https://www.blog.pythonlibrary.org/2014/07/14/tkinter-redirecting-stdout-stderr/\n",
    "\n",
    "\n",
    "# http://stackoverflow.com/questions/14883648/redirect-output-from-python-logger-to-tkinter-widget"
   ]
  },
  {
   "cell_type": "code",
   "execution_count": 4,
   "metadata": {
    "collapsed": false,
    "deletable": true,
    "editable": true
   },
   "outputs": [],
   "source": [
    "# http://stackoverflow.com/questions/36604900/redirect-stdout-to-tkinter-text-widget\n",
    "class IORedirector(object):\n",
    "    '''A general class for redirecting I/O to this Text widget.'''\n",
    "    def __init__(self,text_area):\n",
    "        self.text_area = text_area\n",
    "        \n",
    "#     def flush(self):\n",
    "#         pass\n",
    "\n",
    "class StdoutRedirector(IORedirector):\n",
    "    '''A class for redirecting stdout to this Text widget.'''\n",
    "\n",
    "    def write(self,str):\n",
    "        self.text_area.insert(\"end\", str)\n",
    "        self.text_area.see(END)\n",
    "\n",
    "    def flush(self):\n",
    "        pass"
   ]
  },
  {
   "cell_type": "code",
   "execution_count": 82,
   "metadata": {
    "collapsed": false,
    "deletable": true,
    "editable": true
   },
   "outputs": [
    {
     "name": "stderr",
     "output_type": "stream",
     "text": [
      "Traceback (most recent call last):\n",
      "  File \"/usr/local/Cellar/python/2.7.13/Frameworks/Python.framework/Versions/2.7/lib/python2.7/logging/__init__.py\", line 882, in emit\n",
      "    stream.write(fs % msg)\n",
      "  File \"<ipython-input-4-d7b3ca8a2fa6>\", line 14, in write\n",
      "    self.text_area.insert(\"end\", str)\n",
      "  File \"/usr/local/Cellar/python/2.7.13/Frameworks/Python.framework/Versions/2.7/lib/python2.7/lib-tk/Tkinter.py\", line 3110, in insert\n",
      "    self.tk.call((self._w, 'insert', index, chars) + args)\n",
      "TclError: invalid command name \".4924520856.4425288592\"\n",
      "Logged from file <ipython-input-82-d40003cf55ce>, line 58\n"
     ]
    }
   ],
   "source": [
    "class myApp(object):\n",
    "    def __init__(self, master):\n",
    "        self.master = master\n",
    "        master.title('Student Portfolio Populator')\n",
    "\n",
    "        # get the configuration\n",
    "        # Path to configuration files\n",
    "        self.configPath = os.path.expanduser('~/.config/populate/')\n",
    "        self.configFile = os.path.join(self.configPath, 'config.ini')\n",
    "        self.getConfig()\n",
    "        \n",
    "        self.outputFile = datetime.now().strftime('Student_Data_Output_%Y%m%d-%H.%M.csv')\n",
    "        \n",
    "        self.msgReqURL = 'Paste Google Drive URL for Student Portfolio below:'\n",
    "        self.msgOKURL = 'Student Portfolio URL accepted:'\n",
    "        self.msgBadURL = 'Invalid URL format, please try again'\n",
    "        self.message = self.msgReqURL\n",
    "        \n",
    "        self.studentFile = None\n",
    "        self.studentData = None\n",
    "        \n",
    "        # launch the GUI interface\n",
    "        self.configLogging()\n",
    "        self.guiInit()\n",
    "        \n",
    "        \n",
    "# consider moving this into its own def   \n",
    "    def configLogging(self):\n",
    "        # init the log; this removes any old log handlers (this is particularly useful when testing in an IDE)\n",
    "        log = logging.getLogger()\n",
    "        logging.getLogger(\"googleapiclient\").setLevel(logging.WARNING)\n",
    "\n",
    "        # useful for removing old log handlers when developing from an IDE such as Jupyter\n",
    "        if len(log.handlers) > 0:\n",
    "            for each in range(0, len(log.handlers)):\n",
    "                log.removeHandler(log.handlers[0])\n",
    "\n",
    "\n",
    "        # set the log format\n",
    "        logFormatter = logging.Formatter('[%(levelname)8s %(asctime)s] %(message)s', '%Y-%m-%d %H:%M')\n",
    "        #consoleFormatter = logging.Formatter('[%(levelname)-8s] %(message)s')\n",
    "        consoleFormatter = logging.Formatter('[%(levelno)-3s] %(message)s')\n",
    "        # set root logger\n",
    "        self.rootLogger = logging.getLogger()       \n",
    "\n",
    "        # set the logging level for the api discovery service to \"ERROR\"\n",
    "        logging.getLogger('discovery').setLevel(logging.ERROR)\n",
    "\n",
    "\n",
    "        # add a conshole handle to the root logger\n",
    "        consoleHandler = logging.StreamHandler(sys.stdout)\n",
    "    #     consoleHandler.setFormatter(logFormatter)\n",
    "        consoleHandler.setFormatter(consoleFormatter)\n",
    "        self.rootLogger.addHandler(consoleHandler) \n",
    "\n",
    "        # Set default logging level\n",
    "        self.rootLogger.setLevel(logging.DEBUG)\n",
    "        logging.error('just kidding, no error')\n",
    "    #     rootLogger.setLevel(logging.WARNING)\n",
    "    #    rootLogger.setLevel(logging.INFO)\n",
    "\n",
    "    def guiInit(self):\n",
    "#         initiate the output window \n",
    "        self.redirector('Student Import Messages:\\n')\n",
    "\n",
    "        # set window size\n",
    "        self.master.geometry('800x400+30+30')\n",
    "#         self.label = Label(self.master, text = 'Paste URL for Student Portfolio')\n",
    "\n",
    "        self.labelURL_text = StringVar()\n",
    "        self.labelURL_text.set(self.message)\n",
    "        self.labelURL = Label(self.master, textvariable = self.labelURL_text, font = \"TkDefaultFont 0 bold\")\n",
    "\n",
    "        self.labelStuFileRow_text = StringVar()\n",
    "        self.labelStuFileRow_text.set('PowerSchool student information to import (student_export.text): ')\n",
    "        self.labelStuFileRow = Label(self.master, textvariable = self.labelStuFileRow_text, \n",
    "                                     font = \"TkDefaultFont 0 bold\")\n",
    "\n",
    "        self.labelStuFile_text = StringVar()\n",
    "        self.labelStuFile_text.set('None selected')\n",
    "        self.labelStuFile = Label(self.master, textvariable = self.labelStuFile_text)\n",
    "\n",
    "        self.labelOutpathRow_text = StringVar()\n",
    "        self.labelOutpathRow_text.set('Location to output portfolio URLs:')\n",
    "        self.labelOutpathRow = Label(self.master, textvariable = self.labelOutpathRow_text,\n",
    "                                 font = \"TkDefaultFont 0 bold\")\n",
    "        \n",
    "        self.labelOutFolder_text = StringVar()\n",
    "        self.labelOutFolder_text.set(self.outputFolder)\n",
    "        self.labelOutFolder = Label(self.master, textvariable = self.labelOutFolder_text)\n",
    "        \n",
    "        self.submit_button = Button(self.master, text = 'BEGIN FOLDER CREATION', command = self.submit)\n",
    "        self.quit_button = Button(self.master, text = 'quit', command = self.quit)\n",
    "        self.buttonStFile = Button(self.master, text = 'set student data file', command = self.studentFilePicker)\n",
    "        self.buttonOutFolder = Button(self.master, text = 'set output folder', command = self.outputFolderPicker)\n",
    "        \n",
    "        \n",
    "        self.entryURL = Entry(self.master, width = 60, validate='key') #, validatecommand=(vcmd, '%P'))\n",
    "        self.entryURL.insert(END, self.gdBaseFolder)\n",
    "\n",
    "#         # add menubar to master window\n",
    "#         menubar = Menu(self.master)\n",
    "#         self.master.config(menu=menubar)\n",
    "        \n",
    "#         filemenu = Menu(menubar)\n",
    "#         menubar.add_cascade(label='Log Level', menu=filemenu)\n",
    "\n",
    "#         filemenu.add_command(label='Errors', command = self.setLogLevel('ERROR'))\n",
    "#         filemenu.add_command(label='Warnings', command = self.setLogLevel('WARN'))\n",
    "#         filemenu.add_command(label='Info', command = self.setLogLevel('INFO'))\n",
    "#         filemenu.add_command(label='Debug', command = self.setLogLevel('DEBUG'))\n",
    "\n",
    "        \n",
    "        ############ organize the grid\n",
    "        self.labelURL.grid(row = 0, columnspan = 2, sticky=W)        \n",
    "       \n",
    "        self.entryURL.grid(row = 2, column = 0, columnspan = 2, sticky = W)\n",
    "        \n",
    "        self.labelStuFileRow.grid(row = 3, column =0, sticky = W)\n",
    "        self.labelStuFile.grid(row = 3, column = 1, sticky = W)        \n",
    "        self.buttonStFile.grid(row = 4, column = 0, sticky = W+E)\n",
    "        \n",
    "        self.labelOutpathRow.grid(row = 5, column = 0, sticky = W)\n",
    "        self.labelOutFolder.grid(row = 5, column = 1, sticky = W)\n",
    "        self.buttonOutFolder.grid(row = 6, column =0, sticky = W+E)\n",
    "        \n",
    "        self.submit_button.grid(row = 7, column = 0, sticky = W+E)\n",
    "        \n",
    "        self.quit_button.grid(row = 8, column = 0, sticky = W)  \n",
    "        \n",
    "    def setLogLevel(self, level): \n",
    "        self.loglevel = level\n",
    "        self.rootLogger.setLevel(getattr(logging, level))\n",
    "    \n",
    "    def getConfig(self):\n",
    "        '''\n",
    "        Reads configuration file and sets the following attributes:\n",
    "            self.gdBaseFolder\n",
    "            self.outputFolder\n",
    "            self.loglevel'''\n",
    "        \n",
    "        self.parser = ConfigParser.SafeConfigParser()\n",
    "        \n",
    "        # required options in the 'Main' section\n",
    "        self.mainSection = 'Main'\n",
    "        # required key: [method for getting, default value]\n",
    "        prefs = {'gdBaseFolder': [self.parser.get, 'https://drive.google.com/SAMPLE/URL/abc123zyx987'],\n",
    "                 'outputFolder': [self.parser.get, os.path.expanduser('~/Desktop/')],\n",
    "                 'loglevel': [self.parser.get, 'INFO'],\n",
    "                 'googleCreds': [self.parser.get, os.path.join(self.configPath, 'GDrive-python_creds.json')]}\n",
    "        \n",
    "        # make sure a configuration path exists\n",
    "        if len(self.parser.read(self.configFile)) <= 0:\n",
    "            logging.warn('no configuration files found at: {}'.format(self.configFile))\n",
    "            logging.debug('creating configuration files')\n",
    "            try:\n",
    "                os.makedirs(os.path.expanduser(self.configPath))\n",
    "            except OSError as e:\n",
    "                if e.errno != 17:\n",
    "                    logging.critical(e)\n",
    "                    sys.exit(1)\n",
    "        \n",
    "        # make sure there is a main section\n",
    "        if not self.parser.has_section(self.mainSection):\n",
    "            self.parser.add_section(self.mainSection)\n",
    "        \n",
    "        self.preferences = {}\n",
    "        \n",
    "        # read search for the expected preferences in the configuration file\n",
    "        # note which are missing and set to the default values above\n",
    "        for key in prefs:\n",
    "            try:\n",
    "                self.preferences[key] = prefs[key][0](self.mainSection, key)\n",
    "            except (ConfigParser.NoSectionError, ConfigParser.NoOptionError):\n",
    "                self.parser.set(self.mainSection, key, prefs[key][1])\n",
    "                self.preferences[key] = prefs[key][1]\n",
    "        \n",
    "        self.gdBaseFolder = self.preferences['gdBaseFolder']\n",
    "        self.outputFolder = self.preferences['outputFolder']\n",
    "        self.loglevel = self.preferences['loglevel']\n",
    "        self.googleCreds = self.preferences['googleCreds']\n",
    "        \n",
    "        \n",
    "    def outputFolderPicker(self):\n",
    "        try:\n",
    "            folder = tkFileDialog.askdirectory(title = 'Choose output folder')\n",
    "\n",
    "        except (IOError, OSError) as e:\n",
    "            print e\n",
    "            return(False)\n",
    "        \n",
    " \n",
    "        if len(folder) > 0:\n",
    "            self.outputFolder = folder\n",
    "            self.labelOutFolder_text.set(self.outputFolder)        \n",
    "    \n",
    "    def studentFilePicker(self):\n",
    "        try:\n",
    "            self.studentFile = tkFileDialog.askopenfile(mode='r', title='Choose exported student data')\n",
    "        except (IOError, OSError) as e:\n",
    "            print e\n",
    "            return(False)\n",
    "        \n",
    "        \n",
    "        try:\n",
    "            self.studentData = self.studentFile.read()\n",
    "            self.labelStuFile_text.set(self.studentFile.name)\n",
    "            print self.studentData\n",
    "        except AttributeError:\n",
    "            pass\n",
    "        \n",
    "        return(True)\n",
    "    \n",
    "#     def spawnNew(self):\n",
    "#         win = Toplevel()\n",
    "#         win.title('stuff')\n",
    "#         message = Message(win, text =\"some more stuff\")\n",
    "#         message.pack()\n",
    "\n",
    "    def redirector(self, inputStr=\"\"):\n",
    "        wX = 800\n",
    "        wY = 600\n",
    "        geometry = '{}x{}+40+350'.format(wX, wY)\n",
    "        import sys\n",
    "        root = Toplevel()\n",
    "#         root.lift()\n",
    "        root.geometry(geometry)\n",
    "        T = Text(root, font = 'Courier 14', foreground='white', width = wX, height = wY)\n",
    "        T.config(background='black')\n",
    "        sys.stdout = StdoutRedirector(T)\n",
    "        T.pack()\n",
    "        T.insert(END, inputStr)\n",
    "        \n",
    "    def submit(self):\n",
    "        logging.error('starting submission procedure')\n",
    "        # check for a valid URL format\n",
    "        urlRegex = re.compile(\n",
    "        r'^(?:http|ftp)s?://' # http:// or https://\n",
    "        r'(?:(?:[A-Z0-9](?:[A-Z0-9-]{0,61}[A-Z0-9])?\\.)+(?:[A-Z]{2,6}\\.?|[A-Z0-9-]{2,}\\.?)|' #domain...\n",
    "        r'localhost|' #localhost...\n",
    "        r'\\d{1,3}\\.\\d{1,3}\\.\\d{1,3}\\.\\d{1,3})' # ...or ip\n",
    "        r'(?::\\d+)?' # optional port\n",
    "        r'(?:/?|[/?]\\S+)$', re.IGNORECASE)\n",
    "        \n",
    "        # spawn a text window for output\n",
    "        if re.match(urlRegex, self.entryURL.get()): \n",
    "            self.portfolioURL = self.entryURL.get()\n",
    "            \n",
    "            self.message = self.msgOKURL\n",
    "        else: \n",
    "            self.portfolioURL = ''\n",
    "            self.message = self.msgBadURL        \n",
    "        \n",
    "        self.labelURL_text.set(self.message)\n",
    "        \n",
    "        self.parser.set(self.mainSection, 'gdBaseFolder', self.portfolioURL)\n",
    "        self.parser.set(self.mainSection, 'outputFolder', self.outputFolder)        \n",
    "        \n",
    "        # write configuration file\n",
    "        logging.debug('writing configuration to file: {}'.format(self.configFile))\n",
    "        try:\n",
    "            self.parser.write(open(self.configFile, 'w'))\n",
    "        except Exception as e:\n",
    "            logging.error('Error writing configuration file: {}'.format(e))\n",
    "        \n",
    "        \n",
    "        # kick off actual task \n",
    "        # gDrivePopulate(base folder url, path to credentials etc.)\n",
    "            \n",
    "        \n",
    "    def greet(self):\n",
    "        print('hello world')\n",
    "        \n",
    "    def quit(self):\n",
    "        self.master.destroy()\n",
    "\n",
    "root = Tk()\n",
    "my_gui = myApp(root)\n",
    "root.mainloop()\n",
    "sys.stdout.flush()"
   ]
  },
  {
   "cell_type": "code",
   "execution_count": null,
   "metadata": {
    "collapsed": true
   },
   "outputs": [],
   "source": []
  },
  {
   "cell_type": "code",
   "execution_count": 7,
   "metadata": {
    "collapsed": false,
    "deletable": true,
    "editable": true
   },
   "outputs": [],
   "source": [
    "my_gui.getConfig()\n"
   ]
  },
  {
   "cell_type": "code",
   "execution_count": null,
   "metadata": {
    "collapsed": false,
    "deletable": true,
    "editable": true
   },
   "outputs": [],
   "source": [
    "my_gui.parser.read(my_gui.configFile)"
   ]
  },
  {
   "cell_type": "code",
   "execution_count": 6,
   "metadata": {
    "collapsed": false,
    "deletable": true,
    "editable": true
   },
   "outputs": [],
   "source": [
    "my_gui.parser.set('Main', 'basefolder', 'https://drive.google.com/drive/folders/0B9WTleJ1MzaYcmdmTWNNNF9pa1E')\n",
    "#my_gui.configfile = os.path.expanduser('~/.prefs/populate/')\n",
    "#my_gui.parser.write(open(my_gui.configfile, 'w'))"
   ]
  },
  {
   "cell_type": "code",
   "execution_count": null,
   "metadata": {
    "collapsed": true,
    "deletable": true,
    "editable": true
   },
   "outputs": [],
   "source": []
  },
  {
   "cell_type": "code",
   "execution_count": null,
   "metadata": {
    "collapsed": false,
    "deletable": true,
    "editable": true
   },
   "outputs": [],
   "source": [
    "prefsPath = '~/.prefs/populate/'\n",
    "try:\n",
    "    os.makedirs(os.path.expanduser(prefsPath))\n",
    "except OSError as e:\n",
    "    if e.errno != 17:\n",
    "        print e\n",
    "    "
   ]
  },
  {
   "cell_type": "code",
   "execution_count": null,
   "metadata": {
    "collapsed": false,
    "deletable": true,
    "editable": true
   },
   "outputs": [],
   "source": [
    "import errno\n",
    "errno.errorcode.keys()\n",
    "errno.errorcode"
   ]
  },
  {
   "cell_type": "code",
   "execution_count": null,
   "metadata": {
    "collapsed": true,
    "deletable": true,
    "editable": true
   },
   "outputs": [],
   "source": [
    "root.mainloop()\n",
    "sys.stdout.flush()"
   ]
  },
  {
   "cell_type": "code",
   "execution_count": null,
   "metadata": {
    "collapsed": false,
    "deletable": true,
    "editable": true
   },
   "outputs": [],
   "source": [
    "my_gui.labelURL.cget()"
   ]
  },
  {
   "cell_type": "code",
   "execution_count": null,
   "metadata": {
    "collapsed": false,
    "deletable": true,
    "editable": true
   },
   "outputs": [],
   "source": [
    "sys.stdout.flush()\n",
    "printstuff()"
   ]
  },
  {
   "cell_type": "code",
   "execution_count": null,
   "metadata": {
    "collapsed": true,
    "deletable": true,
    "editable": true
   },
   "outputs": [],
   "source": [
    "import re"
   ]
  },
  {
   "cell_type": "code",
   "execution_count": null,
   "metadata": {
    "collapsed": true,
    "deletable": true,
    "editable": true
   },
   "outputs": [],
   "source": [
    "urlRegex = re.compile(\n",
    "        r'^(?:http|ftp)s?://' # http:// or https://\n",
    "        r'(?:(?:[A-Z0-9](?:[A-Z0-9-]{0,61}[A-Z0-9])?\\.)+(?:[A-Z]{2,6}\\.?|[A-Z0-9-]{2,}\\.?)|' #domain...\n",
    "        r'localhost|' #localhost...\n",
    "        r'\\d{1,3}\\.\\d{1,3}\\.\\d{1,3}\\.\\d{1,3})' # ...or ip\n",
    "        r'(?::\\d+)?' # optional port\n",
    "        r'(?:/?|[/?]\\S+)$', re.IGNORECASE)"
   ]
  },
  {
   "cell_type": "code",
   "execution_count": 67,
   "metadata": {
    "collapsed": false,
    "deletable": true,
    "editable": true
   },
   "outputs": [
    {
     "ename": "NameError",
     "evalue": "name 'regex' is not defined",
     "output_type": "error",
     "traceback": [
      "\u001b[0;31m---------------------------------------------------------------------------\u001b[0m",
      "\u001b[0;31mNameError\u001b[0m                                 Traceback (most recent call last)",
      "\u001b[0;32m<ipython-input-67-1bde924b7e5c>\u001b[0m in \u001b[0;36m<module>\u001b[0;34m()\u001b[0m\n\u001b[1;32m      1\u001b[0m \u001b[0mstring\u001b[0m \u001b[0;34m=\u001b[0m \u001b[0;34m'ftp://google.gu'\u001b[0m\u001b[0;34m\u001b[0m\u001b[0m\n\u001b[0;32m----> 2\u001b[0;31m \u001b[0;32mif\u001b[0m \u001b[0mre\u001b[0m\u001b[0;34m.\u001b[0m\u001b[0mmatch\u001b[0m\u001b[0;34m(\u001b[0m\u001b[0mregex\u001b[0m\u001b[0;34m,\u001b[0m \u001b[0mstring\u001b[0m\u001b[0;34m)\u001b[0m\u001b[0;34m:\u001b[0m\u001b[0;34m\u001b[0m\u001b[0m\n\u001b[0m\u001b[1;32m      3\u001b[0m     \u001b[0;32mprint\u001b[0m \u001b[0;34m'ok!'\u001b[0m\u001b[0;34m\u001b[0m\u001b[0m\n\u001b[1;32m      4\u001b[0m \u001b[0;32melse\u001b[0m\u001b[0;34m:\u001b[0m\u001b[0;34m\u001b[0m\u001b[0m\n\u001b[1;32m      5\u001b[0m     \u001b[0;32mprint\u001b[0m \u001b[0;34m'crap'\u001b[0m\u001b[0;34m\u001b[0m\u001b[0m\n",
      "\u001b[0;31mNameError\u001b[0m: name 'regex' is not defined"
     ]
    }
   ],
   "source": [
    "string = 'ftp://google.gu'\n",
    "if re.match(regex, string):\n",
    "    print 'ok!'\n",
    "else:\n",
    "    print 'crap'"
   ]
  },
  {
   "cell_type": "code",
   "execution_count": 74,
   "metadata": {
    "collapsed": false
   },
   "outputs": [
    {
     "ename": "AttributeError",
     "evalue": "'module' object has no attribute 'foo'",
     "output_type": "error",
     "traceback": [
      "\u001b[0;31m---------------------------------------------------------------------------\u001b[0m",
      "\u001b[0;31mAttributeError\u001b[0m                            Traceback (most recent call last)",
      "\u001b[0;32m<ipython-input-74-86cba7496a8b>\u001b[0m in \u001b[0;36m<module>\u001b[0;34m()\u001b[0m\n\u001b[1;32m      1\u001b[0m \u001b[0mlogger\u001b[0m \u001b[0;34m=\u001b[0m\u001b[0mlogging\u001b[0m\u001b[0;34m.\u001b[0m\u001b[0mgetLogger\u001b[0m\u001b[0;34m(\u001b[0m\u001b[0;34m)\u001b[0m\u001b[0;34m\u001b[0m\u001b[0m\n\u001b[0;32m----> 2\u001b[0;31m \u001b[0mlogger\u001b[0m\u001b[0;34m.\u001b[0m\u001b[0msetLevel\u001b[0m\u001b[0;34m(\u001b[0m\u001b[0mgetattr\u001b[0m\u001b[0;34m(\u001b[0m\u001b[0mlogging\u001b[0m\u001b[0;34m,\u001b[0m \u001b[0;34m'foo'\u001b[0m\u001b[0;34m)\u001b[0m\u001b[0;34m)\u001b[0m\u001b[0;34m\u001b[0m\u001b[0m\n\u001b[0m",
      "\u001b[0;31mAttributeError\u001b[0m: 'module' object has no attribute 'foo'"
     ]
    }
   ],
   "source": [
    "logger =logging.getLogger()\n",
    "logger.setLevel(getattr(logging, 'foo'))\n"
   ]
  }
 ],
 "metadata": {
  "kernelspec": {
   "display_name": "Python 2",
   "language": "python",
   "name": "python2"
  },
  "language_info": {
   "codemirror_mode": {
    "name": "ipython",
    "version": 2
   },
   "file_extension": ".py",
   "mimetype": "text/x-python",
   "name": "python",
   "nbconvert_exporter": "python",
   "pygments_lexer": "ipython2",
   "version": "2.7.13"
  }
 },
 "nbformat": 4,
 "nbformat_minor": 2
}
