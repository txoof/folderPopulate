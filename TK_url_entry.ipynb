{
 "cells": [
  {
   "cell_type": "code",
   "execution_count": 3,
   "metadata": {
    "collapsed": true,
    "deletable": true,
    "editable": true
   },
   "outputs": [],
   "source": [
    "from Tkinter import *\n",
    "import tkFileDialog\n",
    "import sys"
   ]
  },
  {
   "cell_type": "code",
   "execution_count": null,
   "metadata": {
    "collapsed": true
   },
   "outputs": [],
   "source": [
    "# This looks great!\n",
    "# http://stackoverflow.com/questions/36604900/redirect-stdout-to-tkinter-text-widget\n",
    "\n",
    "\n",
    "# http://stackoverflow.com/questions/14883648/redirect-output-from-python-logger-to-tkinter-widget"
   ]
  },
  {
   "cell_type": "code",
   "execution_count": 4,
   "metadata": {
    "collapsed": false,
    "deletable": true,
    "editable": true
   },
   "outputs": [],
   "source": [
    "class myApp(object):\n",
    "    def __init__(self, master, portfolioURL = 'https ://drive.google.com/example/abc123xyz987'):\n",
    "        self.master = master\n",
    "        master.title('Student Portfolio Populator')\n",
    "        \n",
    "        self.msgReqURL = 'Paste Google Drive URL for Student Portfolio below:'\n",
    "        self.msgOKURL = 'Student Portfolio URL accepted:'\n",
    "        self.message = self.msgReqURL\n",
    "        \n",
    "        self.portfolioURL = portfolioURL #'https://drive.google.com/'\n",
    "        self.studentFile = None\n",
    "        self.studentData = None\n",
    "        \n",
    "        self.counter = 0\n",
    "        \n",
    "        self.file_opt = options = {}\n",
    "        options['defaultextension'] = '*.csv'\n",
    "        options['filetypes'] = [('All', '.py')]\n",
    "        options['parent'] = root\n",
    "        \n",
    "        \n",
    "        # set window size\n",
    "        self.master.geometry('800x400+30+30')\n",
    "#         self.label = Label(self.master, text = 'Paste URL for Student Portfolio')\n",
    "        \n",
    "        self.labelURL_text = StringVar()\n",
    "        self.labelURL_text.set(self.message)\n",
    "        self.labelURL = Label(self.master, textvariable = self.labelURL_text, font = \"TkDefaultFont 0 bold\")\n",
    " \n",
    "        self.labelStuFileRow_text = StringVar()\n",
    "        self.labelStuFileRow_text.set('Student File: ')\n",
    "        self.labelStuFileRow = Label(self.master, textvariable = self.labelStuFileRow_text, \n",
    "                                     font = \"TkDefaultFont 0 bold\")\n",
    "        \n",
    "        self.labelStuFile_text = StringVar()\n",
    "        self.labelStuFile_text.set('None selected')\n",
    "        self.labelStuFile = Label(self.master, textvariable = self.labelStuFile_text)\n",
    "    \n",
    "        self.submit_button = Button(self.master, text = 'submit', command = self.submit)\n",
    "        self.quit_button = Button(self.master, text = 'quit', command = self.quit)\n",
    "        self.buttonStFile = Button(self.master, text = 'set student data file', command = self.studentFilePicker)\n",
    "        \n",
    "#         vcmd = master.register(self.validate) # wrapper for command\n",
    "        self.entryURL = Entry(self.master, width = 60, validate='key') #, validatecommand=(vcmd, '%P'))\n",
    "        self.entryURL.insert(END, self.portfolioURL)\n",
    "\n",
    "        self.labelURL.grid(row = 0, columnspan = 2, sticky=W)        \n",
    "        self.entryURL.grid(row = 2, column = 0, columnspan = 2, sticky = W)\n",
    "        self.labelStuFileRow.grid(row = 3, column =0, sticky = W)\n",
    "        self.labelStuFile.grid(row = 3, column = 1, sticky = W)\n",
    "        self.buttonStFile.grid(row = 4, column = 0, sticky = W)\n",
    "        self.submit_button.grid(row = 5, column = 0, sticky = W)\n",
    "        self.quit_button.grid(row = 6, column = 0, sticky = W)  \n",
    "        \n",
    "        self.master.deiconify()\n",
    "        \n",
    "    def studentFilePicker(self):\n",
    "        try:\n",
    "            self.studentFile = tkFileDialog.askopenfile(mode='r', title='Choose exported student data')\n",
    "        except (IOError, OSError) as e:\n",
    "            print e\n",
    "            return(False)\n",
    "        \n",
    "        \n",
    "        try:\n",
    "            self.studentData = self.studentFile.read()\n",
    "            self.labelStuFile_text.set(self.studentFile.name)\n",
    "            print self.studentData\n",
    "        except AttributeError:\n",
    "            pass\n",
    "        \n",
    "        return(True)\n",
    "    \n",
    "    def spawnNew(self):\n",
    "        win = Toplevel()\n",
    "        win.title('stuff')\n",
    "        message = Message(win, text =\"some more stuff\")\n",
    "        message.pack()\n",
    "\n",
    "\n",
    "        \n",
    "    def submit(self):\n",
    "        self.portfolioURL = self.entryURL.get()\n",
    "        print self.portfolioURL\n",
    "        if len(self.portfolioURL)==0:\n",
    "            self.message = self.msgReqURL\n",
    "        else:\n",
    "            # add a check for a valid url here\n",
    "            self.message = self.msgOKURL\n",
    "        \n",
    "        self.labelURL_text.set(self.message)\n",
    "        \n",
    "        # spawn a text window for the output from the folder creation application\n",
    "        #         self.spawnNew()\n",
    "        \n",
    "    def greet(self):\n",
    "        print('hello world')\n",
    "        \n",
    "    def quit(self):\n",
    "        self.master.destroy()\n",
    "\n",
    "root = Tk()\n",
    "my_gui = myApp(root)\n",
    "root.mainloop()"
   ]
  },
  {
   "cell_type": "code",
   "execution_count": 7,
   "metadata": {
    "collapsed": false
   },
   "outputs": [],
   "source": []
  },
  {
   "cell_type": "code",
   "execution_count": null,
   "metadata": {
    "collapsed": false
   },
   "outputs": [],
   "source": [
    "from Tkinter import Tk"
   ]
  },
  {
   "cell_type": "code",
   "execution_count": null,
   "metadata": {
    "collapsed": false
   },
   "outputs": [],
   "source": [
    "Text()"
   ]
  },
  {
   "cell_type": "code",
   "execution_count": null,
   "metadata": {
    "collapsed": false,
    "deletable": true,
    "editable": true
   },
   "outputs": [],
   "source": []
  },
  {
   "cell_type": "code",
   "execution_count": null,
   "metadata": {
    "collapsed": false
   },
   "outputs": [],
   "source": [
    "my_gui.labelURL.cget()"
   ]
  }
 ],
 "metadata": {
  "kernelspec": {
   "display_name": "Python 2",
   "language": "python",
   "name": "python2"
  },
  "language_info": {
   "codemirror_mode": {
    "name": "ipython",
    "version": 2
   },
   "file_extension": ".py",
   "mimetype": "text/x-python",
   "name": "python",
   "nbconvert_exporter": "python",
   "pygments_lexer": "ipython2",
   "version": "2.7.13"
  }
 },
 "nbformat": 4,
 "nbformat_minor": 2
}
