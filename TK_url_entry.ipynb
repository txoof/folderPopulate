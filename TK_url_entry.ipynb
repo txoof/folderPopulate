{
 "cells": [
  {
   "cell_type": "code",
   "execution_count": 1,
   "metadata": {
    "collapsed": true,
    "deletable": true,
    "editable": true
   },
   "outputs": [],
   "source": [
    "from Tkinter import *\n",
    "import tkFileDialog"
   ]
  },
  {
   "cell_type": "code",
   "execution_count": 15,
   "metadata": {
    "collapsed": false,
    "deletable": true,
    "editable": true
   },
   "outputs": [
    {
     "name": "stdout",
     "output_type": "stream",
     "text": [
      "None\n"
     ]
    }
   ],
   "source": [
    "class myApp:\n",
    "    def __init__(self, master):\n",
    "        self.master = master\n",
    "        master.title('Student Portfolio Populator')\n",
    "        \n",
    "        self.msgReqURL = 'Paste URL for Student Portfolio folder on Google Drive'\n",
    "        self.msgOKURL = 'Student Portfolio URL accepted:'\n",
    "        self.message = self.msgReqURL\n",
    "        \n",
    "        self.portfolioURL = ''\n",
    "        \n",
    "        self.file_opt = options = {}\n",
    "        options['defaultextension'] = '*.csv'\n",
    "        options['filetypes'] = [('All files', '*')]\n",
    "        options['parent'] = root\n",
    "        \n",
    "        \n",
    "        # set window size\n",
    "        self.master.geometry('500x300')\n",
    "#         self.label = Label(master, text = 'Paste URL for Student Portfolio')\n",
    "        self.label_text = StringVar()\n",
    "        self.label_text.set(self.message)\n",
    "        self.label = Label(master, textvariable = self.label_text)\n",
    " \n",
    "        self.submit_button = Button(master, text = 'submit', command = self.submit)\n",
    "        self.quit_button = Button(master, text = 'quit', command = self.quit)\n",
    "        self.buttonStFile = Button(master, text = 'student data file', command = self.studentFilePicker)\n",
    "        \n",
    "#         vcmd = master.register(self.validate) # wrapper for command\n",
    "        self.entryURL = Entry(master, width = 50, validate='key') #, validatecommand=(vcmd, '%P'))\n",
    "\n",
    "        \n",
    "        self.label.grid(row = 0, column = 0, columnspan=2, sticky=W)        \n",
    "        self.entryURL.grid(row = 2, columnspan = 30, sticky = W+E)\n",
    "        self.buttonStFile.grid(row = 3, column = 0)\n",
    "        self.submit_button.grid(row = 4, column = 0, sticky = E+W)\n",
    "        self.quit_button.grid(row = 4, column = 1, sticky = E+W)  \n",
    "        \n",
    "    def studentFilePicker(self):\n",
    "        self.studentFile = tkFileDialog.askopenfile(mode='r', **self.file_opt)\n",
    "        print self.studentFile\n",
    "        \n",
    "    def submit(self):\n",
    "        self.portfolioURL = self.entryURL.get()\n",
    "        print self.portfolioURL\n",
    "        if len(self.portfolioURL)==0:\n",
    "            self.message = self.msgReqURL\n",
    "        else:\n",
    "            self.message = self.msgOKURL\n",
    "        \n",
    "        self.label_text.set(self.message)\n",
    "        \n",
    "    def greet(self):\n",
    "        print('hello world')\n",
    "        \n",
    "    def quit(self):\n",
    "        self.master.destroy()\n",
    "    \n",
    "    def validate(self, text):\n",
    "\n",
    "        if not text:\n",
    "            self.portfolioURL = None\n",
    "            return(True)\n",
    "        else:\n",
    "            print text\n",
    "        \n",
    "\n",
    "root = Tk()\n",
    "my_gui = myApp(root)\n",
    "root.mainloop()"
   ]
  },
  {
   "cell_type": "code",
   "execution_count": 10,
   "metadata": {
    "collapsed": true
   },
   "outputs": [],
   "source": []
  }
 ],
 "metadata": {
  "kernelspec": {
   "display_name": "Python 2",
   "language": "python",
   "name": "python2"
  },
  "language_info": {
   "codemirror_mode": {
    "name": "ipython",
    "version": 2
   },
   "file_extension": ".py",
   "mimetype": "text/x-python",
   "name": "python",
   "nbconvert_exporter": "python",
   "pygments_lexer": "ipython2",
   "version": "2.7.13"
  }
 },
 "nbformat": 4,
 "nbformat_minor": 2
}
